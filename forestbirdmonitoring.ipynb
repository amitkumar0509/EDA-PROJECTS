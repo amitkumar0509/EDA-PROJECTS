{
 "cells": [
  {
   "cell_type": "code",
   "execution_count": 13,
   "id": "fc55ba65-a39b-4af8-a49c-f8de1b17d602",
   "metadata": {
    "panel-layout": {
     "height": 5585.33349609375,
     "visible": true,
     "width": 100
    }
   },
   "outputs": [
    {
     "name": "stderr",
     "output_type": "stream",
     "text": [
      "C:\\Users\\kumar\\AppData\\Local\\Temp\\ipykernel_20492\\3008544703.py:13: FutureWarning:\n",
      "\n",
      "The behavior of DataFrame concatenation with empty or all-NA entries is deprecated. In a future version, this will no longer exclude empty or all-NA columns when determining the result dtypes. To retain the old behavior, exclude the relevant entries before the concat operation.\n",
      "\n"
     ]
    },
    {
     "data": {
      "application/vnd.plotly.v1+json": {
       "config": {
        "plotlyServerURL": "https://plot.ly"
       },
       "data": [],
       "layout": {
        "autosize": true,
        "barmode": "group",
        "legend": {
         "tracegroupgap": 0
        },
        "template": {
         "data": {
          "candlestick": [
           {
            "decreasing": {
             "line": {
              "color": "#000033"
             }
            },
            "increasing": {
             "line": {
              "color": "#000032"
             }
            },
            "type": "candlestick"
           }
          ],
          "contour": [
           {
            "colorscale": [
             [
              0,
              "#000011"
             ],
             [
              0.1111111111111111,
              "#000012"
             ],
             [
              0.2222222222222222,
              "#000013"
             ],
             [
              0.3333333333333333,
              "#000014"
             ],
             [
              0.4444444444444444,
              "#000015"
             ],
             [
              0.5555555555555556,
              "#000016"
             ],
             [
              0.6666666666666666,
              "#000017"
             ],
             [
              0.7777777777777778,
              "#000018"
             ],
             [
              0.8888888888888888,
              "#000019"
             ],
             [
              1,
              "#000020"
             ]
            ],
            "type": "contour"
           }
          ],
          "contourcarpet": [
           {
            "colorscale": [
             [
              0,
              "#000011"
             ],
             [
              0.1111111111111111,
              "#000012"
             ],
             [
              0.2222222222222222,
              "#000013"
             ],
             [
              0.3333333333333333,
              "#000014"
             ],
             [
              0.4444444444444444,
              "#000015"
             ],
             [
              0.5555555555555556,
              "#000016"
             ],
             [
              0.6666666666666666,
              "#000017"
             ],
             [
              0.7777777777777778,
              "#000018"
             ],
             [
              0.8888888888888888,
              "#000019"
             ],
             [
              1,
              "#000020"
             ]
            ],
            "type": "contourcarpet"
           }
          ],
          "heatmap": [
           {
            "colorscale": [
             [
              0,
              "#000011"
             ],
             [
              0.1111111111111111,
              "#000012"
             ],
             [
              0.2222222222222222,
              "#000013"
             ],
             [
              0.3333333333333333,
              "#000014"
             ],
             [
              0.4444444444444444,
              "#000015"
             ],
             [
              0.5555555555555556,
              "#000016"
             ],
             [
              0.6666666666666666,
              "#000017"
             ],
             [
              0.7777777777777778,
              "#000018"
             ],
             [
              0.8888888888888888,
              "#000019"
             ],
             [
              1,
              "#000020"
             ]
            ],
            "type": "heatmap"
           }
          ],
          "histogram2d": [
           {
            "colorscale": [
             [
              0,
              "#000011"
             ],
             [
              0.1111111111111111,
              "#000012"
             ],
             [
              0.2222222222222222,
              "#000013"
             ],
             [
              0.3333333333333333,
              "#000014"
             ],
             [
              0.4444444444444444,
              "#000015"
             ],
             [
              0.5555555555555556,
              "#000016"
             ],
             [
              0.6666666666666666,
              "#000017"
             ],
             [
              0.7777777777777778,
              "#000018"
             ],
             [
              0.8888888888888888,
              "#000019"
             ],
             [
              1,
              "#000020"
             ]
            ],
            "type": "histogram2d"
           }
          ],
          "icicle": [
           {
            "textfont": {
             "color": "white"
            },
            "type": "icicle"
           }
          ],
          "sankey": [
           {
            "textfont": {
             "color": "#000036"
            },
            "type": "sankey"
           }
          ],
          "scatter": [
           {
            "marker": {
             "line": {
              "width": 0
             }
            },
            "type": "scatter"
           }
          ],
          "table": [
           {
            "cells": {
             "fill": {
              "color": "#000038"
             },
             "font": {
              "color": "#000037"
             },
             "line": {
              "color": "#000039"
             }
            },
            "header": {
             "fill": {
              "color": "#000040"
             },
             "font": {
              "color": "#000036"
             },
             "line": {
              "color": "#000039"
             }
            },
            "type": "table"
           }
          ],
          "waterfall": [
           {
            "connector": {
             "line": {
              "color": "#000036",
              "width": 2
             }
            },
            "decreasing": {
             "marker": {
              "color": "#000033"
             }
            },
            "increasing": {
             "marker": {
              "color": "#000032"
             }
            },
            "totals": {
             "marker": {
              "color": "#000034"
             }
            },
            "type": "waterfall"
           }
          ]
         },
         "layout": {
          "coloraxis": {
           "colorscale": [
            [
             0,
             "#000011"
            ],
            [
             0.1111111111111111,
             "#000012"
            ],
            [
             0.2222222222222222,
             "#000013"
            ],
            [
             0.3333333333333333,
             "#000014"
            ],
            [
             0.4444444444444444,
             "#000015"
            ],
            [
             0.5555555555555556,
             "#000016"
            ],
            [
             0.6666666666666666,
             "#000017"
            ],
            [
             0.7777777777777778,
             "#000018"
            ],
            [
             0.8888888888888888,
             "#000019"
            ],
            [
             1,
             "#000020"
            ]
           ]
          },
          "colorscale": {
           "diverging": [
            [
             0,
             "#000021"
            ],
            [
             0.1,
             "#000022"
            ],
            [
             0.2,
             "#000023"
            ],
            [
             0.3,
             "#000024"
            ],
            [
             0.4,
             "#000025"
            ],
            [
             0.5,
             "#000026"
            ],
            [
             0.6,
             "#000027"
            ],
            [
             0.7,
             "#000028"
            ],
            [
             0.8,
             "#000029"
            ],
            [
             0.9,
             "#000030"
            ],
            [
             1,
             "#000031"
            ]
           ],
           "sequential": [
            [
             0,
             "#000011"
            ],
            [
             0.1111111111111111,
             "#000012"
            ],
            [
             0.2222222222222222,
             "#000013"
            ],
            [
             0.3333333333333333,
             "#000014"
            ],
            [
             0.4444444444444444,
             "#000015"
            ],
            [
             0.5555555555555556,
             "#000016"
            ],
            [
             0.6666666666666666,
             "#000017"
            ],
            [
             0.7777777777777778,
             "#000018"
            ],
            [
             0.8888888888888888,
             "#000019"
            ],
            [
             1,
             "#000020"
            ]
           ],
           "sequentialminus": [
            [
             0,
             "#000011"
            ],
            [
             0.1111111111111111,
             "#000012"
            ],
            [
             0.2222222222222222,
             "#000013"
            ],
            [
             0.3333333333333333,
             "#000014"
            ],
            [
             0.4444444444444444,
             "#000015"
            ],
            [
             0.5555555555555556,
             "#000016"
            ],
            [
             0.6666666666666666,
             "#000017"
            ],
            [
             0.7777777777777778,
             "#000018"
            ],
            [
             0.8888888888888888,
             "#000019"
            ],
            [
             1,
             "#000020"
            ]
           ]
          },
          "colorway": [
           "#000001",
           "#000002",
           "#000003",
           "#000004",
           "#000005",
           "#000006",
           "#000007",
           "#000008",
           "#000009",
           "#000010"
          ]
         }
        },
        "title": {
         "text": "Observations by Month Across Habitats"
        },
        "xaxis": {
         "anchor": "y",
         "autorange": true,
         "domain": [
          0,
          1
         ],
         "range": [
          -1,
          6
         ],
         "title": {
          "text": "Month of Year"
         }
        },
        "yaxis": {
         "anchor": "x",
         "autorange": true,
         "domain": [
          0,
          1
         ],
         "range": [
          -1,
          4
         ],
         "title": {
          "text": "Observation_Count"
         }
        }
       }
      },
      "image/png": "[encoded data removed]",
      "text/html": [
       "<div>                            <div id=\"7329fe15-fd4b-4bc5-9be9-eb491f01d5d0\" class=\"plotly-graph-div\" style=\"height:525px; width:100%;\"></div>            <script type=\"text/javascript\">                require([\"plotly\"], function(Plotly) {                    window.PLOTLYENV=window.PLOTLYENV || {};                                    if (document.getElementById(\"7329fe15-fd4b-4bc5-9be9-eb491f01d5d0\")) {                    Plotly.newPlot(                        \"7329fe15-fd4b-4bc5-9be9-eb491f01d5d0\",                        [],                        {\"template\":{\"data\":{\"candlestick\":[{\"decreasing\":{\"line\":{\"color\":\"#000033\"}},\"increasing\":{\"line\":{\"color\":\"#000032\"}},\"type\":\"candlestick\"}],\"contourcarpet\":[{\"colorscale\":[[0.0,\"#000011\"],[0.1111111111111111,\"#000012\"],[0.2222222222222222,\"#000013\"],[0.3333333333333333,\"#000014\"],[0.4444444444444444,\"#000015\"],[0.5555555555555556,\"#000016\"],[0.6666666666666666,\"#000017\"],[0.7777777777777778,\"#000018\"],[0.8888888888888888,\"#000019\"],[1.0,\"#000020\"]],\"type\":\"contourcarpet\"}],\"contour\":[{\"colorscale\":[[0.0,\"#000011\"],[0.1111111111111111,\"#000012\"],[0.2222222222222222,\"#000013\"],[0.3333333333333333,\"#000014\"],[0.4444444444444444,\"#000015\"],[0.5555555555555556,\"#000016\"],[0.6666666666666666,\"#000017\"],[0.7777777777777778,\"#000018\"],[0.8888888888888888,\"#000019\"],[1.0,\"#000020\"]],\"type\":\"contour\"}],\"heatmap\":[{\"colorscale\":[[0.0,\"#000011\"],[0.1111111111111111,\"#000012\"],[0.2222222222222222,\"#000013\"],[0.3333333333333333,\"#000014\"],[0.4444444444444444,\"#000015\"],[0.5555555555555556,\"#000016\"],[0.6666666666666666,\"#000017\"],[0.7777777777777778,\"#000018\"],[0.8888888888888888,\"#000019\"],[1.0,\"#000020\"]],\"type\":\"heatmap\"}],\"histogram2d\":[{\"colorscale\":[[0.0,\"#000011\"],[0.1111111111111111,\"#000012\"],[0.2222222222222222,\"#000013\"],[0.3333333333333333,\"#000014\"],[0.4444444444444444,\"#000015\"],[0.5555555555555556,\"#000016\"],[0.6666666666666666,\"#000017\"],[0.7777777777777778,\"#000018\"],[0.8888888888888888,\"#000019\"],[1.0,\"#000020\"]],\"type\":\"histogram2d\"}],\"icicle\":[{\"textfont\":{\"color\":\"white\"},\"type\":\"icicle\"}],\"sankey\":[{\"textfont\":{\"color\":\"#000036\"},\"type\":\"sankey\"}],\"scatter\":[{\"marker\":{\"line\":{\"width\":0}},\"type\":\"scatter\"}],\"table\":[{\"cells\":{\"fill\":{\"color\":\"#000038\"},\"font\":{\"color\":\"#000037\"},\"line\":{\"color\":\"#000039\"}},\"header\":{\"fill\":{\"color\":\"#000040\"},\"font\":{\"color\":\"#000036\"},\"line\":{\"color\":\"#000039\"}},\"type\":\"table\"}],\"waterfall\":[{\"connector\":{\"line\":{\"color\":\"#000036\",\"width\":2}},\"decreasing\":{\"marker\":{\"color\":\"#000033\"}},\"increasing\":{\"marker\":{\"color\":\"#000032\"}},\"totals\":{\"marker\":{\"color\":\"#000034\"}},\"type\":\"waterfall\"}]},\"layout\":{\"coloraxis\":{\"colorscale\":[[0.0,\"#000011\"],[0.1111111111111111,\"#000012\"],[0.2222222222222222,\"#000013\"],[0.3333333333333333,\"#000014\"],[0.4444444444444444,\"#000015\"],[0.5555555555555556,\"#000016\"],[0.6666666666666666,\"#000017\"],[0.7777777777777778,\"#000018\"],[0.8888888888888888,\"#000019\"],[1.0,\"#000020\"]]},\"colorscale\":{\"diverging\":[[0.0,\"#000021\"],[0.1,\"#000022\"],[0.2,\"#000023\"],[0.3,\"#000024\"],[0.4,\"#000025\"],[0.5,\"#000026\"],[0.6,\"#000027\"],[0.7,\"#000028\"],[0.8,\"#000029\"],[0.9,\"#000030\"],[1.0,\"#000031\"]],\"sequential\":[[0.0,\"#000011\"],[0.1111111111111111,\"#000012\"],[0.2222222222222222,\"#000013\"],[0.3333333333333333,\"#000014\"],[0.4444444444444444,\"#000015\"],[0.5555555555555556,\"#000016\"],[0.6666666666666666,\"#000017\"],[0.7777777777777778,\"#000018\"],[0.8888888888888888,\"#000019\"],[1.0,\"#000020\"]],\"sequentialminus\":[[0.0,\"#000011\"],[0.1111111111111111,\"#000012\"],[0.2222222222222222,\"#000013\"],[0.3333333333333333,\"#000014\"],[0.4444444444444444,\"#000015\"],[0.5555555555555556,\"#000016\"],[0.6666666666666666,\"#000017\"],[0.7777777777777778,\"#000018\"],[0.8888888888888888,\"#000019\"],[1.0,\"#000020\"]]},\"colorway\":[\"#000001\",\"#000002\",\"#000003\",\"#000004\",\"#000005\",\"#000006\",\"#000007\",\"#000008\",\"#000009\",\"#000010\"]}},\"xaxis\":{\"anchor\":\"y\",\"domain\":[0.0,1.0],\"title\":{\"text\":\"Month of Year\"}},\"yaxis\":{\"anchor\":\"x\",\"domain\":[0.0,1.0],\"title\":{\"text\":\"Observation_Count\"}},\"legend\":{\"tracegroupgap\":0},\"title\":{\"text\":\"Observations by Month Across Habitats\"},\"barmode\":\"group\"},                        {\"responsive\": true}                    ).then(function(){\n",
       "                            \n",
       "var gd = document.getElementById('7329fe15-fd4b-4bc5-9be9-eb491f01d5d0');\n",
       "var x = new MutationObserver(function (mutations, observer) {{\n",
       "        var display = window.getComputedStyle(gd).display;\n",
       "        if (!display || display === 'none') {{\n",
       "            console.log([gd, 'removed!']);\n",
       "            Plotly.purge(gd);\n",
       "            observer.disconnect();\n",
       "        }}\n",
       "}});\n",
       "\n",
       "// Listen for the removal of the full notebook cells\n",
       "var notebookContainer = gd.closest('#notebook-container');\n",
       "if (notebookContainer) {{\n",
       "    x.observe(notebookContainer, {childList: true});\n",
       "}}\n",
       "\n",
       "// Listen for the clearing of the current output cell\n",
       "var outputEl = gd.closest('.output');\n",
       "if (outputEl) {{\n",
       "    x.observe(outputEl, {childList: true});\n",
       "}}\n",
       "\n",
       "                        })                };                });            </script>        </div>"
      ]
     },
     "metadata": {},
     "output_type": "display_data"
    },
    {
     "data": {
      "application/vnd.plotly.v1+json": {
       "config": {
        "plotlyServerURL": "https://plot.ly"
       },
       "data": [],
       "layout": {
        "autosize": true,
        "barmode": "group",
        "legend": {
         "tracegroupgap": 0
        },
        "template": {
         "data": {
          "candlestick": [
           {
            "decreasing": {
             "line": {
              "color": "#000033"
             }
            },
            "increasing": {
             "line": {
              "color": "#000032"
             }
            },
            "type": "candlestick"
           }
          ],
          "contour": [
           {
            "colorscale": [
             [
              0,
              "#000011"
             ],
             [
              0.1111111111111111,
              "#000012"
             ],
             [
              0.2222222222222222,
              "#000013"
             ],
             [
              0.3333333333333333,
              "#000014"
             ],
             [
              0.4444444444444444,
              "#000015"
             ],
             [
              0.5555555555555556,
              "#000016"
             ],
             [
              0.6666666666666666,
              "#000017"
             ],
             [
              0.7777777777777778,
              "#000018"
             ],
             [
              0.8888888888888888,
              "#000019"
             ],
             [
              1,
              "#000020"
             ]
            ],
            "type": "contour"
           }
          ],
          "contourcarpet": [
           {
            "colorscale": [
             [
              0,
              "#000011"
             ],
             [
              0.1111111111111111,
              "#000012"
             ],
             [
              0.2222222222222222,
              "#000013"
             ],
             [
              0.3333333333333333,
              "#000014"
             ],
             [
              0.4444444444444444,
              "#000015"
             ],
             [
              0.5555555555555556,
              "#000016"
             ],
             [
              0.6666666666666666,
              "#000017"
             ],
             [
              0.7777777777777778,
              "#000018"
             ],
             [
              0.8888888888888888,
              "#000019"
             ],
             [
              1,
              "#000020"
             ]
            ],
            "type": "contourcarpet"
           }
          ],
          "heatmap": [
           {
            "colorscale": [
             [
              0,
              "#000011"
             ],
             [
              0.1111111111111111,
              "#000012"
             ],
             [
              0.2222222222222222,
              "#000013"
             ],
             [
              0.3333333333333333,
              "#000014"
             ],
             [
              0.4444444444444444,
              "#000015"
             ],
             [
              0.5555555555555556,
              "#000016"
             ],
             [
              0.6666666666666666,
              "#000017"
             ],
             [
              0.7777777777777778,
              "#000018"
             ],
             [
              0.8888888888888888,
              "#000019"
             ],
             [
              1,
              "#000020"
             ]
            ],
            "type": "heatmap"
           }
          ],
          "histogram2d": [
           {
            "colorscale": [
             [
              0,
              "#000011"
             ],
             [
              0.1111111111111111,
              "#000012"
             ],
             [
              0.2222222222222222,
              "#000013"
             ],
             [
              0.3333333333333333,
              "#000014"
             ],
             [
              0.4444444444444444,
              "#000015"
             ],
             [
              0.5555555555555556,
              "#000016"
             ],
             [
              0.6666666666666666,
              "#000017"
             ],
             [
              0.7777777777777778,
              "#000018"
             ],
             [
              0.8888888888888888,
              "#000019"
             ],
             [
              1,
              "#000020"
             ]
            ],
            "type": "histogram2d"
           }
          ],
          "icicle": [
           {
            "textfont": {
             "color": "white"
            },
            "type": "icicle"
           }
          ],
          "sankey": [
           {
            "textfont": {
             "color": "#000036"
            },
            "type": "sankey"
           }
          ],
          "scatter": [
           {
            "marker": {
             "line": {
              "width": 0
             }
            },
            "type": "scatter"
           }
          ],
          "table": [
           {
            "cells": {
             "fill": {
              "color": "#000038"
             },
             "font": {
              "color": "#000037"
             },
             "line": {
              "color": "#000039"
             }
            },
            "header": {
             "fill": {
              "color": "#000040"
             },
             "font": {
              "color": "#000036"
             },
             "line": {
              "color": "#000039"
             }
            },
            "type": "table"
           }
          ],
          "waterfall": [
           {
            "connector": {
             "line": {
              "color": "#000036",
              "width": 2
             }
            },
            "decreasing": {
             "marker": {
              "color": "#000033"
             }
            },
            "increasing": {
             "marker": {
              "color": "#000032"
             }
            },
            "totals": {
             "marker": {
              "color": "#000034"
             }
            },
            "type": "waterfall"
           }
          ]
         },
         "layout": {
          "coloraxis": {
           "colorscale": [
            [
             0,
             "#000011"
            ],
            [
             0.1111111111111111,
             "#000012"
            ],
            [
             0.2222222222222222,
             "#000013"
            ],
            [
             0.3333333333333333,
             "#000014"
            ],
            [
             0.4444444444444444,
             "#000015"
            ],
            [
             0.5555555555555556,
             "#000016"
            ],
            [
             0.6666666666666666,
             "#000017"
            ],
            [
             0.7777777777777778,
             "#000018"
            ],
            [
             0.8888888888888888,
             "#000019"
            ],
            [
             1,
             "#000020"
            ]
           ]
          },
          "colorscale": {
           "diverging": [
            [
             0,
             "#000021"
            ],
            [
             0.1,
             "#000022"
            ],
            [
             0.2,
             "#000023"
            ],
            [
             0.3,
             "#000024"
            ],
            [
             0.4,
             "#000025"
            ],
            [
             0.5,
             "#000026"
            ],
            [
             0.6,
             "#000027"
            ],
            [
             0.7,
             "#000028"
            ],
            [
             0.8,
             "#000029"
            ],
            [
             0.9,
             "#000030"
            ],
            [
             1,
             "#000031"
            ]
           ],
           "sequential": [
            [
             0,
             "#000011"
            ],
            [
             0.1111111111111111,
             "#000012"
            ],
            [
             0.2222222222222222,
             "#000013"
            ],
            [
             0.3333333333333333,
             "#000014"
            ],
            [
             0.4444444444444444,
             "#000015"
            ],
            [
             0.5555555555555556,
             "#000016"
            ],
            [
             0.6666666666666666,
             "#000017"
            ],
            [
             0.7777777777777778,
             "#000018"
            ],
            [
             0.8888888888888888,
             "#000019"
            ],
            [
             1,
             "#000020"
            ]
           ],
           "sequentialminus": [
            [
             0,
             "#000011"
            ],
            [
             0.1111111111111111,
             "#000012"
            ],
            [
             0.2222222222222222,
             "#000013"
            ],
            [
             0.3333333333333333,
             "#000014"
            ],
            [
             0.4444444444444444,
             "#000015"
            ],
            [
             0.5555555555555556,
             "#000016"
            ],
            [
             0.6666666666666666,
             "#000017"
            ],
            [
             0.7777777777777778,
             "#000018"
            ],
            [
             0.8888888888888888,
             "#000019"
            ],
            [
             1,
             "#000020"
            ]
           ]
          },
          "colorway": [
           "#000001",
           "#000002",
           "#000003",
           "#000004",
           "#000005",
           "#000006",
           "#000007",
           "#000008",
           "#000009",
           "#000010"
          ]
         }
        },
        "title": {
         "text": "Observations by Season Across Habitats"
        },
        "xaxis": {
         "anchor": "y",
         "autorange": true,
         "domain": [
          0,
          1
         ],
         "range": [
          -1,
          6
         ],
         "title": {
          "text": "Season"
         }
        },
        "yaxis": {
         "anchor": "x",
         "autorange": true,
         "domain": [
          0,
          1
         ],
         "range": [
          -1,
          4
         ],
         "title": {
          "text": "Observation_Count"
         }
        }
       }
      },
      "image/png": "[encoded data removed]",
      "text/html": [
       "<div>                            <div id=\"49c35209-9f24-4b20-b817-382171268952\" class=\"plotly-graph-div\" style=\"height:525px; width:100%;\"></div>            <script type=\"text/javascript\">                require([\"plotly\"], function(Plotly) {                    window.PLOTLYENV=window.PLOTLYENV || {};                                    if (document.getElementById(\"49c35209-9f24-4b20-b817-382171268952\")) {                    Plotly.newPlot(                        \"49c35209-9f24-4b20-b817-382171268952\",                        [],                        {\"template\":{\"data\":{\"candlestick\":[{\"decreasing\":{\"line\":{\"color\":\"#000033\"}},\"increasing\":{\"line\":{\"color\":\"#000032\"}},\"type\":\"candlestick\"}],\"contourcarpet\":[{\"colorscale\":[[0.0,\"#000011\"],[0.1111111111111111,\"#000012\"],[0.2222222222222222,\"#000013\"],[0.3333333333333333,\"#000014\"],[0.4444444444444444,\"#000015\"],[0.5555555555555556,\"#000016\"],[0.6666666666666666,\"#000017\"],[0.7777777777777778,\"#000018\"],[0.8888888888888888,\"#000019\"],[1.0,\"#000020\"]],\"type\":\"contourcarpet\"}],\"contour\":[{\"colorscale\":[[0.0,\"#000011\"],[0.1111111111111111,\"#000012\"],[0.2222222222222222,\"#000013\"],[0.3333333333333333,\"#000014\"],[0.4444444444444444,\"#000015\"],[0.5555555555555556,\"#000016\"],[0.6666666666666666,\"#000017\"],[0.7777777777777778,\"#000018\"],[0.8888888888888888,\"#000019\"],[1.0,\"#000020\"]],\"type\":\"contour\"}],\"heatmap\":[{\"colorscale\":[[0.0,\"#000011\"],[0.1111111111111111,\"#000012\"],[0.2222222222222222,\"#000013\"],[0.3333333333333333,\"#000014\"],[0.4444444444444444,\"#000015\"],[0.5555555555555556,\"#000016\"],[0.6666666666666666,\"#000017\"],[0.7777777777777778,\"#000018\"],[0.8888888888888888,\"#000019\"],[1.0,\"#000020\"]],\"type\":\"heatmap\"}],\"histogram2d\":[{\"colorscale\":[[0.0,\"#000011\"],[0.1111111111111111,\"#000012\"],[0.2222222222222222,\"#000013\"],[0.3333333333333333,\"#000014\"],[0.4444444444444444,\"#000015\"],[0.5555555555555556,\"#000016\"],[0.6666666666666666,\"#000017\"],[0.7777777777777778,\"#000018\"],[0.8888888888888888,\"#000019\"],[1.0,\"#000020\"]],\"type\":\"histogram2d\"}],\"icicle\":[{\"textfont\":{\"color\":\"white\"},\"type\":\"icicle\"}],\"sankey\":[{\"textfont\":{\"color\":\"#000036\"},\"type\":\"sankey\"}],\"scatter\":[{\"marker\":{\"line\":{\"width\":0}},\"type\":\"scatter\"}],\"table\":[{\"cells\":{\"fill\":{\"color\":\"#000038\"},\"font\":{\"color\":\"#000037\"},\"line\":{\"color\":\"#000039\"}},\"header\":{\"fill\":{\"color\":\"#000040\"},\"font\":{\"color\":\"#000036\"},\"line\":{\"color\":\"#000039\"}},\"type\":\"table\"}],\"waterfall\":[{\"connector\":{\"line\":{\"color\":\"#000036\",\"width\":2}},\"decreasing\":{\"marker\":{\"color\":\"#000033\"}},\"increasing\":{\"marker\":{\"color\":\"#000032\"}},\"totals\":{\"marker\":{\"color\":\"#000034\"}},\"type\":\"waterfall\"}]},\"layout\":{\"coloraxis\":{\"colorscale\":[[0.0,\"#000011\"],[0.1111111111111111,\"#000012\"],[0.2222222222222222,\"#000013\"],[0.3333333333333333,\"#000014\"],[0.4444444444444444,\"#000015\"],[0.5555555555555556,\"#000016\"],[0.6666666666666666,\"#000017\"],[0.7777777777777778,\"#000018\"],[0.8888888888888888,\"#000019\"],[1.0,\"#000020\"]]},\"colorscale\":{\"diverging\":[[0.0,\"#000021\"],[0.1,\"#000022\"],[0.2,\"#000023\"],[0.3,\"#000024\"],[0.4,\"#000025\"],[0.5,\"#000026\"],[0.6,\"#000027\"],[0.7,\"#000028\"],[0.8,\"#000029\"],[0.9,\"#000030\"],[1.0,\"#000031\"]],\"sequential\":[[0.0,\"#000011\"],[0.1111111111111111,\"#000012\"],[0.2222222222222222,\"#000013\"],[0.3333333333333333,\"#000014\"],[0.4444444444444444,\"#000015\"],[0.5555555555555556,\"#000016\"],[0.6666666666666666,\"#000017\"],[0.7777777777777778,\"#000018\"],[0.8888888888888888,\"#000019\"],[1.0,\"#000020\"]],\"sequentialminus\":[[0.0,\"#000011\"],[0.1111111111111111,\"#000012\"],[0.2222222222222222,\"#000013\"],[0.3333333333333333,\"#000014\"],[0.4444444444444444,\"#000015\"],[0.5555555555555556,\"#000016\"],[0.6666666666666666,\"#000017\"],[0.7777777777777778,\"#000018\"],[0.8888888888888888,\"#000019\"],[1.0,\"#000020\"]]},\"colorway\":[\"#000001\",\"#000002\",\"#000003\",\"#000004\",\"#000005\",\"#000006\",\"#000007\",\"#000008\",\"#000009\",\"#000010\"]}},\"xaxis\":{\"anchor\":\"y\",\"domain\":[0.0,1.0],\"title\":{\"text\":\"Season\"}},\"yaxis\":{\"anchor\":\"x\",\"domain\":[0.0,1.0],\"title\":{\"text\":\"Observation_Count\"}},\"legend\":{\"tracegroupgap\":0},\"title\":{\"text\":\"Observations by Season Across Habitats\"},\"barmode\":\"group\"},                        {\"responsive\": true}                    ).then(function(){\n",
       "                            \n",
       "var gd = document.getElementById('49c35209-9f24-4b20-b817-382171268952');\n",
       "var x = new MutationObserver(function (mutations, observer) {{\n",
       "        var display = window.getComputedStyle(gd).display;\n",
       "        if (!display || display === 'none') {{\n",
       "            console.log([gd, 'removed!']);\n",
       "            Plotly.purge(gd);\n",
       "            observer.disconnect();\n",
       "        }}\n",
       "}});\n",
       "\n",
       "// Listen for the removal of the full notebook cells\n",
       "var notebookContainer = gd.closest('#notebook-container');\n",
       "if (notebookContainer) {{\n",
       "    x.observe(notebookContainer, {childList: true});\n",
       "}}\n",
       "\n",
       "// Listen for the clearing of the current output cell\n",
       "var outputEl = gd.closest('.output');\n",
       "if (outputEl) {{\n",
       "    x.observe(outputEl, {childList: true});\n",
       "}}\n",
       "\n",
       "                        })                };                });            </script>        </div>"
      ]
     },
     "metadata": {},
     "output_type": "display_data"
    },
    {
     "data": {
      "application/vnd.plotly.v1+json": {
       "config": {
        "plotlyServerURL": "https://plot.ly"
       },
       "data": [
        {
         "alignmentgroup": "True",
         "hovertemplate": "Habitat=Forest<br>Hour of Day=%{x}<br>Observation_Count=%{y}<extra></extra>",
         "legendgroup": "Forest",
         "marker": {
          "color": "#000001",
          "pattern": {
           "shape": ""
          }
         },
         "name": "Forest",
         "offsetgroup": "Forest",
         "orientation": "v",
         "showlegend": true,
         "textposition": "auto",
         "type": "bar",
         "x": [
          5,
          6,
          7,
          8,
          9,
          10
         ],
         "xaxis": "x",
         "y": [
          591,
          2165,
          2229,
          1833,
          929,
          380
         ],
         "yaxis": "y"
        },
        {
         "alignmentgroup": "True",
         "hovertemplate": "Habitat=Grassland<br>Hour of Day=%{x}<br>Observation_Count=%{y}<extra></extra>",
         "legendgroup": "Grassland",
         "marker": {
          "color": "#000002",
          "pattern": {
           "shape": ""
          }
         },
         "name": "Grassland",
         "offsetgroup": "Grassland",
         "orientation": "v",
         "showlegend": true,
         "textposition": "auto",
         "type": "bar",
         "x": [
          5,
          6,
          7,
          8,
          9,
          10
         ],
         "xaxis": "x",
         "y": [
          602,
          1469,
          1591,
          1208,
          985,
          590
         ],
         "yaxis": "y"
        }
       ],
       "layout": {
        "autosize": true,
        "barmode": "group",
        "legend": {
         "title": {
          "text": "Habitat"
         },
         "tracegroupgap": 0
        },
        "template": {
         "data": {
          "candlestick": [
           {
            "decreasing": {
             "line": {
              "color": "#000033"
             }
            },
            "increasing": {
             "line": {
              "color": "#000032"
             }
            },
            "type": "candlestick"
           }
          ],
          "contour": [
           {
            "colorscale": [
             [
              0,
              "#000011"
             ],
             [
              0.1111111111111111,
              "#000012"
             ],
             [
              0.2222222222222222,
              "#000013"
             ],
             [
              0.3333333333333333,
              "#000014"
             ],
             [
              0.4444444444444444,
              "#000015"
             ],
             [
              0.5555555555555556,
              "#000016"
             ],
             [
              0.6666666666666666,
              "#000017"
             ],
             [
              0.7777777777777778,
              "#000018"
             ],
             [
              0.8888888888888888,
              "#000019"
             ],
             [
              1,
              "#000020"
             ]
            ],
            "type": "contour"
           }
          ],
          "contourcarpet": [
           {
            "colorscale": [
             [
              0,
              "#000011"
             ],
             [
              0.1111111111111111,
              "#000012"
             ],
             [
              0.2222222222222222,
              "#000013"
             ],
             [
              0.3333333333333333,
              "#000014"
             ],
             [
              0.4444444444444444,
              "#000015"
             ],
             [
              0.5555555555555556,
              "#000016"
             ],
             [
              0.6666666666666666,
              "#000017"
             ],
             [
              0.7777777777777778,
              "#000018"
             ],
             [
              0.8888888888888888,
              "#000019"
             ],
             [
              1,
              "#000020"
             ]
            ],
            "type": "contourcarpet"
           }
          ],
          "heatmap": [
           {
            "colorscale": [
             [
              0,
              "#000011"
             ],
             [
              0.1111111111111111,
              "#000012"
             ],
             [
              0.2222222222222222,
              "#000013"
             ],
             [
              0.3333333333333333,
              "#000014"
             ],
             [
              0.4444444444444444,
              "#000015"
             ],
             [
              0.5555555555555556,
              "#000016"
             ],
             [
              0.6666666666666666,
              "#000017"
             ],
             [
              0.7777777777777778,
              "#000018"
             ],
             [
              0.8888888888888888,
              "#000019"
             ],
             [
              1,
              "#000020"
             ]
            ],
            "type": "heatmap"
           }
          ],
          "histogram2d": [
           {
            "colorscale": [
             [
              0,
              "#000011"
             ],
             [
              0.1111111111111111,
              "#000012"
             ],
             [
              0.2222222222222222,
              "#000013"
             ],
             [
              0.3333333333333333,
              "#000014"
             ],
             [
              0.4444444444444444,
              "#000015"
             ],
             [
              0.5555555555555556,
              "#000016"
             ],
             [
              0.6666666666666666,
              "#000017"
             ],
             [
              0.7777777777777778,
              "#000018"
             ],
             [
              0.8888888888888888,
              "#000019"
             ],
             [
              1,
              "#000020"
             ]
            ],
            "type": "histogram2d"
           }
          ],
          "icicle": [
           {
            "textfont": {
             "color": "white"
            },
            "type": "icicle"
           }
          ],
          "sankey": [
           {
            "textfont": {
             "color": "#000036"
            },
            "type": "sankey"
           }
          ],
          "scatter": [
           {
            "marker": {
             "line": {
              "width": 0
             }
            },
            "type": "scatter"
           }
          ],
          "table": [
           {
            "cells": {
             "fill": {
              "color": "#000038"
             },
             "font": {
              "color": "#000037"
             },
             "line": {
              "color": "#000039"
             }
            },
            "header": {
             "fill": {
              "color": "#000040"
             },
             "font": {
              "color": "#000036"
             },
             "line": {
              "color": "#000039"
             }
            },
            "type": "table"
           }
          ],
          "waterfall": [
           {
            "connector": {
             "line": {
              "color": "#000036",
              "width": 2
             }
            },
            "decreasing": {
             "marker": {
              "color": "#000033"
             }
            },
            "increasing": {
             "marker": {
              "color": "#000032"
             }
            },
            "totals": {
             "marker": {
              "color": "#000034"
             }
            },
            "type": "waterfall"
           }
          ]
         },
         "layout": {
          "coloraxis": {
           "colorscale": [
            [
             0,
             "#000011"
            ],
            [
             0.1111111111111111,
             "#000012"
            ],
            [
             0.2222222222222222,
             "#000013"
            ],
            [
             0.3333333333333333,
             "#000014"
            ],
            [
             0.4444444444444444,
             "#000015"
            ],
            [
             0.5555555555555556,
             "#000016"
            ],
            [
             0.6666666666666666,
             "#000017"
            ],
            [
             0.7777777777777778,
             "#000018"
            ],
            [
             0.8888888888888888,
             "#000019"
            ],
            [
             1,
             "#000020"
            ]
           ]
          },
          "colorscale": {
           "diverging": [
            [
             0,
             "#000021"
            ],
            [
             0.1,
             "#000022"
            ],
            [
             0.2,
             "#000023"
            ],
            [
             0.3,
             "#000024"
            ],
            [
             0.4,
             "#000025"
            ],
            [
             0.5,
             "#000026"
            ],
            [
             0.6,
             "#000027"
            ],
            [
             0.7,
             "#000028"
            ],
            [
             0.8,
             "#000029"
            ],
            [
             0.9,
             "#000030"
            ],
            [
             1,
             "#000031"
            ]
           ],
           "sequential": [
            [
             0,
             "#000011"
            ],
            [
             0.1111111111111111,
             "#000012"
            ],
            [
             0.2222222222222222,
             "#000013"
            ],
            [
             0.3333333333333333,
             "#000014"
            ],
            [
             0.4444444444444444,
             "#000015"
            ],
            [
             0.5555555555555556,
             "#000016"
            ],
            [
             0.6666666666666666,
             "#000017"
            ],
            [
             0.7777777777777778,
             "#000018"
            ],
            [
             0.8888888888888888,
             "#000019"
            ],
            [
             1,
             "#000020"
            ]
           ],
           "sequentialminus": [
            [
             0,
             "#000011"
            ],
            [
             0.1111111111111111,
             "#000012"
            ],
            [
             0.2222222222222222,
             "#000013"
            ],
            [
             0.3333333333333333,
             "#000014"
            ],
            [
             0.4444444444444444,
             "#000015"
            ],
            [
             0.5555555555555556,
             "#000016"
            ],
            [
             0.6666666666666666,
             "#000017"
            ],
            [
             0.7777777777777778,
             "#000018"
            ],
            [
             0.8888888888888888,
             "#000019"
            ],
            [
             1,
             "#000020"
            ]
           ]
          },
          "colorway": [
           "#000001",
           "#000002",
           "#000003",
           "#000004",
           "#000005",
           "#000006",
           "#000007",
           "#000008",
           "#000009",
           "#000010"
          ]
         }
        },
        "title": {
         "text": "Observations by Hour of Day Across Habitats"
        },
        "xaxis": {
         "anchor": "y",
         "autorange": true,
         "domain": [
          0,
          1
         ],
         "range": [
          4.5,
          10.5
         ],
         "title": {
          "text": "Hour of Day"
         },
         "type": "linear"
        },
        "yaxis": {
         "anchor": "x",
         "autorange": true,
         "domain": [
          0,
          1
         ],
         "range": [
          0,
          2346.315789473684
         ],
         "title": {
          "text": "Observation_Count"
         },
         "type": "linear"
        }
       }
      },
      "image/png": "[encoded data removed]",
      "text/html": [
       "<div>                            <div id=\"f8623598-c111-4c86-b785-5e00a442de78\" class=\"plotly-graph-div\" style=\"height:525px; width:100%;\"></div>            <script type=\"text/javascript\">                require([\"plotly\"], function(Plotly) {                    window.PLOTLYENV=window.PLOTLYENV || {};                                    if (document.getElementById(\"f8623598-c111-4c86-b785-5e00a442de78\")) {                    Plotly.newPlot(                        \"f8623598-c111-4c86-b785-5e00a442de78\",                        [{\"alignmentgroup\":\"True\",\"hovertemplate\":\"Habitat=Forest\\u003cbr\\u003eHour of Day=%{x}\\u003cbr\\u003eObservation_Count=%{y}\\u003cextra\\u003e\\u003c\\u002fextra\\u003e\",\"legendgroup\":\"Forest\",\"marker\":{\"color\":\"#000001\",\"pattern\":{\"shape\":\"\"}},\"name\":\"Forest\",\"offsetgroup\":\"Forest\",\"orientation\":\"v\",\"showlegend\":true,\"textposition\":\"auto\",\"x\":[5,6,7,8,9,10],\"xaxis\":\"x\",\"y\":[591,2165,2229,1833,929,380],\"yaxis\":\"y\",\"type\":\"bar\"},{\"alignmentgroup\":\"True\",\"hovertemplate\":\"Habitat=Grassland\\u003cbr\\u003eHour of Day=%{x}\\u003cbr\\u003eObservation_Count=%{y}\\u003cextra\\u003e\\u003c\\u002fextra\\u003e\",\"legendgroup\":\"Grassland\",\"marker\":{\"color\":\"#000002\",\"pattern\":{\"shape\":\"\"}},\"name\":\"Grassland\",\"offsetgroup\":\"Grassland\",\"orientation\":\"v\",\"showlegend\":true,\"textposition\":\"auto\",\"x\":[5,6,7,8,9,10],\"xaxis\":\"x\",\"y\":[602,1469,1591,1208,985,590],\"yaxis\":\"y\",\"type\":\"bar\"}],                        {\"template\":{\"data\":{\"candlestick\":[{\"decreasing\":{\"line\":{\"color\":\"#000033\"}},\"increasing\":{\"line\":{\"color\":\"#000032\"}},\"type\":\"candlestick\"}],\"contourcarpet\":[{\"colorscale\":[[0.0,\"#000011\"],[0.1111111111111111,\"#000012\"],[0.2222222222222222,\"#000013\"],[0.3333333333333333,\"#000014\"],[0.4444444444444444,\"#000015\"],[0.5555555555555556,\"#000016\"],[0.6666666666666666,\"#000017\"],[0.7777777777777778,\"#000018\"],[0.8888888888888888,\"#000019\"],[1.0,\"#000020\"]],\"type\":\"contourcarpet\"}],\"contour\":[{\"colorscale\":[[0.0,\"#000011\"],[0.1111111111111111,\"#000012\"],[0.2222222222222222,\"#000013\"],[0.3333333333333333,\"#000014\"],[0.4444444444444444,\"#000015\"],[0.5555555555555556,\"#000016\"],[0.6666666666666666,\"#000017\"],[0.7777777777777778,\"#000018\"],[0.8888888888888888,\"#000019\"],[1.0,\"#000020\"]],\"type\":\"contour\"}],\"heatmap\":[{\"colorscale\":[[0.0,\"#000011\"],[0.1111111111111111,\"#000012\"],[0.2222222222222222,\"#000013\"],[0.3333333333333333,\"#000014\"],[0.4444444444444444,\"#000015\"],[0.5555555555555556,\"#000016\"],[0.6666666666666666,\"#000017\"],[0.7777777777777778,\"#000018\"],[0.8888888888888888,\"#000019\"],[1.0,\"#000020\"]],\"type\":\"heatmap\"}],\"histogram2d\":[{\"colorscale\":[[0.0,\"#000011\"],[0.1111111111111111,\"#000012\"],[0.2222222222222222,\"#000013\"],[0.3333333333333333,\"#000014\"],[0.4444444444444444,\"#000015\"],[0.5555555555555556,\"#000016\"],[0.6666666666666666,\"#000017\"],[0.7777777777777778,\"#000018\"],[0.8888888888888888,\"#000019\"],[1.0,\"#000020\"]],\"type\":\"histogram2d\"}],\"icicle\":[{\"textfont\":{\"color\":\"white\"},\"type\":\"icicle\"}],\"sankey\":[{\"textfont\":{\"color\":\"#000036\"},\"type\":\"sankey\"}],\"scatter\":[{\"marker\":{\"line\":{\"width\":0}},\"type\":\"scatter\"}],\"table\":[{\"cells\":{\"fill\":{\"color\":\"#000038\"},\"font\":{\"color\":\"#000037\"},\"line\":{\"color\":\"#000039\"}},\"header\":{\"fill\":{\"color\":\"#000040\"},\"font\":{\"color\":\"#000036\"},\"line\":{\"color\":\"#000039\"}},\"type\":\"table\"}],\"waterfall\":[{\"connector\":{\"line\":{\"color\":\"#000036\",\"width\":2}},\"decreasing\":{\"marker\":{\"color\":\"#000033\"}},\"increasing\":{\"marker\":{\"color\":\"#000032\"}},\"totals\":{\"marker\":{\"color\":\"#000034\"}},\"type\":\"waterfall\"}]},\"layout\":{\"coloraxis\":{\"colorscale\":[[0.0,\"#000011\"],[0.1111111111111111,\"#000012\"],[0.2222222222222222,\"#000013\"],[0.3333333333333333,\"#000014\"],[0.4444444444444444,\"#000015\"],[0.5555555555555556,\"#000016\"],[0.6666666666666666,\"#000017\"],[0.7777777777777778,\"#000018\"],[0.8888888888888888,\"#000019\"],[1.0,\"#000020\"]]},\"colorscale\":{\"diverging\":[[0.0,\"#000021\"],[0.1,\"#000022\"],[0.2,\"#000023\"],[0.3,\"#000024\"],[0.4,\"#000025\"],[0.5,\"#000026\"],[0.6,\"#000027\"],[0.7,\"#000028\"],[0.8,\"#000029\"],[0.9,\"#000030\"],[1.0,\"#000031\"]],\"sequential\":[[0.0,\"#000011\"],[0.1111111111111111,\"#000012\"],[0.2222222222222222,\"#000013\"],[0.3333333333333333,\"#000014\"],[0.4444444444444444,\"#000015\"],[0.5555555555555556,\"#000016\"],[0.6666666666666666,\"#000017\"],[0.7777777777777778,\"#000018\"],[0.8888888888888888,\"#000019\"],[1.0,\"#000020\"]],\"sequentialminus\":[[0.0,\"#000011\"],[0.1111111111111111,\"#000012\"],[0.2222222222222222,\"#000013\"],[0.3333333333333333,\"#000014\"],[0.4444444444444444,\"#000015\"],[0.5555555555555556,\"#000016\"],[0.6666666666666666,\"#000017\"],[0.7777777777777778,\"#000018\"],[0.8888888888888888,\"#000019\"],[1.0,\"#000020\"]]},\"colorway\":[\"#000001\",\"#000002\",\"#000003\",\"#000004\",\"#000005\",\"#000006\",\"#000007\",\"#000008\",\"#000009\",\"#000010\"]}},\"xaxis\":{\"anchor\":\"y\",\"domain\":[0.0,1.0],\"title\":{\"text\":\"Hour of Day\"}},\"yaxis\":{\"anchor\":\"x\",\"domain\":[0.0,1.0],\"title\":{\"text\":\"Observation_Count\"}},\"legend\":{\"title\":{\"text\":\"Habitat\"},\"tracegroupgap\":0},\"title\":{\"text\":\"Observations by Hour of Day Across Habitats\"},\"barmode\":\"group\"},                        {\"responsive\": true}                    ).then(function(){\n",
       "                            \n",
       "var gd = document.getElementById('f8623598-c111-4c86-b785-5e00a442de78');\n",
       "var x = new MutationObserver(function (mutations, observer) {{\n",
       "        var display = window.getComputedStyle(gd).display;\n",
       "        if (!display || display === 'none') {{\n",
       "            console.log([gd, 'removed!']);\n",
       "            Plotly.purge(gd);\n",
       "            observer.disconnect();\n",
       "        }}\n",
       "}});\n",
       "\n",
       "// Listen for the removal of the full notebook cells\n",
       "var notebookContainer = gd.closest('#notebook-container');\n",
       "if (notebookContainer) {{\n",
       "    x.observe(notebookContainer, {childList: true});\n",
       "}}\n",
       "\n",
       "// Listen for the clearing of the current output cell\n",
       "var outputEl = gd.closest('.output');\n",
       "if (outputEl) {{\n",
       "    x.observe(outputEl, {childList: true});\n",
       "}}\n",
       "\n",
       "                        })                };                });            </script>        </div>"
      ]
     },
     "metadata": {},
     "output_type": "display_data"
    },
    {
     "data": {
      "application/vnd.plotly.v1+json": {
       "config": {
        "plotlyServerURL": "https://plot.ly"
       },
       "data": [
        {
         "alignmentgroup": "True",
         "hovertemplate": "Habitat=Grassland<br>Plot_Name=%{x}<br>Unique_Species=%{y}<extra></extra>",
         "legendgroup": "Grassland",
         "marker": {
          "color": "#000001",
          "pattern": {
           "shape": ""
          }
         },
         "name": "Grassland",
         "offsetgroup": "Grassland",
         "orientation": "v",
         "showlegend": true,
         "textposition": "auto",
         "type": "bar",
         "x": [
          "ANTI-0105",
          "MONO-0057",
          "MANA-0047",
          "MANA-0048",
          "MONO-0076",
          "MONO-0066",
          "MONO-0085",
          "ANTI-0160",
          "ANTI-0034"
         ],
         "xaxis": "x",
         "y": [
          27,
          27,
          27,
          26,
          26,
          26,
          26,
          25,
          25
         ],
         "yaxis": "y"
        },
        {
         "alignmentgroup": "True",
         "hovertemplate": "Habitat=Forest<br>Plot_Name=%{x}<br>Unique_Species=%{y}<extra></extra>",
         "legendgroup": "Forest",
         "marker": {
          "color": "#000002",
          "pattern": {
           "shape": ""
          }
         },
         "name": "Forest",
         "offsetgroup": "Forest",
         "orientation": "v",
         "showlegend": true,
         "textposition": "auto",
         "type": "bar",
         "x": [
          "CHOH-0812"
         ],
         "xaxis": "x",
         "y": [
          26
         ],
         "yaxis": "y"
        }
       ],
       "layout": {
        "autosize": true,
        "barmode": "relative",
        "legend": {
         "title": {
          "text": "Habitat"
         },
         "tracegroupgap": 0
        },
        "template": {
         "data": {
          "candlestick": [
           {
            "decreasing": {
             "line": {
              "color": "#000033"
             }
            },
            "increasing": {
             "line": {
              "color": "#000032"
             }
            },
            "type": "candlestick"
           }
          ],
          "contour": [
           {
            "colorscale": [
             [
              0,
              "#000011"
             ],
             [
              0.1111111111111111,
              "#000012"
             ],
             [
              0.2222222222222222,
              "#000013"
             ],
             [
              0.3333333333333333,
              "#000014"
             ],
             [
              0.4444444444444444,
              "#000015"
             ],
             [
              0.5555555555555556,
              "#000016"
             ],
             [
              0.6666666666666666,
              "#000017"
             ],
             [
              0.7777777777777778,
              "#000018"
             ],
             [
              0.8888888888888888,
              "#000019"
             ],
             [
              1,
              "#000020"
             ]
            ],
            "type": "contour"
           }
          ],
          "contourcarpet": [
           {
            "colorscale": [
             [
              0,
              "#000011"
             ],
             [
              0.1111111111111111,
              "#000012"
             ],
             [
              0.2222222222222222,
              "#000013"
             ],
             [
              0.3333333333333333,
              "#000014"
             ],
             [
              0.4444444444444444,
              "#000015"
             ],
             [
              0.5555555555555556,
              "#000016"
             ],
             [
              0.6666666666666666,
              "#000017"
             ],
             [
              0.7777777777777778,
              "#000018"
             ],
             [
              0.8888888888888888,
              "#000019"
             ],
             [
              1,
              "#000020"
             ]
            ],
            "type": "contourcarpet"
           }
          ],
          "heatmap": [
           {
            "colorscale": [
             [
              0,
              "#000011"
             ],
             [
              0.1111111111111111,
              "#000012"
             ],
             [
              0.2222222222222222,
              "#000013"
             ],
             [
              0.3333333333333333,
              "#000014"
             ],
             [
              0.4444444444444444,
              "#000015"
             ],
             [
              0.5555555555555556,
              "#000016"
             ],
             [
              0.6666666666666666,
              "#000017"
             ],
             [
              0.7777777777777778,
              "#000018"
             ],
             [
              0.8888888888888888,
              "#000019"
             ],
             [
              1,
              "#000020"
             ]
            ],
            "type": "heatmap"
           }
          ],
          "histogram2d": [
           {
            "colorscale": [
             [
              0,
              "#000011"
             ],
             [
              0.1111111111111111,
              "#000012"
             ],
             [
              0.2222222222222222,
              "#000013"
             ],
             [
              0.3333333333333333,
              "#000014"
             ],
             [
              0.4444444444444444,
              "#000015"
             ],
             [
              0.5555555555555556,
              "#000016"
             ],
             [
              0.6666666666666666,
              "#000017"
             ],
             [
              0.7777777777777778,
              "#000018"
             ],
             [
              0.8888888888888888,
              "#000019"
             ],
             [
              1,
              "#000020"
             ]
            ],
            "type": "histogram2d"
           }
          ],
          "icicle": [
           {
            "textfont": {
             "color": "white"
            },
            "type": "icicle"
           }
          ],
          "sankey": [
           {
            "textfont": {
             "color": "#000036"
            },
            "type": "sankey"
           }
          ],
          "scatter": [
           {
            "marker": {
             "line": {
              "width": 0
             }
            },
            "type": "scatter"
           }
          ],
          "table": [
           {
            "cells": {
             "fill": {
              "color": "#000038"
             },
             "font": {
              "color": "#000037"
             },
             "line": {
              "color": "#000039"
             }
            },
            "header": {
             "fill": {
              "color": "#000040"
             },
             "font": {
              "color": "#000036"
             },
             "line": {
              "color": "#000039"
             }
            },
            "type": "table"
           }
          ],
          "waterfall": [
           {
            "connector": {
             "line": {
              "color": "#000036",
              "width": 2
             }
            },
            "decreasing": {
             "marker": {
              "color": "#000033"
             }
            },
            "increasing": {
             "marker": {
              "color": "#000032"
             }
            },
            "totals": {
             "marker": {
              "color": "#000034"
             }
            },
            "type": "waterfall"
           }
          ]
         },
         "layout": {
          "coloraxis": {
           "colorscale": [
            [
             0,
             "#000011"
            ],
            [
             0.1111111111111111,
             "#000012"
            ],
            [
             0.2222222222222222,
             "#000013"
            ],
            [
             0.3333333333333333,
             "#000014"
            ],
            [
             0.4444444444444444,
             "#000015"
            ],
            [
             0.5555555555555556,
             "#000016"
            ],
            [
             0.6666666666666666,
             "#000017"
            ],
            [
             0.7777777777777778,
             "#000018"
            ],
            [
             0.8888888888888888,
             "#000019"
            ],
            [
             1,
             "#000020"
            ]
           ]
          },
          "colorscale": {
           "diverging": [
            [
             0,
             "#000021"
            ],
            [
             0.1,
             "#000022"
            ],
            [
             0.2,
             "#000023"
            ],
            [
             0.3,
             "#000024"
            ],
            [
             0.4,
             "#000025"
            ],
            [
             0.5,
             "#000026"
            ],
            [
             0.6,
             "#000027"
            ],
            [
             0.7,
             "#000028"
            ],
            [
             0.8,
             "#000029"
            ],
            [
             0.9,
             "#000030"
            ],
            [
             1,
             "#000031"
            ]
           ],
           "sequential": [
            [
             0,
             "#000011"
            ],
            [
             0.1111111111111111,
             "#000012"
            ],
            [
             0.2222222222222222,
             "#000013"
            ],
            [
             0.3333333333333333,
             "#000014"
            ],
            [
             0.4444444444444444,
             "#000015"
            ],
            [
             0.5555555555555556,
             "#000016"
            ],
            [
             0.6666666666666666,
             "#000017"
            ],
            [
             0.7777777777777778,
             "#000018"
            ],
            [
             0.8888888888888888,
             "#000019"
            ],
            [
             1,
             "#000020"
            ]
           ],
           "sequentialminus": [
            [
             0,
             "#000011"
            ],
            [
             0.1111111111111111,
             "#000012"
            ],
            [
             0.2222222222222222,
             "#000013"
            ],
            [
             0.3333333333333333,
             "#000014"
            ],
            [
             0.4444444444444444,
             "#000015"
            ],
            [
             0.5555555555555556,
             "#000016"
            ],
            [
             0.6666666666666666,
             "#000017"
            ],
            [
             0.7777777777777778,
             "#000018"
            ],
            [
             0.8888888888888888,
             "#000019"
            ],
            [
             1,
             "#000020"
            ]
           ]
          },
          "colorway": [
           "#000001",
           "#000002",
           "#000003",
           "#000004",
           "#000005",
           "#000006",
           "#000007",
           "#000008",
           "#000009",
           "#000010"
          ]
         }
        },
        "title": {
         "text": "Top 10 Plots by Unique Species Across Habitats"
        },
        "xaxis": {
         "anchor": "y",
         "autorange": true,
         "domain": [
          0,
          1
         ],
         "range": [
          -0.5,
          9.5
         ],
         "title": {
          "text": "Plot_Name"
         },
         "type": "category"
        },
        "yaxis": {
         "anchor": "x",
         "autorange": true,
         "domain": [
          0,
          1
         ],
         "range": [
          0,
          28.42105263157895
         ],
         "title": {
          "text": "Unique_Species"
         },
         "type": "linear"
        }
       }
      },
      "image/png": "[encoded data removed]",
      "text/html": [
       "<div>                            <div id=\"a7235ced-4638-4002-b260-a771861b0a6f\" class=\"plotly-graph-div\" style=\"height:525px; width:100%;\"></div>            <script type=\"text/javascript\">                require([\"plotly\"], function(Plotly) {                    window.PLOTLYENV=window.PLOTLYENV || {};                                    if (document.getElementById(\"a7235ced-4638-4002-b260-a771861b0a6f\")) {                    Plotly.newPlot(                        \"a7235ced-4638-4002-b260-a771861b0a6f\",                        [{\"alignmentgroup\":\"True\",\"hovertemplate\":\"Habitat=Grassland\\u003cbr\\u003ePlot_Name=%{x}\\u003cbr\\u003eUnique_Species=%{y}\\u003cextra\\u003e\\u003c\\u002fextra\\u003e\",\"legendgroup\":\"Grassland\",\"marker\":{\"color\":\"#000001\",\"pattern\":{\"shape\":\"\"}},\"name\":\"Grassland\",\"offsetgroup\":\"Grassland\",\"orientation\":\"v\",\"showlegend\":true,\"textposition\":\"auto\",\"x\":[\"ANTI-0105\",\"MONO-0057\",\"MANA-0047\",\"MANA-0048\",\"MONO-0076\",\"MONO-0066\",\"MONO-0085\",\"ANTI-0160\",\"ANTI-0034\"],\"xaxis\":\"x\",\"y\":[27,27,27,26,26,26,26,25,25],\"yaxis\":\"y\",\"type\":\"bar\"},{\"alignmentgroup\":\"True\",\"hovertemplate\":\"Habitat=Forest\\u003cbr\\u003ePlot_Name=%{x}\\u003cbr\\u003eUnique_Species=%{y}\\u003cextra\\u003e\\u003c\\u002fextra\\u003e\",\"legendgroup\":\"Forest\",\"marker\":{\"color\":\"#000002\",\"pattern\":{\"shape\":\"\"}},\"name\":\"Forest\",\"offsetgroup\":\"Forest\",\"orientation\":\"v\",\"showlegend\":true,\"textposition\":\"auto\",\"x\":[\"CHOH-0812\"],\"xaxis\":\"x\",\"y\":[26],\"yaxis\":\"y\",\"type\":\"bar\"}],                        {\"template\":{\"data\":{\"candlestick\":[{\"decreasing\":{\"line\":{\"color\":\"#000033\"}},\"increasing\":{\"line\":{\"color\":\"#000032\"}},\"type\":\"candlestick\"}],\"contourcarpet\":[{\"colorscale\":[[0.0,\"#000011\"],[0.1111111111111111,\"#000012\"],[0.2222222222222222,\"#000013\"],[0.3333333333333333,\"#000014\"],[0.4444444444444444,\"#000015\"],[0.5555555555555556,\"#000016\"],[0.6666666666666666,\"#000017\"],[0.7777777777777778,\"#000018\"],[0.8888888888888888,\"#000019\"],[1.0,\"#000020\"]],\"type\":\"contourcarpet\"}],\"contour\":[{\"colorscale\":[[0.0,\"#000011\"],[0.1111111111111111,\"#000012\"],[0.2222222222222222,\"#000013\"],[0.3333333333333333,\"#000014\"],[0.4444444444444444,\"#000015\"],[0.5555555555555556,\"#000016\"],[0.6666666666666666,\"#000017\"],[0.7777777777777778,\"#000018\"],[0.8888888888888888,\"#000019\"],[1.0,\"#000020\"]],\"type\":\"contour\"}],\"heatmap\":[{\"colorscale\":[[0.0,\"#000011\"],[0.1111111111111111,\"#000012\"],[0.2222222222222222,\"#000013\"],[0.3333333333333333,\"#000014\"],[0.4444444444444444,\"#000015\"],[0.5555555555555556,\"#000016\"],[0.6666666666666666,\"#000017\"],[0.7777777777777778,\"#000018\"],[0.8888888888888888,\"#000019\"],[1.0,\"#000020\"]],\"type\":\"heatmap\"}],\"histogram2d\":[{\"colorscale\":[[0.0,\"#000011\"],[0.1111111111111111,\"#000012\"],[0.2222222222222222,\"#000013\"],[0.3333333333333333,\"#000014\"],[0.4444444444444444,\"#000015\"],[0.5555555555555556,\"#000016\"],[0.6666666666666666,\"#000017\"],[0.7777777777777778,\"#000018\"],[0.8888888888888888,\"#000019\"],[1.0,\"#000020\"]],\"type\":\"histogram2d\"}],\"icicle\":[{\"textfont\":{\"color\":\"white\"},\"type\":\"icicle\"}],\"sankey\":[{\"textfont\":{\"color\":\"#000036\"},\"type\":\"sankey\"}],\"scatter\":[{\"marker\":{\"line\":{\"width\":0}},\"type\":\"scatter\"}],\"table\":[{\"cells\":{\"fill\":{\"color\":\"#000038\"},\"font\":{\"color\":\"#000037\"},\"line\":{\"color\":\"#000039\"}},\"header\":{\"fill\":{\"color\":\"#000040\"},\"font\":{\"color\":\"#000036\"},\"line\":{\"color\":\"#000039\"}},\"type\":\"table\"}],\"waterfall\":[{\"connector\":{\"line\":{\"color\":\"#000036\",\"width\":2}},\"decreasing\":{\"marker\":{\"color\":\"#000033\"}},\"increasing\":{\"marker\":{\"color\":\"#000032\"}},\"totals\":{\"marker\":{\"color\":\"#000034\"}},\"type\":\"waterfall\"}]},\"layout\":{\"coloraxis\":{\"colorscale\":[[0.0,\"#000011\"],[0.1111111111111111,\"#000012\"],[0.2222222222222222,\"#000013\"],[0.3333333333333333,\"#000014\"],[0.4444444444444444,\"#000015\"],[0.5555555555555556,\"#000016\"],[0.6666666666666666,\"#000017\"],[0.7777777777777778,\"#000018\"],[0.8888888888888888,\"#000019\"],[1.0,\"#000020\"]]},\"colorscale\":{\"diverging\":[[0.0,\"#000021\"],[0.1,\"#000022\"],[0.2,\"#000023\"],[0.3,\"#000024\"],[0.4,\"#000025\"],[0.5,\"#000026\"],[0.6,\"#000027\"],[0.7,\"#000028\"],[0.8,\"#000029\"],[0.9,\"#000030\"],[1.0,\"#000031\"]],\"sequential\":[[0.0,\"#000011\"],[0.1111111111111111,\"#000012\"],[0.2222222222222222,\"#000013\"],[0.3333333333333333,\"#000014\"],[0.4444444444444444,\"#000015\"],[0.5555555555555556,\"#000016\"],[0.6666666666666666,\"#000017\"],[0.7777777777777778,\"#000018\"],[0.8888888888888888,\"#000019\"],[1.0,\"#000020\"]],\"sequentialminus\":[[0.0,\"#000011\"],[0.1111111111111111,\"#000012\"],[0.2222222222222222,\"#000013\"],[0.3333333333333333,\"#000014\"],[0.4444444444444444,\"#000015\"],[0.5555555555555556,\"#000016\"],[0.6666666666666666,\"#000017\"],[0.7777777777777778,\"#000018\"],[0.8888888888888888,\"#000019\"],[1.0,\"#000020\"]]},\"colorway\":[\"#000001\",\"#000002\",\"#000003\",\"#000004\",\"#000005\",\"#000006\",\"#000007\",\"#000008\",\"#000009\",\"#000010\"]}},\"xaxis\":{\"anchor\":\"y\",\"domain\":[0.0,1.0],\"title\":{\"text\":\"Plot_Name\"}},\"yaxis\":{\"anchor\":\"x\",\"domain\":[0.0,1.0],\"title\":{\"text\":\"Unique_Species\"}},\"legend\":{\"title\":{\"text\":\"Habitat\"},\"tracegroupgap\":0},\"title\":{\"text\":\"Top 10 Plots by Unique Species Across Habitats\"},\"barmode\":\"relative\"},                        {\"responsive\": true}                    ).then(function(){\n",
       "                            \n",
       "var gd = document.getElementById('a7235ced-4638-4002-b260-a771861b0a6f');\n",
       "var x = new MutationObserver(function (mutations, observer) {{\n",
       "        var display = window.getComputedStyle(gd).display;\n",
       "        if (!display || display === 'none') {{\n",
       "            console.log([gd, 'removed!']);\n",
       "            Plotly.purge(gd);\n",
       "            observer.disconnect();\n",
       "        }}\n",
       "}});\n",
       "\n",
       "// Listen for the removal of the full notebook cells\n",
       "var notebookContainer = gd.closest('#notebook-container');\n",
       "if (notebookContainer) {{\n",
       "    x.observe(notebookContainer, {childList: true});\n",
       "}}\n",
       "\n",
       "// Listen for the clearing of the current output cell\n",
       "var outputEl = gd.closest('.output');\n",
       "if (outputEl) {{\n",
       "    x.observe(outputEl, {childList: true});\n",
       "}}\n",
       "\n",
       "                        })                };                });            </script>        </div>"
      ]
     },
     "metadata": {},
     "output_type": "display_data"
    },
    {
     "data": {
      "application/vnd.plotly.v1+json": {
       "config": {
        "plotlyServerURL": "https://plot.ly"
       },
       "data": [
        {
         "alignmentgroup": "True",
         "hovertemplate": "Habitat=Forest<br>Admin_Unit_Code=%{x}<br>Observation_Count=%{y}<extra></extra>",
         "legendgroup": "Forest",
         "marker": {
          "color": "#000001",
          "pattern": {
           "shape": ""
          }
         },
         "name": "Forest",
         "offsetgroup": "Forest",
         "orientation": "v",
         "showlegend": true,
         "textposition": "auto",
         "type": "bar",
         "x": [
          "ANTI",
          "CATO",
          "CHOH",
          "GWMP",
          "HAFE",
          "MANA",
          "MONO",
          "NACE",
          "PRWI",
          "ROCR",
          "WOTR"
         ],
         "xaxis": "x",
         "y": [
          321,
          764,
          2088,
          365,
          403,
          447,
          350,
          651,
          2344,
          272,
          122
         ],
         "yaxis": "y"
        },
        {
         "alignmentgroup": "True",
         "hovertemplate": "Habitat=Grassland<br>Admin_Unit_Code=%{x}<br>Observation_Count=%{y}<extra></extra>",
         "legendgroup": "Grassland",
         "marker": {
          "color": "#000002",
          "pattern": {
           "shape": ""
          }
         },
         "name": "Grassland",
         "offsetgroup": "Grassland",
         "orientation": "v",
         "showlegend": true,
         "textposition": "auto",
         "type": "bar",
         "x": [
          "ANTI",
          "HAFE",
          "MANA",
          "MONO"
         ],
         "xaxis": "x",
         "y": [
          2968,
          96,
          1353,
          2028
         ],
         "yaxis": "y"
        }
       ],
       "layout": {
        "autosize": true,
        "barmode": "group",
        "legend": {
         "title": {
          "text": "Habitat"
         },
         "tracegroupgap": 0
        },
        "template": {
         "data": {
          "candlestick": [
           {
            "decreasing": {
             "line": {
              "color": "#000033"
             }
            },
            "increasing": {
             "line": {
              "color": "#000032"
             }
            },
            "type": "candlestick"
           }
          ],
          "contour": [
           {
            "colorscale": [
             [
              0,
              "#000011"
             ],
             [
              0.1111111111111111,
              "#000012"
             ],
             [
              0.2222222222222222,
              "#000013"
             ],
             [
              0.3333333333333333,
              "#000014"
             ],
             [
              0.4444444444444444,
              "#000015"
             ],
             [
              0.5555555555555556,
              "#000016"
             ],
             [
              0.6666666666666666,
              "#000017"
             ],
             [
              0.7777777777777778,
              "#000018"
             ],
             [
              0.8888888888888888,
              "#000019"
             ],
             [
              1,
              "#000020"
             ]
            ],
            "type": "contour"
           }
          ],
          "contourcarpet": [
           {
            "colorscale": [
             [
              0,
              "#000011"
             ],
             [
              0.1111111111111111,
              "#000012"
             ],
             [
              0.2222222222222222,
              "#000013"
             ],
             [
              0.3333333333333333,
              "#000014"
             ],
             [
              0.4444444444444444,
              "#000015"
             ],
             [
              0.5555555555555556,
              "#000016"
             ],
             [
              0.6666666666666666,
              "#000017"
             ],
             [
              0.7777777777777778,
              "#000018"
             ],
             [
              0.8888888888888888,
              "#000019"
             ],
             [
              1,
              "#000020"
             ]
            ],
            "type": "contourcarpet"
           }
          ],
          "heatmap": [
           {
            "colorscale": [
             [
              0,
              "#000011"
             ],
             [
              0.1111111111111111,
              "#000012"
             ],
             [
              0.2222222222222222,
              "#000013"
             ],
             [
              0.3333333333333333,
              "#000014"
             ],
             [
              0.4444444444444444,
              "#000015"
             ],
             [
              0.5555555555555556,
              "#000016"
             ],
             [
              0.6666666666666666,
              "#000017"
             ],
             [
              0.7777777777777778,
              "#000018"
             ],
             [
              0.8888888888888888,
              "#000019"
             ],
             [
              1,
              "#000020"
             ]
            ],
            "type": "heatmap"
           }
          ],
          "histogram2d": [
           {
            "colorscale": [
             [
              0,
              "#000011"
             ],
             [
              0.1111111111111111,
              "#000012"
             ],
             [
              0.2222222222222222,
              "#000013"
             ],
             [
              0.3333333333333333,
              "#000014"
             ],
             [
              0.4444444444444444,
              "#000015"
             ],
             [
              0.5555555555555556,
              "#000016"
             ],
             [
              0.6666666666666666,
              "#000017"
             ],
             [
              0.7777777777777778,
              "#000018"
             ],
             [
              0.8888888888888888,
              "#000019"
             ],
             [
              1,
              "#000020"
             ]
            ],
            "type": "histogram2d"
           }
          ],
          "icicle": [
           {
            "textfont": {
             "color": "white"
            },
            "type": "icicle"
           }
          ],
          "sankey": [
           {
            "textfont": {
             "color": "#000036"
            },
            "type": "sankey"
           }
          ],
          "scatter": [
           {
            "marker": {
             "line": {
              "width": 0
             }
            },
            "type": "scatter"
           }
          ],
          "table": [
           {
            "cells": {
             "fill": {
              "color": "#000038"
             },
             "font": {
              "color": "#000037"
             },
             "line": {
              "color": "#000039"
             }
            },
            "header": {
             "fill": {
              "color": "#000040"
             },
             "font": {
              "color": "#000036"
             },
             "line": {
              "color": "#000039"
             }
            },
            "type": "table"
           }
          ],
          "waterfall": [
           {
            "connector": {
             "line": {
              "color": "#000036",
              "width": 2
             }
            },
            "decreasing": {
             "marker": {
              "color": "#000033"
             }
            },
            "increasing": {
             "marker": {
              "color": "#000032"
             }
            },
            "totals": {
             "marker": {
              "color": "#000034"
             }
            },
            "type": "waterfall"
           }
          ]
         },
         "layout": {
          "coloraxis": {
           "colorscale": [
            [
             0,
             "#000011"
            ],
            [
             0.1111111111111111,
             "#000012"
            ],
            [
             0.2222222222222222,
             "#000013"
            ],
            [
             0.3333333333333333,
             "#000014"
            ],
            [
             0.4444444444444444,
             "#000015"
            ],
            [
             0.5555555555555556,
             "#000016"
            ],
            [
             0.6666666666666666,
             "#000017"
            ],
            [
             0.7777777777777778,
             "#000018"
            ],
            [
             0.8888888888888888,
             "#000019"
            ],
            [
             1,
             "#000020"
            ]
           ]
          },
          "colorscale": {
           "diverging": [
            [
             0,
             "#000021"
            ],
            [
             0.1,
             "#000022"
            ],
            [
             0.2,
             "#000023"
            ],
            [
             0.3,
             "#000024"
            ],
            [
             0.4,
             "#000025"
            ],
            [
             0.5,
             "#000026"
            ],
            [
             0.6,
             "#000027"
            ],
            [
             0.7,
             "#000028"
            ],
            [
             0.8,
             "#000029"
            ],
            [
             0.9,
             "#000030"
            ],
            [
             1,
             "#000031"
            ]
           ],
           "sequential": [
            [
             0,
             "#000011"
            ],
            [
             0.1111111111111111,
             "#000012"
            ],
            [
             0.2222222222222222,
             "#000013"
            ],
            [
             0.3333333333333333,
             "#000014"
            ],
            [
             0.4444444444444444,
             "#000015"
            ],
            [
             0.5555555555555556,
             "#000016"
            ],
            [
             0.6666666666666666,
             "#000017"
            ],
            [
             0.7777777777777778,
             "#000018"
            ],
            [
             0.8888888888888888,
             "#000019"
            ],
            [
             1,
             "#000020"
            ]
           ],
           "sequentialminus": [
            [
             0,
             "#000011"
            ],
            [
             0.1111111111111111,
             "#000012"
            ],
            [
             0.2222222222222222,
             "#000013"
            ],
            [
             0.3333333333333333,
             "#000014"
            ],
            [
             0.4444444444444444,
             "#000015"
            ],
            [
             0.5555555555555556,
             "#000016"
            ],
            [
             0.6666666666666666,
             "#000017"
            ],
            [
             0.7777777777777778,
             "#000018"
            ],
            [
             0.8888888888888888,
             "#000019"
            ],
            [
             1,
             "#000020"
            ]
           ]
          },
          "colorway": [
           "#000001",
           "#000002",
           "#000003",
           "#000004",
           "#000005",
           "#000006",
           "#000007",
           "#000008",
           "#000009",
           "#000010"
          ]
         }
        },
        "title": {
         "text": "Observations by Admin Unit Across Habitats"
        },
        "xaxis": {
         "anchor": "y",
         "autorange": true,
         "domain": [
          0,
          1
         ],
         "range": [
          -0.5,
          10.5
         ],
         "title": {
          "text": "Admin_Unit_Code"
         },
         "type": "category"
        },
        "yaxis": {
         "anchor": "x",
         "autorange": true,
         "domain": [
          0,
          1
         ],
         "range": [
          0,
          3124.2105263157896
         ],
         "title": {
          "text": "Observation_Count"
         },
         "type": "linear"
        }
       }
      },
      "image/png": "[encoded data removed]",
      "text/html": [
       "<div>                            <div id=\"dc880399-9ab3-4724-b647-57e03cb6ebc8\" class=\"plotly-graph-div\" style=\"height:525px; width:100%;\"></div>            <script type=\"text/javascript\">                require([\"plotly\"], function(Plotly) {                    window.PLOTLYENV=window.PLOTLYENV || {};                                    if (document.getElementById(\"dc880399-9ab3-4724-b647-57e03cb6ebc8\")) {                    Plotly.newPlot(                        \"dc880399-9ab3-4724-b647-57e03cb6ebc8\",                        [{\"alignmentgroup\":\"True\",\"hovertemplate\":\"Habitat=Forest\\u003cbr\\u003eAdmin_Unit_Code=%{x}\\u003cbr\\u003eObservation_Count=%{y}\\u003cextra\\u003e\\u003c\\u002fextra\\u003e\",\"legendgroup\":\"Forest\",\"marker\":{\"color\":\"#000001\",\"pattern\":{\"shape\":\"\"}},\"name\":\"Forest\",\"offsetgroup\":\"Forest\",\"orientation\":\"v\",\"showlegend\":true,\"textposition\":\"auto\",\"x\":[\"ANTI\",\"CATO\",\"CHOH\",\"GWMP\",\"HAFE\",\"MANA\",\"MONO\",\"NACE\",\"PRWI\",\"ROCR\",\"WOTR\"],\"xaxis\":\"x\",\"y\":[321,764,2088,365,403,447,350,651,2344,272,122],\"yaxis\":\"y\",\"type\":\"bar\"},{\"alignmentgroup\":\"True\",\"hovertemplate\":\"Habitat=Grassland\\u003cbr\\u003eAdmin_Unit_Code=%{x}\\u003cbr\\u003eObservation_Count=%{y}\\u003cextra\\u003e\\u003c\\u002fextra\\u003e\",\"legendgroup\":\"Grassland\",\"marker\":{\"color\":\"#000002\",\"pattern\":{\"shape\":\"\"}},\"name\":\"Grassland\",\"offsetgroup\":\"Grassland\",\"orientation\":\"v\",\"showlegend\":true,\"textposition\":\"auto\",\"x\":[\"ANTI\",\"HAFE\",\"MANA\",\"MONO\"],\"xaxis\":\"x\",\"y\":[2968,96,1353,2028],\"yaxis\":\"y\",\"type\":\"bar\"}],                        {\"template\":{\"data\":{\"candlestick\":[{\"decreasing\":{\"line\":{\"color\":\"#000033\"}},\"increasing\":{\"line\":{\"color\":\"#000032\"}},\"type\":\"candlestick\"}],\"contourcarpet\":[{\"colorscale\":[[0.0,\"#000011\"],[0.1111111111111111,\"#000012\"],[0.2222222222222222,\"#000013\"],[0.3333333333333333,\"#000014\"],[0.4444444444444444,\"#000015\"],[0.5555555555555556,\"#000016\"],[0.6666666666666666,\"#000017\"],[0.7777777777777778,\"#000018\"],[0.8888888888888888,\"#000019\"],[1.0,\"#000020\"]],\"type\":\"contourcarpet\"}],\"contour\":[{\"colorscale\":[[0.0,\"#000011\"],[0.1111111111111111,\"#000012\"],[0.2222222222222222,\"#000013\"],[0.3333333333333333,\"#000014\"],[0.4444444444444444,\"#000015\"],[0.5555555555555556,\"#000016\"],[0.6666666666666666,\"#000017\"],[0.7777777777777778,\"#000018\"],[0.8888888888888888,\"#000019\"],[1.0,\"#000020\"]],\"type\":\"contour\"}],\"heatmap\":[{\"colorscale\":[[0.0,\"#000011\"],[0.1111111111111111,\"#000012\"],[0.2222222222222222,\"#000013\"],[0.3333333333333333,\"#000014\"],[0.4444444444444444,\"#000015\"],[0.5555555555555556,\"#000016\"],[0.6666666666666666,\"#000017\"],[0.7777777777777778,\"#000018\"],[0.8888888888888888,\"#000019\"],[1.0,\"#000020\"]],\"type\":\"heatmap\"}],\"histogram2d\":[{\"colorscale\":[[0.0,\"#000011\"],[0.1111111111111111,\"#000012\"],[0.2222222222222222,\"#000013\"],[0.3333333333333333,\"#000014\"],[0.4444444444444444,\"#000015\"],[0.5555555555555556,\"#000016\"],[0.6666666666666666,\"#000017\"],[0.7777777777777778,\"#000018\"],[0.8888888888888888,\"#000019\"],[1.0,\"#000020\"]],\"type\":\"histogram2d\"}],\"icicle\":[{\"textfont\":{\"color\":\"white\"},\"type\":\"icicle\"}],\"sankey\":[{\"textfont\":{\"color\":\"#000036\"},\"type\":\"sankey\"}],\"scatter\":[{\"marker\":{\"line\":{\"width\":0}},\"type\":\"scatter\"}],\"table\":[{\"cells\":{\"fill\":{\"color\":\"#000038\"},\"font\":{\"color\":\"#000037\"},\"line\":{\"color\":\"#000039\"}},\"header\":{\"fill\":{\"color\":\"#000040\"},\"font\":{\"color\":\"#000036\"},\"line\":{\"color\":\"#000039\"}},\"type\":\"table\"}],\"waterfall\":[{\"connector\":{\"line\":{\"color\":\"#000036\",\"width\":2}},\"decreasing\":{\"marker\":{\"color\":\"#000033\"}},\"increasing\":{\"marker\":{\"color\":\"#000032\"}},\"totals\":{\"marker\":{\"color\":\"#000034\"}},\"type\":\"waterfall\"}]},\"layout\":{\"coloraxis\":{\"colorscale\":[[0.0,\"#000011\"],[0.1111111111111111,\"#000012\"],[0.2222222222222222,\"#000013\"],[0.3333333333333333,\"#000014\"],[0.4444444444444444,\"#000015\"],[0.5555555555555556,\"#000016\"],[0.6666666666666666,\"#000017\"],[0.7777777777777778,\"#000018\"],[0.8888888888888888,\"#000019\"],[1.0,\"#000020\"]]},\"colorscale\":{\"diverging\":[[0.0,\"#000021\"],[0.1,\"#000022\"],[0.2,\"#000023\"],[0.3,\"#000024\"],[0.4,\"#000025\"],[0.5,\"#000026\"],[0.6,\"#000027\"],[0.7,\"#000028\"],[0.8,\"#000029\"],[0.9,\"#000030\"],[1.0,\"#000031\"]],\"sequential\":[[0.0,\"#000011\"],[0.1111111111111111,\"#000012\"],[0.2222222222222222,\"#000013\"],[0.3333333333333333,\"#000014\"],[0.4444444444444444,\"#000015\"],[0.5555555555555556,\"#000016\"],[0.6666666666666666,\"#000017\"],[0.7777777777777778,\"#000018\"],[0.8888888888888888,\"#000019\"],[1.0,\"#000020\"]],\"sequentialminus\":[[0.0,\"#000011\"],[0.1111111111111111,\"#000012\"],[0.2222222222222222,\"#000013\"],[0.3333333333333333,\"#000014\"],[0.4444444444444444,\"#000015\"],[0.5555555555555556,\"#000016\"],[0.6666666666666666,\"#000017\"],[0.7777777777777778,\"#000018\"],[0.8888888888888888,\"#000019\"],[1.0,\"#000020\"]]},\"colorway\":[\"#000001\",\"#000002\",\"#000003\",\"#000004\",\"#000005\",\"#000006\",\"#000007\",\"#000008\",\"#000009\",\"#000010\"]}},\"xaxis\":{\"anchor\":\"y\",\"domain\":[0.0,1.0],\"title\":{\"text\":\"Admin_Unit_Code\"}},\"yaxis\":{\"anchor\":\"x\",\"domain\":[0.0,1.0],\"title\":{\"text\":\"Observation_Count\"}},\"legend\":{\"title\":{\"text\":\"Habitat\"},\"tracegroupgap\":0},\"title\":{\"text\":\"Observations by Admin Unit Across Habitats\"},\"barmode\":\"group\"},                        {\"responsive\": true}                    ).then(function(){\n",
       "                            \n",
       "var gd = document.getElementById('dc880399-9ab3-4724-b647-57e03cb6ebc8');\n",
       "var x = new MutationObserver(function (mutations, observer) {{\n",
       "        var display = window.getComputedStyle(gd).display;\n",
       "        if (!display || display === 'none') {{\n",
       "            console.log([gd, 'removed!']);\n",
       "            Plotly.purge(gd);\n",
       "            observer.disconnect();\n",
       "        }}\n",
       "}});\n",
       "\n",
       "// Listen for the removal of the full notebook cells\n",
       "var notebookContainer = gd.closest('#notebook-container');\n",
       "if (notebookContainer) {{\n",
       "    x.observe(notebookContainer, {childList: true});\n",
       "}}\n",
       "\n",
       "// Listen for the clearing of the current output cell\n",
       "var outputEl = gd.closest('.output');\n",
       "if (outputEl) {{\n",
       "    x.observe(outputEl, {childList: true});\n",
       "}}\n",
       "\n",
       "                        })                };                });            </script>        </div>"
      ]
     },
     "metadata": {},
     "output_type": "display_data"
    },
    {
     "name": "stdout",
     "output_type": "stream",
     "text": [
      "Unique Species by Habitat:\n"
     ]
    },
    {
     "data": {
      "text/html": [
       "<div>\n",
       "<style scoped>\n",
       "    .dataframe tbody tr th:only-of-type {\n",
       "        vertical-align: middle;\n",
       "    }\n",
       "\n",
       "    .dataframe tbody tr th {\n",
       "        vertical-align: top;\n",
       "    }\n",
       "\n",
       "    .dataframe thead th {\n",
       "        text-align: right;\n",
       "    }\n",
       "</style>\n",
       "<table border=\"1\" class=\"dataframe\">\n",
       "  <thead>\n",
       "    <tr style=\"text-align: right;\">\n",
       "      <th></th>\n",
       "      <th>Habitat</th>\n",
       "      <th>Unique_Species</th>\n",
       "    </tr>\n",
       "  </thead>\n",
       "  <tbody>\n",
       "    <tr>\n",
       "      <th>0</th>\n",
       "      <td>Forest</td>\n",
       "      <td>108</td>\n",
       "    </tr>\n",
       "    <tr>\n",
       "      <th>1</th>\n",
       "      <td>Grassland</td>\n",
       "      <td>107</td>\n",
       "    </tr>\n",
       "  </tbody>\n",
       "</table>\n",
       "</div>"
      ],
      "text/plain": [
       "     Habitat  Unique_Species\n",
       "0     Forest             108\n",
       "1  Grassland             107"
      ]
     },
     "metadata": {},
     "output_type": "display_data"
    },
    {
     "data": {
      "application/vnd.plotly.v1+json": {
       "config": {
        "plotlyServerURL": "https://plot.ly"
       },
       "data": [
        {
         "alignmentgroup": "True",
         "hovertemplate": "Habitat=Forest<br>ID_Method=%{x}<br>Count=%{y}<extra></extra>",
         "legendgroup": "Forest",
         "marker": {
          "color": "#000001",
          "pattern": {
           "shape": ""
          }
         },
         "name": "Forest",
         "offsetgroup": "Forest",
         "orientation": "v",
         "showlegend": true,
         "textposition": "auto",
         "type": "bar",
         "x": [
          "Calling",
          "Singing",
          "Visualization"
         ],
         "xaxis": "x",
         "y": [
          2579,
          5131,
          416
         ],
         "yaxis": "y"
        },
        {
         "alignmentgroup": "True",
         "hovertemplate": "Habitat=Grassland<br>ID_Method=%{x}<br>Count=%{y}<extra></extra>",
         "legendgroup": "Grassland",
         "marker": {
          "color": "#000002",
          "pattern": {
           "shape": ""
          }
         },
         "name": "Grassland",
         "offsetgroup": "Grassland",
         "orientation": "v",
         "showlegend": true,
         "textposition": "auto",
         "type": "bar",
         "x": [
          "Calling",
          "Singing",
          "Visualization"
         ],
         "xaxis": "x",
         "y": [
          1223,
          3959,
          1262
         ],
         "yaxis": "y"
        }
       ],
       "layout": {
        "autosize": true,
        "barmode": "group",
        "legend": {
         "title": {
          "text": "Habitat"
         },
         "tracegroupgap": 0
        },
        "template": {
         "data": {
          "candlestick": [
           {
            "decreasing": {
             "line": {
              "color": "#000033"
             }
            },
            "increasing": {
             "line": {
              "color": "#000032"
             }
            },
            "type": "candlestick"
           }
          ],
          "contour": [
           {
            "colorscale": [
             [
              0,
              "#000011"
             ],
             [
              0.1111111111111111,
              "#000012"
             ],
             [
              0.2222222222222222,
              "#000013"
             ],
             [
              0.3333333333333333,
              "#000014"
             ],
             [
              0.4444444444444444,
              "#000015"
             ],
             [
              0.5555555555555556,
              "#000016"
             ],
             [
              0.6666666666666666,
              "#000017"
             ],
             [
              0.7777777777777778,
              "#000018"
             ],
             [
              0.8888888888888888,
              "#000019"
             ],
             [
              1,
              "#000020"
             ]
            ],
            "type": "contour"
           }
          ],
          "contourcarpet": [
           {
            "colorscale": [
             [
              0,
              "#000011"
             ],
             [
              0.1111111111111111,
              "#000012"
             ],
             [
              0.2222222222222222,
              "#000013"
             ],
             [
              0.3333333333333333,
              "#000014"
             ],
             [
              0.4444444444444444,
              "#000015"
             ],
             [
              0.5555555555555556,
              "#000016"
             ],
             [
              0.6666666666666666,
              "#000017"
             ],
             [
              0.7777777777777778,
              "#000018"
             ],
             [
              0.8888888888888888,
              "#000019"
             ],
             [
              1,
              "#000020"
             ]
            ],
            "type": "contourcarpet"
           }
          ],
          "heatmap": [
           {
            "colorscale": [
             [
              0,
              "#000011"
             ],
             [
              0.1111111111111111,
              "#000012"
             ],
             [
              0.2222222222222222,
              "#000013"
             ],
             [
              0.3333333333333333,
              "#000014"
             ],
             [
              0.4444444444444444,
              "#000015"
             ],
             [
              0.5555555555555556,
              "#000016"
             ],
             [
              0.6666666666666666,
              "#000017"
             ],
             [
              0.7777777777777778,
              "#000018"
             ],
             [
              0.8888888888888888,
              "#000019"
             ],
             [
              1,
              "#000020"
             ]
            ],
            "type": "heatmap"
           }
          ],
          "histogram2d": [
           {
            "colorscale": [
             [
              0,
              "#000011"
             ],
             [
              0.1111111111111111,
              "#000012"
             ],
             [
              0.2222222222222222,
              "#000013"
             ],
             [
              0.3333333333333333,
              "#000014"
             ],
             [
              0.4444444444444444,
              "#000015"
             ],
             [
              0.5555555555555556,
              "#000016"
             ],
             [
              0.6666666666666666,
              "#000017"
             ],
             [
              0.7777777777777778,
              "#000018"
             ],
             [
              0.8888888888888888,
              "#000019"
             ],
             [
              1,
              "#000020"
             ]
            ],
            "type": "histogram2d"
           }
          ],
          "icicle": [
           {
            "textfont": {
             "color": "white"
            },
            "type": "icicle"
           }
          ],
          "sankey": [
           {
            "textfont": {
             "color": "#000036"
            },
            "type": "sankey"
           }
          ],
          "scatter": [
           {
            "marker": {
             "line": {
              "width": 0
             }
            },
            "type": "scatter"
           }
          ],
          "table": [
           {
            "cells": {
             "fill": {
              "color": "#000038"
             },
             "font": {
              "color": "#000037"
             },
             "line": {
              "color": "#000039"
             }
            },
            "header": {
             "fill": {
              "color": "#000040"
             },
             "font": {
              "color": "#000036"
             },
             "line": {
              "color": "#000039"
             }
            },
            "type": "table"
           }
          ],
          "waterfall": [
           {
            "connector": {
             "line": {
              "color": "#000036",
              "width": 2
             }
            },
            "decreasing": {
             "marker": {
              "color": "#000033"
             }
            },
            "increasing": {
             "marker": {
              "color": "#000032"
             }
            },
            "totals": {
             "marker": {
              "color": "#000034"
             }
            },
            "type": "waterfall"
           }
          ]
         },
         "layout": {
          "coloraxis": {
           "colorscale": [
            [
             0,
             "#000011"
            ],
            [
             0.1111111111111111,
             "#000012"
            ],
            [
             0.2222222222222222,
             "#000013"
            ],
            [
             0.3333333333333333,
             "#000014"
            ],
            [
             0.4444444444444444,
             "#000015"
            ],
            [
             0.5555555555555556,
             "#000016"
            ],
            [
             0.6666666666666666,
             "#000017"
            ],
            [
             0.7777777777777778,
             "#000018"
            ],
            [
             0.8888888888888888,
             "#000019"
            ],
            [
             1,
             "#000020"
            ]
           ]
          },
          "colorscale": {
           "diverging": [
            [
             0,
             "#000021"
            ],
            [
             0.1,
             "#000022"
            ],
            [
             0.2,
             "#000023"
            ],
            [
             0.3,
             "#000024"
            ],
            [
             0.4,
             "#000025"
            ],
            [
             0.5,
             "#000026"
            ],
            [
             0.6,
             "#000027"
            ],
            [
             0.7,
             "#000028"
            ],
            [
             0.8,
             "#000029"
            ],
            [
             0.9,
             "#000030"
            ],
            [
             1,
             "#000031"
            ]
           ],
           "sequential": [
            [
             0,
             "#000011"
            ],
            [
             0.1111111111111111,
             "#000012"
            ],
            [
             0.2222222222222222,
             "#000013"
            ],
            [
             0.3333333333333333,
             "#000014"
            ],
            [
             0.4444444444444444,
             "#000015"
            ],
            [
             0.5555555555555556,
             "#000016"
            ],
            [
             0.6666666666666666,
             "#000017"
            ],
            [
             0.7777777777777778,
             "#000018"
            ],
            [
             0.8888888888888888,
             "#000019"
            ],
            [
             1,
             "#000020"
            ]
           ],
           "sequentialminus": [
            [
             0,
             "#000011"
            ],
            [
             0.1111111111111111,
             "#000012"
            ],
            [
             0.2222222222222222,
             "#000013"
            ],
            [
             0.3333333333333333,
             "#000014"
            ],
            [
             0.4444444444444444,
             "#000015"
            ],
            [
             0.5555555555555556,
             "#000016"
            ],
            [
             0.6666666666666666,
             "#000017"
            ],
            [
             0.7777777777777778,
             "#000018"
            ],
            [
             0.8888888888888888,
             "#000019"
            ],
            [
             1,
             "#000020"
            ]
           ]
          },
          "colorway": [
           "#000001",
           "#000002",
           "#000003",
           "#000004",
           "#000005",
           "#000006",
           "#000007",
           "#000008",
           "#000009",
           "#000010"
          ]
         }
        },
        "title": {
         "text": "Observation Activity Types Across Habitats"
        },
        "xaxis": {
         "anchor": "y",
         "autorange": true,
         "domain": [
          0,
          1
         ],
         "range": [
          -0.5,
          2.5
         ],
         "title": {
          "text": "ID_Method"
         },
         "type": "category"
        },
        "yaxis": {
         "anchor": "x",
         "autorange": true,
         "domain": [
          0,
          1
         ],
         "range": [
          0,
          5401.0526315789475
         ],
         "title": {
          "text": "Count"
         },
         "type": "linear"
        }
       }
      },
      "image/png": "[encoded data removed]",
      "text/html": [
       "<div>                            <div id=\"a1b48df6-4ddb-490b-bde2-a7e8ed4c27cd\" class=\"plotly-graph-div\" style=\"height:525px; width:100%;\"></div>            <script type=\"text/javascript\">                require([\"plotly\"], function(Plotly) {                    window.PLOTLYENV=window.PLOTLYENV || {};                                    if (document.getElementById(\"a1b48df6-4ddb-490b-bde2-a7e8ed4c27cd\")) {                    Plotly.newPlot(                        \"a1b48df6-4ddb-490b-bde2-a7e8ed4c27cd\",                        [{\"alignmentgroup\":\"True\",\"hovertemplate\":\"Habitat=Forest\\u003cbr\\u003eID_Method=%{x}\\u003cbr\\u003eCount=%{y}\\u003cextra\\u003e\\u003c\\u002fextra\\u003e\",\"legendgroup\":\"Forest\",\"marker\":{\"color\":\"#000001\",\"pattern\":{\"shape\":\"\"}},\"name\":\"Forest\",\"offsetgroup\":\"Forest\",\"orientation\":\"v\",\"showlegend\":true,\"textposition\":\"auto\",\"x\":[\"Calling\",\"Singing\",\"Visualization\"],\"xaxis\":\"x\",\"y\":[2579,5131,416],\"yaxis\":\"y\",\"type\":\"bar\"},{\"alignmentgroup\":\"True\",\"hovertemplate\":\"Habitat=Grassland\\u003cbr\\u003eID_Method=%{x}\\u003cbr\\u003eCount=%{y}\\u003cextra\\u003e\\u003c\\u002fextra\\u003e\",\"legendgroup\":\"Grassland\",\"marker\":{\"color\":\"#000002\",\"pattern\":{\"shape\":\"\"}},\"name\":\"Grassland\",\"offsetgroup\":\"Grassland\",\"orientation\":\"v\",\"showlegend\":true,\"textposition\":\"auto\",\"x\":[\"Calling\",\"Singing\",\"Visualization\"],\"xaxis\":\"x\",\"y\":[1223,3959,1262],\"yaxis\":\"y\",\"type\":\"bar\"}],                        {\"template\":{\"data\":{\"candlestick\":[{\"decreasing\":{\"line\":{\"color\":\"#000033\"}},\"increasing\":{\"line\":{\"color\":\"#000032\"}},\"type\":\"candlestick\"}],\"contourcarpet\":[{\"colorscale\":[[0.0,\"#000011\"],[0.1111111111111111,\"#000012\"],[0.2222222222222222,\"#000013\"],[0.3333333333333333,\"#000014\"],[0.4444444444444444,\"#000015\"],[0.5555555555555556,\"#000016\"],[0.6666666666666666,\"#000017\"],[0.7777777777777778,\"#000018\"],[0.8888888888888888,\"#000019\"],[1.0,\"#000020\"]],\"type\":\"contourcarpet\"}],\"contour\":[{\"colorscale\":[[0.0,\"#000011\"],[0.1111111111111111,\"#000012\"],[0.2222222222222222,\"#000013\"],[0.3333333333333333,\"#000014\"],[0.4444444444444444,\"#000015\"],[0.5555555555555556,\"#000016\"],[0.6666666666666666,\"#000017\"],[0.7777777777777778,\"#000018\"],[0.8888888888888888,\"#000019\"],[1.0,\"#000020\"]],\"type\":\"contour\"}],\"heatmap\":[{\"colorscale\":[[0.0,\"#000011\"],[0.1111111111111111,\"#000012\"],[0.2222222222222222,\"#000013\"],[0.3333333333333333,\"#000014\"],[0.4444444444444444,\"#000015\"],[0.5555555555555556,\"#000016\"],[0.6666666666666666,\"#000017\"],[0.7777777777777778,\"#000018\"],[0.8888888888888888,\"#000019\"],[1.0,\"#000020\"]],\"type\":\"heatmap\"}],\"histogram2d\":[{\"colorscale\":[[0.0,\"#000011\"],[0.1111111111111111,\"#000012\"],[0.2222222222222222,\"#000013\"],[0.3333333333333333,\"#000014\"],[0.4444444444444444,\"#000015\"],[0.5555555555555556,\"#000016\"],[0.6666666666666666,\"#000017\"],[0.7777777777777778,\"#000018\"],[0.8888888888888888,\"#000019\"],[1.0,\"#000020\"]],\"type\":\"histogram2d\"}],\"icicle\":[{\"textfont\":{\"color\":\"white\"},\"type\":\"icicle\"}],\"sankey\":[{\"textfont\":{\"color\":\"#000036\"},\"type\":\"sankey\"}],\"scatter\":[{\"marker\":{\"line\":{\"width\":0}},\"type\":\"scatter\"}],\"table\":[{\"cells\":{\"fill\":{\"color\":\"#000038\"},\"font\":{\"color\":\"#000037\"},\"line\":{\"color\":\"#000039\"}},\"header\":{\"fill\":{\"color\":\"#000040\"},\"font\":{\"color\":\"#000036\"},\"line\":{\"color\":\"#000039\"}},\"type\":\"table\"}],\"waterfall\":[{\"connector\":{\"line\":{\"color\":\"#000036\",\"width\":2}},\"decreasing\":{\"marker\":{\"color\":\"#000033\"}},\"increasing\":{\"marker\":{\"color\":\"#000032\"}},\"totals\":{\"marker\":{\"color\":\"#000034\"}},\"type\":\"waterfall\"}]},\"layout\":{\"coloraxis\":{\"colorscale\":[[0.0,\"#000011\"],[0.1111111111111111,\"#000012\"],[0.2222222222222222,\"#000013\"],[0.3333333333333333,\"#000014\"],[0.4444444444444444,\"#000015\"],[0.5555555555555556,\"#000016\"],[0.6666666666666666,\"#000017\"],[0.7777777777777778,\"#000018\"],[0.8888888888888888,\"#000019\"],[1.0,\"#000020\"]]},\"colorscale\":{\"diverging\":[[0.0,\"#000021\"],[0.1,\"#000022\"],[0.2,\"#000023\"],[0.3,\"#000024\"],[0.4,\"#000025\"],[0.5,\"#000026\"],[0.6,\"#000027\"],[0.7,\"#000028\"],[0.8,\"#000029\"],[0.9,\"#000030\"],[1.0,\"#000031\"]],\"sequential\":[[0.0,\"#000011\"],[0.1111111111111111,\"#000012\"],[0.2222222222222222,\"#000013\"],[0.3333333333333333,\"#000014\"],[0.4444444444444444,\"#000015\"],[0.5555555555555556,\"#000016\"],[0.6666666666666666,\"#000017\"],[0.7777777777777778,\"#000018\"],[0.8888888888888888,\"#000019\"],[1.0,\"#000020\"]],\"sequentialminus\":[[0.0,\"#000011\"],[0.1111111111111111,\"#000012\"],[0.2222222222222222,\"#000013\"],[0.3333333333333333,\"#000014\"],[0.4444444444444444,\"#000015\"],[0.5555555555555556,\"#000016\"],[0.6666666666666666,\"#000017\"],[0.7777777777777778,\"#000018\"],[0.8888888888888888,\"#000019\"],[1.0,\"#000020\"]]},\"colorway\":[\"#000001\",\"#000002\",\"#000003\",\"#000004\",\"#000005\",\"#000006\",\"#000007\",\"#000008\",\"#000009\",\"#000010\"]}},\"xaxis\":{\"anchor\":\"y\",\"domain\":[0.0,1.0],\"title\":{\"text\":\"ID_Method\"}},\"yaxis\":{\"anchor\":\"x\",\"domain\":[0.0,1.0],\"title\":{\"text\":\"Count\"}},\"legend\":{\"title\":{\"text\":\"Habitat\"},\"tracegroupgap\":0},\"title\":{\"text\":\"Observation Activity Types Across Habitats\"},\"barmode\":\"group\"},                        {\"responsive\": true}                    ).then(function(){\n",
       "                            \n",
       "var gd = document.getElementById('a1b48df6-4ddb-490b-bde2-a7e8ed4c27cd');\n",
       "var x = new MutationObserver(function (mutations, observer) {{\n",
       "        var display = window.getComputedStyle(gd).display;\n",
       "        if (!display || display === 'none') {{\n",
       "            console.log([gd, 'removed!']);\n",
       "            Plotly.purge(gd);\n",
       "            observer.disconnect();\n",
       "        }}\n",
       "}});\n",
       "\n",
       "// Listen for the removal of the full notebook cells\n",
       "var notebookContainer = gd.closest('#notebook-container');\n",
       "if (notebookContainer) {{\n",
       "    x.observe(notebookContainer, {childList: true});\n",
       "}}\n",
       "\n",
       "// Listen for the clearing of the current output cell\n",
       "var outputEl = gd.closest('.output');\n",
       "if (outputEl) {{\n",
       "    x.observe(outputEl, {childList: true});\n",
       "}}\n",
       "\n",
       "                        })                };                });            </script>        </div>"
      ]
     },
     "metadata": {},
     "output_type": "display_data"
    },
    {
     "data": {
      "application/vnd.plotly.v1+json": {
       "config": {
        "plotlyServerURL": "https://plot.ly"
       },
       "data": [
        {
         "hovertemplate": "Habitat=Forest<br>Temperature=%{x}<br>Humidity=%{y}<br>Observation_Count=%{marker.size}<extra></extra>",
         "legendgroup": "Forest",
         "marker": {
          "color": "#000001",
          "size": [
           9,
           5,
           10,
           7,
           8,
           15,
           38,
           17,
           13,
           13,
           16,
           15,
           11,
           16,
           50,
           12,
           13,
           10,
           19,
           14,
           29,
           17,
           13,
           16,
           13,
           13,
           10,
           14,
           13,
           11,
           10,
           11,
           10,
           13,
           14,
           9,
           13,
           11,
           14,
           13,
           11,
           9,
           18,
           12,
           10,
           6,
           9,
           7,
           10,
           9,
           9,
           14,
           8,
           9,
           4,
           9,
           7,
           5,
           13,
           11,
           9,
           10,
           8,
           5,
           15,
           7,
           11,
           12,
           11,
           5,
           11,
           18,
           4,
           7,
           5,
           8,
           12,
           6,
           12,
           14,
           7,
           5,
           9,
           15,
           17,
           18,
           15,
           18,
           12,
           6,
           12,
           13,
           9,
           8,
           15,
           11,
           3,
           22,
           11,
           9,
           15,
           10,
           9,
           9,
           7,
           15,
           11,
           11,
           11,
           11,
           8,
           9,
           16,
           12,
           23,
           14,
           6,
           10,
           6,
           12,
           10,
           19,
           11,
           15,
           7,
           9,
           16,
           14,
           14,
           22,
           9,
           8,
           11,
           33,
           9,
           9,
           12,
           15,
           14,
           11,
           15,
           11,
           10,
           9,
           15,
           7,
           10,
           11,
           13,
           15,
           6,
           13,
           9,
           13,
           14,
           12,
           16,
           16,
           17,
           7,
           16,
           4,
           10,
           24,
           16,
           6,
           14,
           14,
           14,
           13,
           39,
           8,
           7,
           12,
           14,
           10,
           8,
           10,
           13,
           6,
           14,
           10,
           12,
           18,
           17,
           9,
           9,
           13,
           11,
           6,
           12,
           14,
           7,
           8,
           17,
           28,
           11,
           7,
           16,
           18,
           5,
           8,
           24,
           12,
           10,
           14,
           13,
           10,
           15,
           7,
           12,
           12,
           11,
           3,
           9,
           11,
           8,
           10,
           12,
           8,
           22,
           10,
           11,
           8,
           19,
           13,
           18,
           11,
           8,
           4,
           9,
           15,
           15,
           7,
           13,
           12,
           13,
           9,
           23,
           7,
           9,
           13,
           8,
           15,
           4,
           8,
           14,
           31,
           12,
           7,
           11,
           6,
           8,
           15,
           10,
           24,
           11,
           6,
           11,
           6,
           7,
           8,
           17,
           7,
           10,
           11,
           6,
           11,
           8,
           21,
           12,
           3,
           18,
           14,
           13,
           13,
           7,
           12,
           12,
           12,
           10,
           18,
           14,
           7,
           9,
           11,
           8,
           14,
           6,
           10,
           10,
           12,
           5,
           13,
           12,
           8,
           11,
           13,
           10,
           12,
           9,
           8,
           11,
           12,
           7,
           11,
           12,
           10,
           17,
           15,
           11,
           8,
           6,
           15,
           14,
           9,
           11,
           6,
           15,
           9,
           10,
           15,
           9,
           11,
           14,
           10,
           9,
           15,
           15,
           5,
           6,
           13,
           10,
           6,
           16,
           8,
           8,
           7,
           18,
           10,
           7,
           5,
           9,
           8,
           9,
           2,
           7,
           11,
           11,
           14,
           9,
           8,
           9,
           14,
           14,
           12,
           11,
           6,
           11,
           10,
           12,
           8,
           17,
           10,
           10,
           15,
           11,
           8,
           11,
           12,
           12,
           11,
           6,
           11,
           5,
           12,
           20,
           6,
           9,
           10,
           14,
           10,
           9,
           11,
           7,
           8,
           8,
           9,
           13,
           9,
           23,
           15,
           10,
           14,
           10,
           15,
           7,
           16,
           9,
           9,
           14,
           7,
           5,
           7,
           14,
           6,
           16,
           19,
           15,
           15,
           11,
           10,
           7,
           9,
           11,
           5,
           5,
           10,
           18,
           7,
           12,
           9,
           10,
           9,
           8,
           9,
           15,
           7,
           13,
           8,
           16,
           7,
           11,
           12,
           8,
           12,
           7,
           8,
           8,
           9,
           14,
           8,
           7,
           6,
           18,
           9,
           8,
           7,
           16,
           10,
           5,
           7,
           12,
           13,
           12,
           14,
           7,
           10,
           11,
           13,
           13,
           10,
           9,
           14,
           7,
           11,
           12,
           11,
           7,
           6,
           9,
           11,
           13,
           8,
           13,
           9,
           12,
           18,
           11,
           9,
           6,
           12,
           10,
           9,
           12,
           13,
           32,
           8,
           15,
           12,
           9,
           5,
           8,
           12,
           14,
           5,
           4,
           9,
           12,
           11,
           12,
           11,
           21,
           13,
           10,
           5,
           9,
           10,
           13,
           6,
           12,
           8,
           11,
           20,
           10,
           3,
           4,
           10,
           22,
           6,
           6,
           5,
           11,
           5,
           10,
           5,
           19,
           11,
           14,
           11,
           13,
           8,
           10,
           11,
           10,
           12,
           12,
           11,
           6,
           13,
           9,
           10,
           4,
           10,
           8,
           6,
           18,
           10,
           9,
           11,
           8,
           14,
           15,
           13,
           15,
           5,
           6,
           6,
           13,
           8,
           6,
           9,
           10,
           9,
           13,
           12,
           10,
           9,
           11,
           12,
           11,
           11,
           8,
           8,
           6,
           7,
           9,
           12,
           16,
           13,
           8,
           12,
           7,
           12,
           10,
           10,
           8,
           9,
           10,
           8,
           15,
           8,
           14,
           10,
           12,
           9,
           11,
           9,
           6,
           5,
           10,
           8,
           9,
           9,
           8,
           12,
           10,
           8,
           8,
           10,
           8,
           11,
           17,
           20,
           5,
           18,
           12,
           9,
           7,
           6,
           13,
           9,
           19,
           10,
           6,
           22,
           4,
           5,
           16,
           8,
           15,
           9,
           13,
           11,
           12,
           8,
           11,
           13,
           8,
           18,
           12,
           13,
           9,
           8,
           9,
           12,
           8,
           13,
           8,
           11,
           18,
           6,
           12,
           9,
           12,
           11,
           12,
           8,
           8,
           12,
           7,
           10,
           10,
           13,
           11,
           16,
           10,
           6,
           9,
           8,
           14,
           7,
           11,
           6,
           11,
           7,
           6,
           11,
           6,
           15,
           9,
           9,
           8,
           10,
           7,
           13,
           10,
           8,
           10,
           6,
           13,
           11,
           8,
           7,
           11,
           15,
           8,
           7,
           5,
           13,
           5,
           6,
           10,
           9,
           8,
           13,
           6,
           7,
           3,
           8,
           8,
           16,
           5,
           4,
           7,
           10,
           5,
           8,
           12,
           11,
           7,
           9,
           9,
           8,
           9,
           4,
           8,
           5,
           6,
           7,
           10,
           11,
           6,
           5,
           6,
           9,
           7,
           5,
           8,
           10,
           19,
           5,
           7,
           8,
           6,
           7,
           14,
           7,
           8,
           7,
           10,
           7
          ],
          "sizemode": "area",
          "sizeref": 0.29,
          "symbol": "circle"
         },
         "mode": "markers",
         "name": "Forest",
         "showlegend": true,
         "type": "scattergl",
         "x": [
          11,
          11.1999998092651,
          13.8000001907349,
          13.8000001907349,
          13.8999996185303,
          14,
          14,
          14,
          14.3000001907349,
          14.3999996185303,
          14.5,
          14.8000001907349,
          14.8000001907349,
          14.8000001907349,
          15,
          15,
          15,
          15,
          15.1000003814697,
          15.1999998092651,
          15.1999998092651,
          15.1999998092651,
          15.1999998092651,
          15.3999996185303,
          15.5,
          15.5,
          15.6000003814697,
          15.6000003814697,
          16,
          16,
          16,
          16,
          16,
          16.1000003814697,
          16.1000003814697,
          16.3999996185303,
          16.5,
          16.5,
          16.5,
          16.5,
          16.5,
          16.5,
          16.6000003814697,
          16.7000007629395,
          16.7000007629395,
          16.7999992370605,
          16.7999992370605,
          16.7999992370605,
          16.8999996185303,
          16.8999996185303,
          16.8999996185303,
          17,
          17,
          17,
          17,
          17,
          17.1000003814697,
          17.1000003814697,
          17.1000003814697,
          17.2000007629395,
          17.2000007629395,
          17.2000007629395,
          17.2000007629395,
          17.2000007629395,
          17.2000007629395,
          17.2999992370605,
          17.2999992370605,
          17.2999992370605,
          17.2999992370605,
          17.2999992370605,
          17.2999992370605,
          17.2999992370605,
          17.3999996185303,
          17.3999996185303,
          17.3999996185303,
          17.5,
          17.5,
          17.5,
          17.5,
          17.6000003814697,
          17.6000003814697,
          17.6000003814697,
          17.6000003814697,
          17.6000003814697,
          17.7000007629395,
          17.7000007629395,
          17.7000007629395,
          17.7000007629395,
          17.7999992370605,
          17.7999992370605,
          17.7999992370605,
          17.7999992370605,
          17.7999992370605,
          17.7999992370605,
          17.7999992370605,
          17.7999992370605,
          17.7999992370605,
          17.8999996185303,
          17.8999996185303,
          17.8999996185303,
          17.8999996185303,
          18,
          18,
          18,
          18,
          18,
          18,
          18,
          18.1000003814697,
          18.1000003814697,
          18.2000007629395,
          18.2000007629395,
          18.2999992370605,
          18.2999992370605,
          18.2999992370605,
          18.3999996185303,
          18.3999996185303,
          18.3999996185303,
          18.3999996185303,
          18.3999996185303,
          18.3999996185303,
          18.3999996185303,
          18.3999996185303,
          18.3999996185303,
          18.3999996185303,
          18.3999996185303,
          18.3999996185303,
          18.5,
          18.5,
          18.5,
          18.6000003814697,
          18.6000003814697,
          18.6000003814697,
          18.6000003814697,
          18.7000007629395,
          18.7000007629395,
          18.7000007629395,
          18.7000007629395,
          18.7000007629395,
          18.7999992370605,
          18.7999992370605,
          18.8999996185303,
          18.8999996185303,
          18.8999996185303,
          18.8999996185303,
          18.8999996185303,
          18.8999996185303,
          18.8999996185303,
          19,
          19,
          19.1000003814697,
          19.1000003814697,
          19.1000003814697,
          19.1000003814697,
          19.1000003814697,
          19.1000003814697,
          19.2000007629395,
          19.2000007629395,
          19.2000007629395,
          19.2000007629395,
          19.2000007629395,
          19.2000007629395,
          19.2999992370605,
          19.2999992370605,
          19.2999992370605,
          19.2999992370605,
          19.2999992370605,
          19.3999996185303,
          19.3999996185303,
          19.3999996185303,
          19.3999996185303,
          19.5,
          19.5,
          19.5,
          19.5,
          19.6000003814697,
          19.6000003814697,
          19.6000003814697,
          19.6000003814697,
          19.6000003814697,
          19.6000003814697,
          19.6000003814697,
          19.7000007629395,
          19.7000007629395,
          19.7000007629395,
          19.7000007629395,
          19.7000007629395,
          19.7000007629395,
          19.7000007629395,
          19.7999992370605,
          19.7999992370605,
          19.7999992370605,
          19.7999992370605,
          19.7999992370605,
          19.8999996185303,
          19.8999996185303,
          19.8999996185303,
          19.8999996185303,
          19.8999996185303,
          19.8999996185303,
          19.8999996185303,
          19.8999996185303,
          20,
          20,
          20,
          20,
          20,
          20,
          20,
          20.1000003814697,
          20.1000003814697,
          20.1000003814697,
          20.1000003814697,
          20.1000003814697,
          20.2000007629395,
          20.2000007629395,
          20.2000007629395,
          20.2000007629395,
          20.2000007629395,
          20.2000007629395,
          20.2999992370605,
          20.2999992370605,
          20.2999992370605,
          20.3999996185303,
          20.3999996185303,
          20.3999996185303,
          20.3999996185303,
          20.3999996185303,
          20.3999996185303,
          20.3999996185303,
          20.5,
          20.5,
          20.5,
          20.5,
          20.5,
          20.6000003814697,
          20.6000003814697,
          20.6000003814697,
          20.6000003814697,
          20.6000003814697,
          20.6000003814697,
          20.6000003814697,
          20.6000003814697,
          20.6000003814697,
          20.6000003814697,
          20.7000007629395,
          20.7000007629395,
          20.7000007629395,
          20.7000007629395,
          20.7999992370605,
          20.7999992370605,
          20.7999992370605,
          20.7999992370605,
          20.7999992370605,
          20.7999992370605,
          20.7999992370605,
          20.7999992370605,
          20.7999992370605,
          20.7999992370605,
          20.7999992370605,
          20.7999992370605,
          20.8999996185303,
          20.8999996185303,
          20.8999996185303,
          20.8999996185303,
          20.8999996185303,
          20.8999996185303,
          20.8999996185303,
          20.8999996185303,
          20.8999996185303,
          20.8999996185303,
          21,
          21,
          21,
          21,
          21,
          21,
          21,
          21,
          21,
          21.1000003814697,
          21.1000003814697,
          21.1000003814697,
          21.1000003814697,
          21.1000003814697,
          21.1000003814697,
          21.1000003814697,
          21.1000003814697,
          21.2000007629395,
          21.2000007629395,
          21.2000007629395,
          21.2000007629395,
          21.2000007629395,
          21.2000007629395,
          21.2000007629395,
          21.2999992370605,
          21.2999992370605,
          21.2999992370605,
          21.2999992370605,
          21.2999992370605,
          21.2999992370605,
          21.2999992370605,
          21.3999996185303,
          21.3999996185303,
          21.3999996185303,
          21.3999996185303,
          21.3999996185303,
          21.3999996185303,
          21.3999996185303,
          21.3999996185303,
          21.5,
          21.5,
          21.5,
          21.5,
          21.5,
          21.5,
          21.5,
          21.5,
          21.6000003814697,
          21.6000003814697,
          21.6000003814697,
          21.6000003814697,
          21.6000003814697,
          21.6000003814697,
          21.6000003814697,
          21.6000003814697,
          21.6000003814697,
          21.6000003814697,
          21.7000007629395,
          21.7000007629395,
          21.7000007629395,
          21.7000007629395,
          21.7000007629395,
          21.7000007629395,
          21.7000007629395,
          21.7000007629395,
          21.7999992370605,
          21.7999992370605,
          21.7999992370605,
          21.7999992370605,
          21.7999992370605,
          21.7999992370605,
          21.7999992370605,
          21.7999992370605,
          21.7999992370605,
          21.8999996185303,
          21.8999996185303,
          21.8999996185303,
          21.8999996185303,
          21.8999996185303,
          21.8999996185303,
          21.8999996185303,
          21.8999996185303,
          22,
          22,
          22,
          22,
          22,
          22,
          22,
          22,
          22,
          22,
          22,
          22,
          22,
          22,
          22.1000003814697,
          22.1000003814697,
          22.1000003814697,
          22.1000003814697,
          22.1000003814697,
          22.1000003814697,
          22.2000007629395,
          22.2000007629395,
          22.2000007629395,
          22.2000007629395,
          22.2000007629395,
          22.2000007629395,
          22.2000007629395,
          22.2000007629395,
          22.2000007629395,
          22.2999992370605,
          22.2999992370605,
          22.2999992370605,
          22.2999992370605,
          22.2999992370605,
          22.2999992370605,
          22.2999992370605,
          22.3999996185303,
          22.3999996185303,
          22.3999996185303,
          22.3999996185303,
          22.3999996185303,
          22.3999996185303,
          22.3999996185303,
          22.3999996185303,
          22.3999996185303,
          22.3999996185303,
          22.5,
          22.5,
          22.5,
          22.5,
          22.5,
          22.5,
          22.5,
          22.5,
          22.5,
          22.5,
          22.6000003814697,
          22.6000003814697,
          22.6000003814697,
          22.6000003814697,
          22.6000003814697,
          22.6000003814697,
          22.6000003814697,
          22.6000003814697,
          22.6000003814697,
          22.6000003814697,
          22.7000007629395,
          22.7000007629395,
          22.7000007629395,
          22.7000007629395,
          22.7000007629395,
          22.7000007629395,
          22.7000007629395,
          22.7999992370605,
          22.7999992370605,
          22.7999992370605,
          22.7999992370605,
          22.7999992370605,
          22.7999992370605,
          22.8999996185303,
          22.8999996185303,
          22.8999996185303,
          22.8999996185303,
          22.8999996185303,
          23,
          23,
          23,
          23,
          23,
          23,
          23,
          23,
          23,
          23,
          23,
          23,
          23,
          23,
          23.1000003814697,
          23.1000003814697,
          23.1000003814697,
          23.1000003814697,
          23.1000003814697,
          23.1000003814697,
          23.1000003814697,
          23.2000007629395,
          23.2000007629395,
          23.2000007629395,
          23.2000007629395,
          23.2000007629395,
          23.2000007629395,
          23.2000007629395,
          23.2000007629395,
          23.2000007629395,
          23.2000007629395,
          23.2000007629395,
          23.2000007629395,
          23.2000007629395,
          23.2000007629395,
          23.2000007629395,
          23.2000007629395,
          23.2000007629395,
          23.2000007629395,
          23.2000007629395,
          23.2000007629395,
          23.2999992370605,
          23.2999992370605,
          23.2999992370605,
          23.3999996185303,
          23.3999996185303,
          23.3999996185303,
          23.3999996185303,
          23.3999996185303,
          23.5,
          23.5,
          23.5,
          23.5,
          23.5,
          23.6000003814697,
          23.6000003814697,
          23.6000003814697,
          23.6000003814697,
          23.6000003814697,
          23.6000003814697,
          23.6000003814697,
          23.6000003814697,
          23.6000003814697,
          23.6000003814697,
          23.7000007629395,
          23.7000007629395,
          23.7000007629395,
          23.7000007629395,
          23.7000007629395,
          23.7000007629395,
          23.7999992370605,
          23.7999992370605,
          23.7999992370605,
          23.7999992370605,
          23.8999996185303,
          23.8999996185303,
          24,
          24,
          24,
          24,
          24,
          24,
          24,
          24,
          24,
          24.1000003814697,
          24.1000003814697,
          24.1000003814697,
          24.1000003814697,
          24.1000003814697,
          24.1000003814697,
          24.1000003814697,
          24.1000003814697,
          24.2000007629395,
          24.2000007629395,
          24.2000007629395,
          24.2000007629395,
          24.2999992370605,
          24.2999992370605,
          24.2999992370605,
          24.2999992370605,
          24.2999992370605,
          24.2999992370605,
          24.3999996185303,
          24.3999996185303,
          24.3999996185303,
          24.3999996185303,
          24.3999996185303,
          24.3999996185303,
          24.3999996185303,
          24.3999996185303,
          24.3999996185303,
          24.3999996185303,
          24.3999996185303,
          24.5,
          24.5,
          24.5,
          24.5,
          24.5,
          24.5,
          24.5,
          24.6000003814697,
          24.6000003814697,
          24.6000003814697,
          24.6000003814697,
          24.6000003814697,
          24.6000003814697,
          24.7000007629395,
          24.7000007629395,
          24.7000007629395,
          24.7000007629395,
          24.7999992370605,
          24.7999992370605,
          24.7999992370605,
          24.7999992370605,
          24.7999992370605,
          24.8999996185303,
          24.8999996185303,
          24.8999996185303,
          24.8999996185303,
          24.8999996185303,
          24.8999996185303,
          24.8999996185303,
          24.8999996185303,
          24.8999996185303,
          25,
          25,
          25,
          25,
          25,
          25,
          25,
          25,
          25,
          25.1000003814697,
          25.1000003814697,
          25.1000003814697,
          25.1000003814697,
          25.1000003814697,
          25.2000007629395,
          25.2000007629395,
          25.2000007629395,
          25.2000007629395,
          25.2000007629395,
          25.2000007629395,
          25.2000007629395,
          25.2000007629395,
          25.2000007629395,
          25.2999992370605,
          25.2999992370605,
          25.2999992370605,
          25.2999992370605,
          25.2999992370605,
          25.3999996185303,
          25.3999996185303,
          25.3999996185303,
          25.3999996185303,
          25.3999996185303,
          25.5,
          25.5,
          25.5,
          25.5,
          25.5,
          25.5,
          25.5,
          25.5,
          25.5,
          25.6000003814697,
          25.6000003814697,
          25.6000003814697,
          25.6000003814697,
          25.7000007629395,
          25.7000007629395,
          25.7000007629395,
          25.7000007629395,
          25.7999992370605,
          25.7999992370605,
          25.8999996185303,
          25.8999996185303,
          25.8999996185303,
          26,
          26,
          26,
          26,
          26,
          26.1000003814697,
          26.1000003814697,
          26.1000003814697,
          26.2000007629395,
          26.2000007629395,
          26.2000007629395,
          26.2000007629395,
          26.2999992370605,
          26.2999992370605,
          26.2999992370605,
          26.2999992370605,
          26.3999996185303,
          26.3999996185303,
          26.3999996185303,
          26.5,
          26.5,
          26.5,
          26.6000003814697,
          26.6000003814697,
          26.6000003814697,
          26.6000003814697,
          26.7000007629395,
          26.7000007629395,
          26.7999992370605,
          26.7999992370605,
          26.8999996185303,
          26.8999996185303,
          26.8999996185303,
          27,
          27,
          27.1000003814697,
          27.1000003814697,
          27.2000007629395,
          27.2000007629395,
          27.2000007629395,
          27.2000007629395,
          27.2000007629395,
          27.2999992370605,
          27.2999992370605,
          27.3999996185303,
          27.3999996185303,
          27.3999996185303,
          27.3999996185303,
          27.5,
          27.5,
          27.6000003814697,
          27.6000003814697,
          27.6000003814697,
          27.6000003814697,
          27.7999992370605,
          27.7999992370605,
          27.7999992370605,
          27.7999992370605,
          27.8999996185303,
          27.8999996185303,
          28,
          28,
          28,
          28,
          28,
          28.2000007629395,
          28.2000007629395,
          28.2000007629395,
          28.2000007629395,
          28.2999992370605,
          28.3999996185303,
          28.3999996185303,
          28.3999996185303,
          28.5,
          28.6000003814697,
          28.6000003814697,
          28.6000003814697,
          28.7999992370605,
          28.7999992370605,
          28.7999992370605,
          28.7999992370605,
          28.8999996185303,
          28.8999996185303,
          28.8999996185303,
          29,
          29,
          29,
          29.1000003814697,
          29.1000003814697,
          29.2000007629395,
          29.2999992370605,
          29.3999996185303,
          29.3999996185303,
          29.3999996185303,
          29.6000003814697,
          29.7000007629395,
          29.7000007629395,
          30,
          30,
          30.5,
          30.5,
          30.6000003814697,
          30.6000003814697,
          30.6000003814697,
          30.7000007629395,
          30.8999996185303,
          31,
          31.2000007629395,
          31.2000007629395,
          31.5,
          32,
          32.0999984741211,
          33,
          33.5999984741211,
          34.4000015258789
         ],
         "xaxis": "x",
         "y": [
          90.8000030517578,
          81.5,
          83.4000015258789,
          91.5,
          75.1999969482422,
          64.8000030517578,
          71,
          87.4000015258789,
          80.4000015258789,
          89.9000015258789,
          86.3000030517578,
          84.9000015258789,
          85,
          90.9000015258789,
          68,
          80.5999984741211,
          88.4000015258789,
          93.3000030517578,
          79.6999969482422,
          17.5,
          77.5,
          78.8000030517578,
          87.6999969482422,
          91.8000030517578,
          80.6999969482422,
          89.8000030517578,
          75.3000030517578,
          89.4000015258789,
          71,
          71.8000030517578,
          77.3000030517578,
          81.8000030517578,
          84.3000030517578,
          71.5999984741211,
          87.8000030517578,
          69.0999984741211,
          64.9000015258789,
          75.5,
          78.1999969482422,
          78.3000030517578,
          80.1999969482422,
          80.9000015258789,
          71.4000015258789,
          81,
          84.5,
          77.9000015258789,
          81.0999984741211,
          81.9000015258789,
          71.5,
          75.1999969482422,
          80.5,
          77.0999984741211,
          78.4000015258789,
          83.6999969482422,
          89.6999969482422,
          90.5999984741211,
          75.0999984741211,
          77.9000015258789,
          84.5999984741211,
          74.4000015258789,
          75.1999969482422,
          75.9000015258789,
          83.1999969482422,
          83.6999969482422,
          90.5999984741211,
          71.4000015258789,
          76.5999984741211,
          76.6999969482422,
          78.3000030517578,
          82,
          86.8000030517578,
          90.6999969482422,
          77.0999984741211,
          83.3000030517578,
          92.3000030517578,
          73.4000015258789,
          75.8000030517578,
          81.0999984741211,
          85.5,
          67.5,
          74.4000015258789,
          76.6999969482422,
          78,
          92.4000015258789,
          65.0999984741211,
          80.9000015258789,
          84.5999984741211,
          85.0999984741211,
          67.9000015258789,
          72.0999984741211,
          73,
          76.1999969482422,
          76.6999969482422,
          82.6999969482422,
          83.8000030517578,
          84.6999969482422,
          86.6999969482422,
          71.5,
          73,
          75.5,
          83.0999984741211,
          70.1999969482422,
          76.3000030517578,
          82.8000030517578,
          83.4000015258789,
          85.1999969482422,
          89.0999984741211,
          90,
          72.5999984741211,
          83.9000015258789,
          69.9000015258789,
          81.9000015258789,
          65.1999969482422,
          70.1999969482422,
          73.0999984741211,
          69.6999969482422,
          72.5999984741211,
          76.4000015258789,
          80.4000015258789,
          81.0999984741211,
          81.6999969482422,
          83.0999984741211,
          84,
          84.4000015258789,
          84.9000015258789,
          85.5999984741211,
          87.3000030517578,
          71.1999969482422,
          78.3000030517578,
          78.6999969482422,
          59.7999992370605,
          74.0999984741211,
          77,
          85.8000030517578,
          72.6999969482422,
          75.0999984741211,
          75.8000030517578,
          76,
          76.4000015258789,
          70,
          76.6999969482422,
          64.0999984741211,
          68.8000030517578,
          69.3000030517578,
          69.8000030517578,
          71,
          75.5999984741211,
          84.0999984741211,
          73,
          78.5,
          65.8000030517578,
          71.3000030517578,
          74.1999969482422,
          75.5999984741211,
          79.9000015258789,
          85.3000030517578,
          71.8000030517578,
          76.1999969482422,
          77.9000015258789,
          81.5,
          84.1999969482422,
          92.8000030517578,
          77.0999984741211,
          81.5,
          86.1999969482422,
          86.8000030517578,
          88.1999969482422,
          74.3000030517578,
          76.5999984741211,
          79.4000015258789,
          84.1999969482422,
          60.7000007629395,
          66.4000015258789,
          78.8000030517578,
          81.3000030517578,
          65.6999969482422,
          72.4000015258789,
          74.3000030517578,
          79,
          83.4000015258789,
          85.0999984741211,
          85.8000030517578,
          58.5999984741211,
          66.9000015258789,
          68.9000015258789,
          74.9000015258789,
          75.3000030517578,
          78.5999984741211,
          92.0999984741211,
          66.4000015258789,
          73.4000015258789,
          85.5,
          89.5999984741211,
          90.1999969482422,
          68.5,
          72.5,
          75.8000030517578,
          77.3000030517578,
          78.1999969482422,
          79.4000015258789,
          90.8000030517578,
          93.4000015258789,
          67.5,
          68,
          75.9000015258789,
          78.0999984741211,
          80.8000030517578,
          82.5999984741211,
          86.0999984741211,
          56.0999984741211,
          68.8000030517578,
          74,
          74.9000015258789,
          90.0999984741211,
          61.9000015258789,
          75.9000015258789,
          82.5999984741211,
          84.8000030517578,
          88.1999969482422,
          92.1999969482422,
          82.1999969482422,
          87.4000015258789,
          88.8000030517578,
          56.0999984741211,
          61.2000007629395,
          73.0999984741211,
          73.5,
          79.9000015258789,
          85.3000030517578,
          89.5,
          66.0999984741211,
          72.5999984741211,
          81.8000030517578,
          83.0999984741211,
          84.6999969482422,
          57.9000015258789,
          70.0999984741211,
          73.5999984741211,
          75.5,
          76.9000015258789,
          82.6999969482422,
          83.4000015258789,
          84.8000030517578,
          88,
          88.9000015258789,
          62.2999992370605,
          67.6999969482422,
          73.1999969482422,
          89.8000030517578,
          62.2999992370605,
          72.1999969482422,
          74.5999984741211,
          75.5,
          77,
          81.8000030517578,
          83.5999984741211,
          85.4000015258789,
          85.6999969482422,
          86.6999969482422,
          89.4000015258789,
          89.8000030517578,
          66.6999969482422,
          72.3000030517578,
          73.6999969482422,
          74.0999984741211,
          82.8000030517578,
          85.4000015258789,
          85.6999969482422,
          88.0999984741211,
          88.9000015258789,
          90.5,
          59.9000015258789,
          65.1999969482422,
          71.6999969482422,
          75.8000030517578,
          77.5,
          83.6999969482422,
          84,
          84.0999984741211,
          92.4000015258789,
          72.1999969482422,
          76.5999984741211,
          77.0999984741211,
          78.9000015258789,
          80.3000030517578,
          85,
          89.9000015258789,
          92.5,
          59,
          71.3000030517578,
          79.3000030517578,
          79.6999969482422,
          81.9000015258789,
          84,
          84.5999984741211,
          59,
          69.5,
          76.1999969482422,
          82.6999969482422,
          85.5,
          87.3000030517578,
          95.0999984741211,
          70.9000015258789,
          78.0999984741211,
          82.4000015258789,
          83.8000030517578,
          87.3000030517578,
          89.1999969482422,
          91.1999969482422,
          93.4000015258789,
          64.6999969482422,
          69.8000030517578,
          78.5,
          80,
          82.4000015258789,
          83.8000030517578,
          84.6999969482422,
          91.0999984741211,
          57.5999984741211,
          60.0999984741211,
          67.6999969482422,
          69.4000015258789,
          71.9000015258789,
          73.8000030517578,
          77.6999969482422,
          82,
          83.9000015258789,
          90.9000015258789,
          58.5,
          60,
          73.4000015258789,
          75.8000030517578,
          78.4000015258789,
          82,
          86.0999984741211,
          89.0999984741211,
          60,
          75.5,
          77.5,
          78.5999984741211,
          82.8000030517578,
          83.1999969482422,
          87.3000030517578,
          87.8000030517578,
          91.8000030517578,
          64.4000015258789,
          72.5,
          80.5,
          83,
          83.8000030517578,
          84.6999969482422,
          85.6999969482422,
          87,
          57.0999984741211,
          60.0999984741211,
          67.0999984741211,
          67.4000015258789,
          69,
          70.5999984741211,
          73.5,
          74.9000015258789,
          77.3000030517578,
          77.6999969482422,
          78.6999969482422,
          80.3000030517578,
          84.1999969482422,
          93.8000030517578,
          58.5999984741211,
          77.5999984741211,
          81.5,
          83.3000030517578,
          87.8000030517578,
          90.4000015258789,
          65.4000015258789,
          79.6999969482422,
          82,
          82.5,
          85.1999969482422,
          85.6999969482422,
          86.5999984741211,
          88.4000015258789,
          94.4000015258789,
          72,
          72.5,
          79.5,
          82,
          84,
          84.3000030517578,
          86.5999984741211,
          49.7999992370605,
          74.9000015258789,
          77.4000015258789,
          78.0999984741211,
          78.8000030517578,
          80.6999969482422,
          81.0999984741211,
          81.6999969482422,
          86.6999969482422,
          94.0999984741211,
          54.2999992370605,
          68.5,
          68.8000030517578,
          74.9000015258789,
          78.4000015258789,
          81.5999984741211,
          82.0999984741211,
          83.4000015258789,
          84.5,
          91.5,
          61.9000015258789,
          64,
          70.1999969482422,
          72.5999984741211,
          79.0999984741211,
          80.3000030517578,
          80.4000015258789,
          82.1999969482422,
          85.4000015258789,
          87.5,
          69.6999969482422,
          74.5,
          76.8000030517578,
          76.9000015258789,
          83.5,
          88,
          94.5999984741211,
          67.5,
          77.6999969482422,
          82.5999984741211,
          84,
          84.0999984741211,
          91.5999984741211,
          68.0999984741211,
          70.0999984741211,
          75,
          77,
          79.4000015258789,
          50.0999984741211,
          58.2000007629395,
          59.2000007629395,
          60.0999984741211,
          62.5999984741211,
          63.5999984741211,
          70.5999984741211,
          74,
          76.0999984741211,
          76.9000015258789,
          77.5999984741211,
          87.1999969482422,
          87.6999969482422,
          91.1999969482422,
          63.5999984741211,
          66.5,
          70.6999969482422,
          74.0999984741211,
          80.5999984741211,
          81.5,
          85.4000015258789,
          51.7999992370605,
          68.6999969482422,
          70,
          70.6999969482422,
          70.8000030517578,
          72.6999969482422,
          73.5999984741211,
          75.5,
          76.0999984741211,
          77.5,
          79.1999969482422,
          80.5999984741211,
          81.5,
          81.8000030517578,
          82.6999969482422,
          84.1999969482422,
          84.5,
          84.5999984741211,
          87.6999969482422,
          89.9000015258789,
          78.5,
          78.8000030517578,
          83.6999969482422,
          74.6999969482422,
          76.0999984741211,
          82.4000015258789,
          82.9000015258789,
          86,
          66.0999984741211,
          68.4000015258789,
          74.1999969482422,
          82,
          84.1999969482422,
          59.2999992370605,
          71.8000030517578,
          73.8000030517578,
          74.1999969482422,
          77,
          80.5999984741211,
          82.5,
          83.8000030517578,
          85.1999969482422,
          85.5,
          70,
          73.3000030517578,
          79.6999969482422,
          81.5999984741211,
          83.6999969482422,
          86.0999984741211,
          57.9000015258789,
          77,
          79.5999984741211,
          81.0999984741211,
          70.3000030517578,
          82.5,
          55,
          57,
          68,
          68.8000030517578,
          77.1999969482422,
          80.6999969482422,
          81.5,
          82,
          83.1999969482422,
          60.4000015258789,
          65,
          70,
          76.0999984741211,
          77.5,
          82.5,
          83.5,
          87.0999984741211,
          72.9000015258789,
          80.0999984741211,
          81.6999969482422,
          88.4000015258789,
          52.4000015258789,
          61.9000015258789,
          74.4000015258789,
          77.5999984741211,
          80.5999984741211,
          84.9000015258789,
          67.9000015258789,
          70.9000015258789,
          71.4000015258789,
          77.5999984741211,
          77.9000015258789,
          79.1999969482422,
          83.0999984741211,
          83.9000015258789,
          84.4000015258789,
          85.6999969482422,
          86.6999969482422,
          70,
          73.9000015258789,
          77.1999969482422,
          78.0999984741211,
          79,
          79.6999969482422,
          82.6999969482422,
          58,
          79.5,
          83,
          85.3000030517578,
          88.0999984741211,
          90.6999969482422,
          57.5,
          84.8000030517578,
          88.0999984741211,
          88.5999984741211,
          65.4000015258789,
          82.1999969482422,
          85,
          85.0999984741211,
          89.9000015258789,
          67.5,
          76.3000030517578,
          76.8000030517578,
          76.9000015258789,
          78.9000015258789,
          80.5,
          84.5999984741211,
          85.9000015258789,
          89,
          55,
          57,
          67,
          72.5,
          77.5999984741211,
          79.4000015258789,
          83.5999984741211,
          84.0999984741211,
          86.4000015258789,
          67.9000015258789,
          71.3000030517578,
          83.6999969482422,
          84.6999969482422,
          89.8000030517578,
          53.5999984741211,
          71.1999969482422,
          73.5999984741211,
          74,
          74.0999984741211,
          78.1999969482422,
          83.1999969482422,
          84.0999984741211,
          91.6999969482422,
          76.4000015258789,
          83.1999969482422,
          84.0999984741211,
          85.5,
          90.5,
          83.6999969482422,
          85.0999984741211,
          88.1999969482422,
          90,
          90.9000015258789,
          51.0999984741211,
          66.5,
          70,
          76.4000015258789,
          80.3000030517578,
          80.9000015258789,
          82.8000030517578,
          87.8000030517578,
          90.4000015258789,
          75.6999969482422,
          78.8000030517578,
          80,
          82.9000015258789,
          48.5999984741211,
          74.6999969482422,
          82.4000015258789,
          84.6999969482422,
          81.5,
          82.9000015258789,
          55.2000007629395,
          87,
          92.1999969482422,
          54,
          59.5999984741211,
          70.4000015258789,
          79.5999984741211,
          80.5999984741211,
          61.2000007629395,
          83.4000015258789,
          89.3000030517578,
          59.7999992370605,
          68.5999984741211,
          71.8000030517578,
          82.5999984741211,
          70.4000015258789,
          76.5999984741211,
          82.0999984741211,
          84.8000030517578,
          67.0999984741211,
          71.5,
          88.5,
          68.5999984741211,
          86.3000030517578,
          87.1999969482422,
          77.8000030517578,
          81.3000030517578,
          83.0999984741211,
          83.5,
          72,
          87.1999969482422,
          81.6999969482422,
          84.5,
          64.8000030517578,
          78.0999984741211,
          78.4000015258789,
          70,
          73.4000015258789,
          76,
          76.8000030517578,
          83.6999969482422,
          83.8000030517578,
          84.0999984741211,
          86,
          87.3000030517578,
          52.9000015258789,
          85.5999984741211,
          79.9000015258789,
          80.9000015258789,
          84.1999969482422,
          85.0999984741211,
          62.9000015258789,
          85.0999984741211,
          73.5,
          77.8000030517578,
          83.8000030517578,
          97.9000015258789,
          68.3000030517578,
          75,
          81.5,
          82.4000015258789,
          79.0999984741211,
          82,
          57,
          77.4000015258789,
          78.3000030517578,
          79.5999984741211,
          80.6999969482422,
          82.5999984741211,
          83.9000015258789,
          84.4000015258789,
          90.5,
          88,
          67,
          83.8000030517578,
          90.6999969482422,
          66,
          55.5999984741211,
          88.5,
          89.4000015258789,
          75.1999969482422,
          79,
          79.9000015258789,
          80.3000030517578,
          76.9000015258789,
          79.5,
          89.0999984741211,
          76.6999969482422,
          80.4000015258789,
          84.0999984741211,
          77.1999969482422,
          89.1999969482422,
          68.0999984741211,
          84.5999984741211,
          80.5,
          80.9000015258789,
          86.5,
          49.5999984741211,
          83.8000030517578,
          89.3000030517578,
          73.0999984741211,
          86.8000030517578,
          76,
          77.4000015258789,
          78.4000015258789,
          83.0999984741211,
          86.6999969482422,
          90.4000015258789,
          79.9000015258789,
          68.9000015258789,
          63.5,
          90.0999984741211,
          88.3000030517578,
          92,
          58.4000015258789,
          78.4000015258789,
          58.9000015258789,
          61.2999992370605
         ],
         "yaxis": "y"
        },
        {
         "hovertemplate": "Habitat=Grassland<br>Temperature=%{x}<br>Humidity=%{y}<br>Observation_Count=%{marker.size}<extra></extra>",
         "legendgroup": "Grassland",
         "marker": {
          "color": "#000002",
          "size": [
           11,
           10,
           3,
           5,
           15,
           17,
           11,
           11,
           8,
           12,
           8,
           10,
           12,
           10,
           15,
           13,
           17,
           12,
           12,
           16,
           7,
           18,
           31,
           9,
           13,
           12,
           19,
           13,
           13,
           11,
           19,
           15,
           11,
           17,
           12,
           5,
           11,
           12,
           12,
           9,
           13,
           11,
           10,
           12,
           10,
           11,
           12,
           11,
           13,
           9,
           13,
           11,
           16,
           13,
           11,
           8,
           8,
           15,
           10,
           15,
           12,
           4,
           15,
           12,
           19,
           14,
           12,
           10,
           14,
           13,
           12,
           5,
           15,
           9,
           12,
           11,
           16,
           9,
           16,
           8,
           11,
           10,
           116,
           12,
           7,
           14,
           5,
           19,
           14,
           11,
           22,
           16,
           15,
           10,
           7,
           5,
           16,
           8,
           10,
           14,
           17,
           9,
           19,
           14,
           10,
           6,
           11,
           17,
           14,
           19,
           9,
           8,
           19,
           12,
           13,
           10,
           15,
           14,
           6,
           9,
           6,
           5,
           15,
           15,
           14,
           24,
           12,
           12,
           14,
           10,
           13,
           13,
           10,
           8,
           19,
           15,
           11,
           17,
           9,
           12,
           13,
           15,
           8,
           6,
           14,
           19,
           14,
           10,
           12,
           12,
           4,
           9,
           18,
           9,
           11,
           14,
           13,
           9,
           6,
           6,
           12,
           13,
           20,
           17,
           15,
           11,
           19,
           12,
           8,
           10,
           2,
           11,
           4,
           11,
           6,
           12,
           12,
           12,
           13,
           9,
           8,
           16,
           15,
           11,
           15,
           10,
           6,
           12,
           10,
           12,
           15,
           19,
           13,
           5,
           15,
           13,
           13,
           13,
           10,
           16,
           14,
           9,
           15,
           10,
           8,
           11,
           13,
           74,
           12,
           14,
           18,
           16,
           15,
           13,
           13,
           10,
           13,
           5,
           14,
           6,
           9,
           22,
           12,
           12,
           11,
           13,
           12,
           11,
           12,
           14,
           13,
           12,
           16,
           15,
           12,
           21,
           11,
           10,
           7,
           30,
           11,
           18,
           13,
           18,
           7,
           5,
           18,
           13,
           9,
           14,
           18,
           15,
           11,
           12,
           7,
           5,
           9,
           10,
           11,
           12,
           15,
           9,
           14,
           10,
           10,
           15,
           10,
           3,
           14,
           5,
           11,
           14,
           8,
           13,
           12,
           10,
           8,
           4,
           17,
           10,
           15,
           8,
           13,
           14,
           13,
           13,
           12,
           6,
           6,
           16,
           14,
           10,
           15,
           7,
           14,
           16,
           77,
           10,
           17,
           15,
           5,
           12,
           16,
           10,
           14,
           8,
           12,
           2,
           3,
           12,
           11,
           16,
           9,
           9,
           14,
           9,
           9,
           7,
           29,
           18,
           15,
           13,
           2,
           8,
           16,
           11,
           11,
           7,
           14,
           8,
           8,
           18,
           10,
           6,
           4,
           7,
           10,
           11,
           13,
           9,
           14,
           10,
           6,
           16,
           15,
           9,
           8,
           7,
           7,
           10,
           2,
           8,
           6,
           18,
           7,
           12,
           5,
           15,
           12,
           8,
           11,
           5,
           14,
           8,
           11,
           8,
           10,
           12,
           8,
           11,
           7,
           9,
           12,
           8,
           9,
           8,
           13,
           22,
           13,
           15,
           25,
           13,
           11,
           11,
           12,
           12,
           11,
           9,
           6,
           13,
           12,
           19,
           4,
           15,
           10,
           10,
           11,
           23,
           10,
           5,
           9,
           10,
           11,
           12,
           6,
           8,
           13,
           11,
           6,
           17,
           3,
           18,
           11,
           4,
           75,
           7,
           12,
           13,
           9,
           8,
           15,
           13,
           9,
           8,
           22,
           5,
           16,
           9,
           11,
           8,
           13,
           11,
           9,
           16,
           7,
           13,
           11,
           14,
           11,
           13,
           6,
           7,
           5,
           12,
           10,
           8,
           9,
           6,
           34,
           5,
           9,
           9,
           12,
           8,
           4,
           13,
           13,
           20,
           9,
           15,
           7,
           11,
           5,
           9,
           9,
           8,
           18,
           9,
           8,
           6,
           12,
           9,
           5,
           17,
           7,
           9,
           8,
           6,
           8,
           13,
           11,
           13,
           5,
           8,
           6,
           7,
           11,
           8,
           10,
           10,
           9,
           7,
           15,
           4,
           10,
           12,
           8,
           11,
           10,
           13,
           7,
           8,
           17,
           13,
           9,
           8,
           7,
           8,
           8,
           5,
           7,
           8,
           7,
           7,
           9,
           14,
           6,
           6,
           13,
           11,
           9,
           14,
           3,
           17,
           15,
           11,
           10,
           12,
           10,
           14,
           10,
           4,
           11,
           11,
           10,
           13,
           16,
           12,
           6,
           13,
           8,
           8,
           10,
           11
          ],
          "sizemode": "area",
          "sizeref": 0.29,
          "symbol": "circle"
         },
         "mode": "markers",
         "name": "Grassland",
         "showlegend": true,
         "type": "scattergl",
         "x": [
          11,
          11.3999996185303,
          11.6000003814697,
          11.8000001907349,
          12,
          12.8999996185303,
          12.8999996185303,
          13,
          13.1999998092651,
          13.8000001907349,
          13.8000001907349,
          14,
          14.1000003814697,
          14.3000001907349,
          14.3000001907349,
          14.3999996185303,
          14.5,
          14.6000003814697,
          14.6999998092651,
          14.6999998092651,
          14.6999998092651,
          14.8999996185303,
          15.1999998092651,
          15.3000001907349,
          15.3999996185303,
          15.3999996185303,
          15.5,
          15.6000003814697,
          15.6000003814697,
          15.8000001907349,
          16.1000003814697,
          16.2000007629395,
          16.2000007629395,
          16.3999996185303,
          16.5,
          16.5,
          16.5,
          16.7000007629395,
          16.7999992370605,
          16.7999992370605,
          16.7999992370605,
          17,
          17.2999992370605,
          17.3999996185303,
          17.3999996185303,
          17.5,
          17.6000003814697,
          17.6000003814697,
          17.6000003814697,
          17.6000003814697,
          17.7999992370605,
          17.7999992370605,
          17.7999992370605,
          17.7999992370605,
          17.7999992370605,
          18,
          18.1000003814697,
          18.1000003814697,
          18.1000003814697,
          18.1000003814697,
          18.1000003814697,
          18.2000007629395,
          18.2000007629395,
          18.2000007629395,
          18.2000007629395,
          18.2999992370605,
          18.3999996185303,
          18.5,
          18.6000003814697,
          18.6000003814697,
          18.6000003814697,
          18.7000007629395,
          18.7000007629395,
          18.7999992370605,
          18.7999992370605,
          18.8999996185303,
          18.8999996185303,
          18.8999996185303,
          18.8999996185303,
          18.8999996185303,
          18.8999996185303,
          19,
          19,
          19,
          19,
          19.1000003814697,
          19.1000003814697,
          19.1000003814697,
          19.2000007629395,
          19.2000007629395,
          19.2000007629395,
          19.2000007629395,
          19.2999992370605,
          19.2999992370605,
          19.2999992370605,
          19.2999992370605,
          19.3999996185303,
          19.3999996185303,
          19.3999996185303,
          19.3999996185303,
          19.5,
          19.5,
          19.6000003814697,
          19.6000003814697,
          19.6000003814697,
          19.7000007629395,
          19.7000007629395,
          19.7999992370605,
          19.7999992370605,
          19.7999992370605,
          19.7999992370605,
          19.7999992370605,
          19.8999996185303,
          20,
          20.1000003814697,
          20.1000003814697,
          20.1000003814697,
          20.1000003814697,
          20.1000003814697,
          20.1000003814697,
          20.1000003814697,
          20.2000007629395,
          20.2000007629395,
          20.2000007629395,
          20.2000007629395,
          20.2000007629395,
          20.2000007629395,
          20.2999992370605,
          20.2999992370605,
          20.2999992370605,
          20.3999996185303,
          20.3999996185303,
          20.3999996185303,
          20.3999996185303,
          20.5,
          20.5,
          20.5,
          20.5,
          20.6000003814697,
          20.6000003814697,
          20.6000003814697,
          20.7000007629395,
          20.7999992370605,
          20.7999992370605,
          20.7999992370605,
          20.7999992370605,
          20.8999996185303,
          20.8999996185303,
          20.8999996185303,
          20.8999996185303,
          21,
          21,
          21,
          21,
          21,
          21,
          21,
          21,
          21.1000003814697,
          21.1000003814697,
          21.1000003814697,
          21.1000003814697,
          21.2000007629395,
          21.2000007629395,
          21.2000007629395,
          21.2000007629395,
          21.2000007629395,
          21.2000007629395,
          21.2999992370605,
          21.2999992370605,
          21.3999996185303,
          21.3999996185303,
          21.3999996185303,
          21.3999996185303,
          21.3999996185303,
          21.3999996185303,
          21.3999996185303,
          21.3999996185303,
          21.3999996185303,
          21.3999996185303,
          21.5,
          21.5,
          21.5,
          21.5,
          21.5,
          21.6000003814697,
          21.6000003814697,
          21.6000003814697,
          21.6000003814697,
          21.6000003814697,
          21.6000003814697,
          21.6000003814697,
          21.6000003814697,
          21.7999992370605,
          21.7999992370605,
          21.7999992370605,
          21.7999992370605,
          21.8999996185303,
          21.8999996185303,
          21.8999996185303,
          21.8999996185303,
          21.8999996185303,
          21.8999996185303,
          22,
          22,
          22,
          22,
          22,
          22,
          22,
          22,
          22,
          22,
          22,
          22.1000003814697,
          22.1000003814697,
          22.1000003814697,
          22.1000003814697,
          22.1000003814697,
          22.1000003814697,
          22.1000003814697,
          22.2000007629395,
          22.2000007629395,
          22.2000007629395,
          22.2000007629395,
          22.2999992370605,
          22.2999992370605,
          22.2999992370605,
          22.3999996185303,
          22.3999996185303,
          22.3999996185303,
          22.3999996185303,
          22.5,
          22.5,
          22.5,
          22.5,
          22.5,
          22.5,
          22.6000003814697,
          22.6000003814697,
          22.6000003814697,
          22.6000003814697,
          22.6000003814697,
          22.6000003814697,
          22.7000007629395,
          22.7000007629395,
          22.7000007629395,
          22.7000007629395,
          22.7000007629395,
          22.7999992370605,
          22.7999992370605,
          22.7999992370605,
          22.7999992370605,
          22.7999992370605,
          22.7999992370605,
          22.8999996185303,
          22.8999996185303,
          22.8999996185303,
          22.8999996185303,
          23,
          23,
          23,
          23.1000003814697,
          23.1000003814697,
          23.2000007629395,
          23.2000007629395,
          23.2000007629395,
          23.2000007629395,
          23.2999992370605,
          23.2999992370605,
          23.2999992370605,
          23.3999996185303,
          23.3999996185303,
          23.3999996185303,
          23.3999996185303,
          23.3999996185303,
          23.3999996185303,
          23.3999996185303,
          23.5,
          23.5,
          23.5,
          23.5,
          23.5,
          23.6000003814697,
          23.6000003814697,
          23.6000003814697,
          23.6000003814697,
          23.6000003814697,
          23.6000003814697,
          23.6000003814697,
          23.6000003814697,
          23.6000003814697,
          23.6000003814697,
          23.7000007629395,
          23.7000007629395,
          23.7999992370605,
          23.8999996185303,
          23.8999996185303,
          23.8999996185303,
          23.8999996185303,
          23.8999996185303,
          23.8999996185303,
          24,
          24,
          24,
          24,
          24,
          24,
          24.1000003814697,
          24.1000003814697,
          24.1000003814697,
          24.1000003814697,
          24.2000007629395,
          24.2000007629395,
          24.2000007629395,
          24.2000007629395,
          24.2000007629395,
          24.2000007629395,
          24.2999992370605,
          24.2999992370605,
          24.2999992370605,
          24.2999992370605,
          24.2999992370605,
          24.3999996185303,
          24.3999996185303,
          24.5,
          24.5,
          24.5,
          24.5,
          24.6000003814697,
          24.6000003814697,
          24.6000003814697,
          24.6000003814697,
          24.7000007629395,
          24.7999992370605,
          24.7999992370605,
          24.7999992370605,
          24.7999992370605,
          24.7999992370605,
          24.7999992370605,
          24.8999996185303,
          24.8999996185303,
          24.8999996185303,
          25,
          25,
          25.1000003814697,
          25.1000003814697,
          25.1000003814697,
          25.1000003814697,
          25.1000003814697,
          25.1000003814697,
          25.1000003814697,
          25.2000007629395,
          25.2000007629395,
          25.2000007629395,
          25.2000007629395,
          25.2999992370605,
          25.2999992370605,
          25.2999992370605,
          25.3999996185303,
          25.3999996185303,
          25.3999996185303,
          25.5,
          25.5,
          25.5,
          25.5,
          25.6000003814697,
          25.6000003814697,
          25.6000003814697,
          25.6000003814697,
          25.6000003814697,
          25.7000007629395,
          25.7999992370605,
          25.7999992370605,
          25.7999992370605,
          25.7999992370605,
          25.8999996185303,
          25.8999996185303,
          26,
          26,
          26,
          26,
          26,
          26,
          26.1000003814697,
          26.1000003814697,
          26.2999992370605,
          26.2999992370605,
          26.2999992370605,
          26.3999996185303,
          26.3999996185303,
          26.3999996185303,
          26.3999996185303,
          26.3999996185303,
          26.3999996185303,
          26.5,
          26.5,
          26.5,
          26.5,
          26.5,
          26.5,
          26.5,
          26.7000007629395,
          26.7000007629395,
          26.7000007629395,
          26.7000007629395,
          26.7000007629395,
          26.7999992370605,
          26.7999992370605,
          26.7999992370605,
          26.7999992370605,
          26.7999992370605,
          27,
          27,
          27,
          27,
          27,
          27.1000003814697,
          27.1000003814697,
          27.1000003814697,
          27.1000003814697,
          27.1000003814697,
          27.2000007629395,
          27.2999992370605,
          27.2999992370605,
          27.2999992370605,
          27.2999992370605,
          27.2999992370605,
          27.2999992370605,
          27.3999996185303,
          27.5,
          27.5,
          27.6000003814697,
          27.6000003814697,
          27.6000003814697,
          27.7000007629395,
          27.7000007629395,
          27.7999992370605,
          27.7999992370605,
          27.7999992370605,
          27.8999996185303,
          28,
          28,
          28.1000003814697,
          28.1000003814697,
          28.2000007629395,
          28.2000007629395,
          28.2000007629395,
          28.2000007629395,
          28.3999996185303,
          28.5,
          28.5,
          28.5,
          28.7000007629395,
          28.7999992370605,
          28.7999992370605,
          28.8999996185303,
          29,
          29,
          29,
          29,
          29,
          29.1000003814697,
          29.1000003814697,
          29.2000007629395,
          29.2000007629395,
          29.2000007629395,
          29.2000007629395,
          29.2999992370605,
          29.2999992370605,
          29.2999992370605,
          29.3999996185303,
          29.3999996185303,
          29.5,
          29.6000003814697,
          29.6000003814697,
          29.6000003814697,
          29.6000003814697,
          29.6000003814697,
          29.7000007629395,
          29.7000007629395,
          29.7000007629395,
          29.7999992370605,
          29.7999992370605,
          29.7999992370605,
          29.7999992370605,
          29.8999996185303,
          30,
          30.1000003814697,
          30.2000007629395,
          30.2000007629395,
          30.2000007629395,
          30.2999992370605,
          30.2999992370605,
          30.2999992370605,
          30.3999996185303,
          30.5,
          30.5,
          30.6000003814697,
          30.6000003814697,
          30.6000003814697,
          30.7000007629395,
          30.7999992370605,
          30.7999992370605,
          30.8999996185303,
          31,
          31.2000007629395,
          31.2000007629395,
          31.2000007629395,
          31.2999992370605,
          31.3999996185303,
          31.3999996185303,
          31.6000003814697,
          31.7999992370605,
          31.7999992370605,
          31.7999992370605,
          31.7999992370605,
          32.0999984741211,
          32.2999992370605,
          32.4000015258789,
          32.4000015258789,
          32.5,
          32.5999984741211,
          32.7999992370605,
          32.7999992370605,
          33.2000007629395,
          33.2000007629395,
          33.2999992370605,
          33.4000015258789,
          33.4000015258789,
          33.5,
          33.7999992370605,
          33.9000015258789,
          34.0999984741211,
          34.2000007629395,
          34.4000015258789,
          34.5999984741211,
          34.7999992370605,
          35,
          35.0999984741211,
          35.5,
          35.5999984741211,
          36.2000007629395,
          37.2999992370605
         ],
         "xaxis": "x",
         "y": [
          90.8000030517578,
          83.6999969482422,
          66.1999969482422,
          80.8000030517578,
          78.1999969482422,
          83.3000030517578,
          89.5999984741211,
          87.0999984741211,
          79,
          79,
          81.1999969482422,
          71,
          79.9000015258789,
          71.6999969482422,
          81.3000030517578,
          89.5999984741211,
          89.0999984741211,
          85.3000030517578,
          60.9000015258789,
          65.5,
          84,
          87.5,
          77.5,
          85,
          67.9000015258789,
          85.9000015258789,
          79,
          72.5999984741211,
          76.6999969482422,
          79.4000015258789,
          90.3000030517578,
          90.5,
          93.4000015258789,
          76.8000030517578,
          68.1999969482422,
          74.1999969482422,
          78.1999969482422,
          56.5,
          71.3000030517578,
          74.1999969482422,
          76.0999984741211,
          81.5999984741211,
          77.5,
          70,
          73.8000030517578,
          75.1999969482422,
          67.4000015258789,
          68.6999969482422,
          70,
          84.6999969482422,
          60.2999992370605,
          79.4000015258789,
          82.5,
          83.8000030517578,
          84.6999969482422,
          85.5999984741211,
          63.0999984741211,
          68.0999984741211,
          86.5,
          91,
          92.0999984741211,
          64.6999969482422,
          77.8000030517578,
          79.6999969482422,
          81.3000030517578,
          81,
          75.9000015258789,
          85.8000030517578,
          50.0999984741211,
          69.6999969482422,
          77.0999984741211,
          84.9000015258789,
          85.8000030517578,
          70.9000015258789,
          82.6999969482422,
          64.4000015258789,
          67.8000030517578,
          72.6999969482422,
          73.6999969482422,
          88.5,
          98.8000030517578,
          45.4000015258789,
          63,
          64.8000030517578,
          73.3000030517578,
          68.6999969482422,
          68.8000030517578,
          85,
          69.5999984741211,
          74.1999969482422,
          77.9000015258789,
          79.0999984741211,
          58.0999984741211,
          70.4000015258789,
          72.3000030517578,
          91.5999984741211,
          34.7999992370605,
          70.4000015258789,
          86.6999969482422,
          89.5,
          56.0999984741211,
          79.3000030517578,
          78.4000015258789,
          82.5,
          85.0999984741211,
          67.5,
          73.4000015258789,
          68.3000030517578,
          78.9000015258789,
          80.3000030517578,
          81.4000015258789,
          81.5999984741211,
          80.5999984741211,
          79,
          73,
          76.0999984741211,
          77.1999969482422,
          80.6999969482422,
          82.6999969482422,
          87.8000030517578,
          93.8000030517578,
          68.5999984741211,
          79.5,
          82,
          82.5999984741211,
          84.4000015258789,
          89.5999984741211,
          56.5999984741211,
          70.4000015258789,
          77.3000030517578,
          67.0999984741211,
          80.9000015258789,
          82.5,
          89.6999969482422,
          56.2999992370605,
          64.1999969482422,
          82.6999969482422,
          88.0999984741211,
          63.5999984741211,
          64.0999984741211,
          80.9000015258789,
          67.6999969482422,
          71.6999969482422,
          74.0999984741211,
          81.1999969482422,
          85.4000015258789,
          13.3000001907349,
          54.5999984741211,
          81.5999984741211,
          85.4000015258789,
          59.4000015258789,
          72,
          73.1999969482422,
          74.5999984741211,
          76.0999984741211,
          79.1999969482422,
          84.1999969482422,
          84.9000015258789,
          66.3000030517578,
          67.5999984741211,
          71.5999984741211,
          75.5,
          65.1999969482422,
          72.3000030517578,
          82.8000030517578,
          83.3000030517578,
          87.3000030517578,
          88.1999969482422,
          7.30000019073486,
          91,
          52,
          62.7000007629395,
          66.3000030517578,
          70,
          73.9000015258789,
          74.1999969482422,
          86.4000015258789,
          88.1999969482422,
          89.0999984741211,
          91.1999969482422,
          64.3000030517578,
          75.6999969482422,
          84.8000030517578,
          87.3000030517578,
          88.1999969482422,
          61.7000007629395,
          64.3000030517578,
          69.0999984741211,
          70.4000015258789,
          73.8000030517578,
          77.5,
          80.6999969482422,
          84.0999984741211,
          61.7000007629395,
          76.3000030517578,
          83,
          84.3000030517578,
          64.9000015258789,
          65.4000015258789,
          81,
          86.8000030517578,
          88.5999984741211,
          91.5999984741211,
          66,
          66.3000030517578,
          68,
          68.6999969482422,
          69,
          69.9000015258789,
          73.4000015258789,
          73.9000015258789,
          76.3000030517578,
          77.5,
          77.6999969482422,
          58.5999984741211,
          60.5,
          63.9000015258789,
          64.4000015258789,
          74.4000015258789,
          78.5,
          81.6999969482422,
          9.5,
          62,
          81.5,
          85.4000015258789,
          63.9000015258789,
          71,
          85.1999969482422,
          65.5,
          77.4000015258789,
          78.8000030517578,
          80.6999969482422,
          62.7999992370605,
          63.7999992370605,
          73,
          76.6999969482422,
          77.9000015258789,
          86.1999969482422,
          54.2000007629395,
          61.0999984741211,
          63.4000015258789,
          77.8000030517578,
          78.4000015258789,
          86.8000030517578,
          57.7000007629395,
          63.7000007629395,
          83.1999969482422,
          84.3000030517578,
          87.5,
          58.7000007629395,
          71.0999984741211,
          76,
          80.3000030517578,
          89.4000015258789,
          89.5,
          58.5999984741211,
          69.9000015258789,
          70.0999984741211,
          88.5,
          66.6999969482422,
          71.0999984741211,
          80.8000030517578,
          64.5999984741211,
          69.9000015258789,
          50.4000015258789,
          79.4000015258789,
          85.5,
          86.1999969482422,
          72.1999969482422,
          74.0999984741211,
          88.1999969482422,
          69.4000015258789,
          72.6999969482422,
          73.6999969482422,
          77.0999984741211,
          84.1999969482422,
          86.5,
          87.4000015258789,
          56.2000007629395,
          59.2999992370605,
          61.9000015258789,
          68.1999969482422,
          87.0999984741211,
          54.4000015258789,
          57.7000007629395,
          63.2000007629395,
          70.3000030517578,
          75.6999969482422,
          76,
          79.5,
          84.5999984741211,
          88.6999969482422,
          89.9000015258789,
          49.2999992370605,
          88.4000015258789,
          83.9000015258789,
          68.5999984741211,
          72.3000030517578,
          74.1999969482422,
          81,
          91.3000030517578,
          92.6999969482422,
          46.0999984741211,
          52.9000015258789,
          57.4000015258789,
          59,
          66.6999969482422,
          85.5,
          40.0999984741211,
          56.7000007629395,
          71.6999969482422,
          87.5,
          45.7999992370605,
          46.0999984741211,
          50.5999984741211,
          74.3000030517578,
          79.9000015258789,
          92.8000030517578,
          52.4000015258789,
          65.3000030517578,
          69.0999984741211,
          83,
          86,
          48.4000015258789,
          69.0999984741211,
          49,
          58.2999992370605,
          67.1999969482422,
          91.5,
          45.2999992370605,
          57.4000015258789,
          58.5,
          70.0999984741211,
          61,
          42.7999992370605,
          43.7999992370605,
          51.4000015258789,
          67.5,
          72,
          92.5,
          65.4000015258789,
          73.5,
          80.9000015258789,
          69,
          84.0999984741211,
          58,
          61,
          63.4000015258789,
          65.4000015258789,
          66.9000015258789,
          75.9000015258789,
          93.3000030517578,
          50.5,
          56,
          77.5,
          85.9000015258789,
          64,
          64.5,
          81.4000015258789,
          66.5,
          76.4000015258789,
          76.9000015258789,
          68.4000015258789,
          68.5999984741211,
          69.8000030517578,
          72.6999969482422,
          39.5999984741211,
          46.2000007629395,
          50.5999984741211,
          56.4000015258789,
          67,
          77.5999984741211,
          56.7000007629395,
          65.3000030517578,
          65.5,
          66,
          79.6999969482422,
          84.3000030517578,
          32.9000015258789,
          54.2000007629395,
          62.2000007629395,
          65.5,
          71.8000030517578,
          78.6999969482422,
          60.2000007629395,
          75.3000030517578,
          59.7000007629395,
          70.9000015258789,
          75.4000015258789,
          48.7000007629395,
          62,
          72.4000015258789,
          81.1999969482422,
          83,
          84.4000015258789,
          51,
          55,
          59.5,
          66.0999984741211,
          69.3000030517578,
          70.0999984741211,
          74.3000030517578,
          42.0999984741211,
          62.2999992370605,
          62.7999992370605,
          64.1999969482422,
          64.6999969482422,
          41.2000007629395,
          44,
          61.2999992370605,
          66.8000030517578,
          82.0999984741211,
          61.2999992370605,
          66.3000030517578,
          70,
          71,
          86.4000015258789,
          48.7999992370605,
          56.9000015258789,
          70.0999984741211,
          71.0999984741211,
          77.9000015258789,
          55.7000007629395,
          60,
          71.5999984741211,
          74,
          78.5,
          79.0999984741211,
          82.8000030517578,
          81.1999969482422,
          45.4000015258789,
          79,
          48.7999992370605,
          59.9000015258789,
          72.3000030517578,
          71.5999984741211,
          82.6999969482422,
          67.5,
          68.3000030517578,
          75.1999969482422,
          66.4000015258789,
          49.9000015258789,
          55.2000007629395,
          63.9000015258789,
          70.8000030517578,
          43.7000007629395,
          52,
          52.4000015258789,
          65.5,
          54.0999984741211,
          55.9000015258789,
          59.0999984741211,
          79.9000015258789,
          82.6999969482422,
          67.9000015258789,
          68.3000030517578,
          56.5,
          47.9000015258789,
          52.5999984741211,
          55,
          67.0999984741211,
          70,
          65.8000030517578,
          69,
          49.5,
          49.7000007629395,
          56.5999984741211,
          69,
          64.6999969482422,
          68.5999984741211,
          73.1999969482422,
          53.2000007629395,
          73.4000015258789,
          39.9000015258789,
          49.0999984741211,
          50.2999992370605,
          73,
          77.1999969482422,
          77.6999969482422,
          60.7999992370605,
          64.0999984741211,
          73.0999984741211,
          48,
          68.6999969482422,
          71.5999984741211,
          79.5,
          47,
          73.0999984741211,
          65.8000030517578,
          46.5,
          54.2999992370605,
          62.4000015258789,
          43,
          57.2999992370605,
          68.8000030517578,
          67.5,
          47.5999984741211,
          54.5,
          47.2000007629395,
          54.5,
          63.9000015258789,
          54.5,
          64,
          85.4000015258789,
          52.7999992370605,
          49.4000015258789,
          43,
          50.2999992370605,
          56.7999992370605,
          66.5,
          41.2000007629395,
          53.4000015258789,
          56.9000015258789,
          40.5,
          47.2000007629395,
          59.5999984741211,
          67.5999984741211,
          68.6999969482422,
          47.7999992370605,
          33.9000015258789,
          66.6999969482422,
          47.4000015258789,
          59.9000015258789,
          49.7000007629395,
          55.7000007629395,
          48.5999984741211,
          55.2000007629395,
          33.4000015258789,
          48.5999984741211,
          55.5,
          69.6999969482422,
          42.7000007629395,
          38.5,
          40.2999992370605,
          59,
          64.5999984741211,
          43.9000015258789,
          48.7999992370605,
          63.5999984741211,
          47.5999984741211,
          43.5,
          36.7999992370605,
          41.7999992370605,
          47.4000015258789
         ],
         "yaxis": "y"
        }
       ],
       "layout": {
        "autosize": true,
        "legend": {
         "itemsizing": "constant",
         "title": {
          "text": "Habitat"
         },
         "tracegroupgap": 0
        },
        "template": {
         "data": {
          "candlestick": [
           {
            "decreasing": {
             "line": {
              "color": "#000033"
             }
            },
            "increasing": {
             "line": {
              "color": "#000032"
             }
            },
            "type": "candlestick"
           }
          ],
          "contour": [
           {
            "colorscale": [
             [
              0,
              "#000011"
             ],
             [
              0.1111111111111111,
              "#000012"
             ],
             [
              0.2222222222222222,
              "#000013"
             ],
             [
              0.3333333333333333,
              "#000014"
             ],
             [
              0.4444444444444444,
              "#000015"
             ],
             [
              0.5555555555555556,
              "#000016"
             ],
             [
              0.6666666666666666,
              "#000017"
             ],
             [
              0.7777777777777778,
              "#000018"
             ],
             [
              0.8888888888888888,
              "#000019"
             ],
             [
              1,
              "#000020"
             ]
            ],
            "type": "contour"
           }
          ],
          "contourcarpet": [
           {
            "colorscale": [
             [
              0,
              "#000011"
             ],
             [
              0.1111111111111111,
              "#000012"
             ],
             [
              0.2222222222222222,
              "#000013"
             ],
             [
              0.3333333333333333,
              "#000014"
             ],
             [
              0.4444444444444444,
              "#000015"
             ],
             [
              0.5555555555555556,
              "#000016"
             ],
             [
              0.6666666666666666,
              "#000017"
             ],
             [
              0.7777777777777778,
              "#000018"
             ],
             [
              0.8888888888888888,
              "#000019"
             ],
             [
              1,
              "#000020"
             ]
            ],
            "type": "contourcarpet"
           }
          ],
          "heatmap": [
           {
            "colorscale": [
             [
              0,
              "#000011"
             ],
             [
              0.1111111111111111,
              "#000012"
             ],
             [
              0.2222222222222222,
              "#000013"
             ],
             [
              0.3333333333333333,
              "#000014"
             ],
             [
              0.4444444444444444,
              "#000015"
             ],
             [
              0.5555555555555556,
              "#000016"
             ],
             [
              0.6666666666666666,
              "#000017"
             ],
             [
              0.7777777777777778,
              "#000018"
             ],
             [
              0.8888888888888888,
              "#000019"
             ],
             [
              1,
              "#000020"
             ]
            ],
            "type": "heatmap"
           }
          ],
          "histogram2d": [
           {
            "colorscale": [
             [
              0,
              "#000011"
             ],
             [
              0.1111111111111111,
              "#000012"
             ],
             [
              0.2222222222222222,
              "#000013"
             ],
             [
              0.3333333333333333,
              "#000014"
             ],
             [
              0.4444444444444444,
              "#000015"
             ],
             [
              0.5555555555555556,
              "#000016"
             ],
             [
              0.6666666666666666,
              "#000017"
             ],
             [
              0.7777777777777778,
              "#000018"
             ],
             [
              0.8888888888888888,
              "#000019"
             ],
             [
              1,
              "#000020"
             ]
            ],
            "type": "histogram2d"
           }
          ],
          "icicle": [
           {
            "textfont": {
             "color": "white"
            },
            "type": "icicle"
           }
          ],
          "sankey": [
           {
            "textfont": {
             "color": "#000036"
            },
            "type": "sankey"
           }
          ],
          "scatter": [
           {
            "marker": {
             "line": {
              "width": 0
             }
            },
            "type": "scatter"
           }
          ],
          "table": [
           {
            "cells": {
             "fill": {
              "color": "#000038"
             },
             "font": {
              "color": "#000037"
             },
             "line": {
              "color": "#000039"
             }
            },
            "header": {
             "fill": {
              "color": "#000040"
             },
             "font": {
              "color": "#000036"
             },
             "line": {
              "color": "#000039"
             }
            },
            "type": "table"
           }
          ],
          "waterfall": [
           {
            "connector": {
             "line": {
              "color": "#000036",
              "width": 2
             }
            },
            "decreasing": {
             "marker": {
              "color": "#000033"
             }
            },
            "increasing": {
             "marker": {
              "color": "#000032"
             }
            },
            "totals": {
             "marker": {
              "color": "#000034"
             }
            },
            "type": "waterfall"
           }
          ]
         },
         "layout": {
          "coloraxis": {
           "colorscale": [
            [
             0,
             "#000011"
            ],
            [
             0.1111111111111111,
             "#000012"
            ],
            [
             0.2222222222222222,
             "#000013"
            ],
            [
             0.3333333333333333,
             "#000014"
            ],
            [
             0.4444444444444444,
             "#000015"
            ],
            [
             0.5555555555555556,
             "#000016"
            ],
            [
             0.6666666666666666,
             "#000017"
            ],
            [
             0.7777777777777778,
             "#000018"
            ],
            [
             0.8888888888888888,
             "#000019"
            ],
            [
             1,
             "#000020"
            ]
           ]
          },
          "colorscale": {
           "diverging": [
            [
             0,
             "#000021"
            ],
            [
             0.1,
             "#000022"
            ],
            [
             0.2,
             "#000023"
            ],
            [
             0.3,
             "#000024"
            ],
            [
             0.4,
             "#000025"
            ],
            [
             0.5,
             "#000026"
            ],
            [
             0.6,
             "#000027"
            ],
            [
             0.7,
             "#000028"
            ],
            [
             0.8,
             "#000029"
            ],
            [
             0.9,
             "#000030"
            ],
            [
             1,
             "#000031"
            ]
           ],
           "sequential": [
            [
             0,
             "#000011"
            ],
            [
             0.1111111111111111,
             "#000012"
            ],
            [
             0.2222222222222222,
             "#000013"
            ],
            [
             0.3333333333333333,
             "#000014"
            ],
            [
             0.4444444444444444,
             "#000015"
            ],
            [
             0.5555555555555556,
             "#000016"
            ],
            [
             0.6666666666666666,
             "#000017"
            ],
            [
             0.7777777777777778,
             "#000018"
            ],
            [
             0.8888888888888888,
             "#000019"
            ],
            [
             1,
             "#000020"
            ]
           ],
           "sequentialminus": [
            [
             0,
             "#000011"
            ],
            [
             0.1111111111111111,
             "#000012"
            ],
            [
             0.2222222222222222,
             "#000013"
            ],
            [
             0.3333333333333333,
             "#000014"
            ],
            [
             0.4444444444444444,
             "#000015"
            ],
            [
             0.5555555555555556,
             "#000016"
            ],
            [
             0.6666666666666666,
             "#000017"
            ],
            [
             0.7777777777777778,
             "#000018"
            ],
            [
             0.8888888888888888,
             "#000019"
            ],
            [
             1,
             "#000020"
            ]
           ]
          },
          "colorway": [
           "#000001",
           "#000002",
           "#000003",
           "#000004",
           "#000005",
           "#000006",
           "#000007",
           "#000008",
           "#000009",
           "#000010"
          ]
         }
        },
        "title": {
         "text": "Temperature vs. Humidity vs. Observation Count Across Habitats"
        },
        "xaxis": {
         "anchor": "y",
         "autorange": true,
         "domain": [
          0,
          1
         ],
         "range": [
          9.355526611543201,
          38.9444726255173
         ],
         "title": {
          "text": "Temperature"
         },
         "type": "linear"
        },
        "yaxis": {
         "anchor": "x",
         "autorange": true,
         "domain": [
          0,
          1
         ],
         "range": [
          -0.5666681084370531,
          107.09534491214606
         ],
         "title": {
          "text": "Humidity"
         },
         "type": "linear"
        }
       }
      },
      "image/png": "[encoded data removed]",
      "text/html": [
       "<div>                            <div id=\"545971c7-6ebf-4fff-b05f-0ce776d095fc\" class=\"plotly-graph-div\" style=\"height:525px; width:100%;\"></div>            <script type=\"text/javascript\">                require([\"plotly\"], function(Plotly) {                    window.PLOTLYENV=window.PLOTLYENV || {};                                    if (document.getElementById(\"545971c7-6ebf-4fff-b05f-0ce776d095fc\")) {                    Plotly.newPlot(                        \"545971c7-6ebf-4fff-b05f-0ce776d095fc\",                        [{\"hovertemplate\":\"Habitat=Forest\\u003cbr\\u003eTemperature=%{x}\\u003cbr\\u003eHumidity=%{y}\\u003cbr\\u003eObservation_Count=%{marker.size}\\u003cextra\\u003e\\u003c\\u002fextra\\u003e\",\"legendgroup\":\"Forest\",\"marker\":{\"color\":\"#000001\",\"size\":[9,5,10,7,8,15,38,17,13,13,16,15,11,16,50,12,13,10,19,14,29,17,13,16,13,13,10,14,13,11,10,11,10,13,14,9,13,11,14,13,11,9,18,12,10,6,9,7,10,9,9,14,8,9,4,9,7,5,13,11,9,10,8,5,15,7,11,12,11,5,11,18,4,7,5,8,12,6,12,14,7,5,9,15,17,18,15,18,12,6,12,13,9,8,15,11,3,22,11,9,15,10,9,9,7,15,11,11,11,11,8,9,16,12,23,14,6,10,6,12,10,19,11,15,7,9,16,14,14,22,9,8,11,33,9,9,12,15,14,11,15,11,10,9,15,7,10,11,13,15,6,13,9,13,14,12,16,16,17,7,16,4,10,24,16,6,14,14,14,13,39,8,7,12,14,10,8,10,13,6,14,10,12,18,17,9,9,13,11,6,12,14,7,8,17,28,11,7,16,18,5,8,24,12,10,14,13,10,15,7,12,12,11,3,9,11,8,10,12,8,22,10,11,8,19,13,18,11,8,4,9,15,15,7,13,12,13,9,23,7,9,13,8,15,4,8,14,31,12,7,11,6,8,15,10,24,11,6,11,6,7,8,17,7,10,11,6,11,8,21,12,3,18,14,13,13,7,12,12,12,10,18,14,7,9,11,8,14,6,10,10,12,5,13,12,8,11,13,10,12,9,8,11,12,7,11,12,10,17,15,11,8,6,15,14,9,11,6,15,9,10,15,9,11,14,10,9,15,15,5,6,13,10,6,16,8,8,7,18,10,7,5,9,8,9,2,7,11,11,14,9,8,9,14,14,12,11,6,11,10,12,8,17,10,10,15,11,8,11,12,12,11,6,11,5,12,20,6,9,10,14,10,9,11,7,8,8,9,13,9,23,15,10,14,10,15,7,16,9,9,14,7,5,7,14,6,16,19,15,15,11,10,7,9,11,5,5,10,18,7,12,9,10,9,8,9,15,7,13,8,16,7,11,12,8,12,7,8,8,9,14,8,7,6,18,9,8,7,16,10,5,7,12,13,12,14,7,10,11,13,13,10,9,14,7,11,12,11,7,6,9,11,13,8,13,9,12,18,11,9,6,12,10,9,12,13,32,8,15,12,9,5,8,12,14,5,4,9,12,11,12,11,21,13,10,5,9,10,13,6,12,8,11,20,10,3,4,10,22,6,6,5,11,5,10,5,19,11,14,11,13,8,10,11,10,12,12,11,6,13,9,10,4,10,8,6,18,10,9,11,8,14,15,13,15,5,6,6,13,8,6,9,10,9,13,12,10,9,11,12,11,11,8,8,6,7,9,12,16,13,8,12,7,12,10,10,8,9,10,8,15,8,14,10,12,9,11,9,6,5,10,8,9,9,8,12,10,8,8,10,8,11,17,20,5,18,12,9,7,6,13,9,19,10,6,22,4,5,16,8,15,9,13,11,12,8,11,13,8,18,12,13,9,8,9,12,8,13,8,11,18,6,12,9,12,11,12,8,8,12,7,10,10,13,11,16,10,6,9,8,14,7,11,6,11,7,6,11,6,15,9,9,8,10,7,13,10,8,10,6,13,11,8,7,11,15,8,7,5,13,5,6,10,9,8,13,6,7,3,8,8,16,5,4,7,10,5,8,12,11,7,9,9,8,9,4,8,5,6,7,10,11,6,5,6,9,7,5,8,10,19,5,7,8,6,7,14,7,8,7,10,7],\"sizemode\":\"area\",\"sizeref\":0.29,\"symbol\":\"circle\"},\"mode\":\"markers\",\"name\":\"Forest\",\"showlegend\":true,\"x\":[11.0,11.1999998092651,13.8000001907349,13.8000001907349,13.8999996185303,14.0,14.0,14.0,14.3000001907349,14.3999996185303,14.5,14.8000001907349,14.8000001907349,14.8000001907349,15.0,15.0,15.0,15.0,15.1000003814697,15.1999998092651,15.1999998092651,15.1999998092651,15.1999998092651,15.3999996185303,15.5,15.5,15.6000003814697,15.6000003814697,16.0,16.0,16.0,16.0,16.0,16.1000003814697,16.1000003814697,16.3999996185303,16.5,16.5,16.5,16.5,16.5,16.5,16.6000003814697,16.7000007629395,16.7000007629395,16.7999992370605,16.7999992370605,16.7999992370605,16.8999996185303,16.8999996185303,16.8999996185303,17.0,17.0,17.0,17.0,17.0,17.1000003814697,17.1000003814697,17.1000003814697,17.2000007629395,17.2000007629395,17.2000007629395,17.2000007629395,17.2000007629395,17.2000007629395,17.2999992370605,17.2999992370605,17.2999992370605,17.2999992370605,17.2999992370605,17.2999992370605,17.2999992370605,17.3999996185303,17.3999996185303,17.3999996185303,17.5,17.5,17.5,17.5,17.6000003814697,17.6000003814697,17.6000003814697,17.6000003814697,17.6000003814697,17.7000007629395,17.7000007629395,17.7000007629395,17.7000007629395,17.7999992370605,17.7999992370605,17.7999992370605,17.7999992370605,17.7999992370605,17.7999992370605,17.7999992370605,17.7999992370605,17.7999992370605,17.8999996185303,17.8999996185303,17.8999996185303,17.8999996185303,18.0,18.0,18.0,18.0,18.0,18.0,18.0,18.1000003814697,18.1000003814697,18.2000007629395,18.2000007629395,18.2999992370605,18.2999992370605,18.2999992370605,18.3999996185303,18.3999996185303,18.3999996185303,18.3999996185303,18.3999996185303,18.3999996185303,18.3999996185303,18.3999996185303,18.3999996185303,18.3999996185303,18.3999996185303,18.3999996185303,18.5,18.5,18.5,18.6000003814697,18.6000003814697,18.6000003814697,18.6000003814697,18.7000007629395,18.7000007629395,18.7000007629395,18.7000007629395,18.7000007629395,18.7999992370605,18.7999992370605,18.8999996185303,18.8999996185303,18.8999996185303,18.8999996185303,18.8999996185303,18.8999996185303,18.8999996185303,19.0,19.0,19.1000003814697,19.1000003814697,19.1000003814697,19.1000003814697,19.1000003814697,19.1000003814697,19.2000007629395,19.2000007629395,19.2000007629395,19.2000007629395,19.2000007629395,19.2000007629395,19.2999992370605,19.2999992370605,19.2999992370605,19.2999992370605,19.2999992370605,19.3999996185303,19.3999996185303,19.3999996185303,19.3999996185303,19.5,19.5,19.5,19.5,19.6000003814697,19.6000003814697,19.6000003814697,19.6000003814697,19.6000003814697,19.6000003814697,19.6000003814697,19.7000007629395,19.7000007629395,19.7000007629395,19.7000007629395,19.7000007629395,19.7000007629395,19.7000007629395,19.7999992370605,19.7999992370605,19.7999992370605,19.7999992370605,19.7999992370605,19.8999996185303,19.8999996185303,19.8999996185303,19.8999996185303,19.8999996185303,19.8999996185303,19.8999996185303,19.8999996185303,20.0,20.0,20.0,20.0,20.0,20.0,20.0,20.1000003814697,20.1000003814697,20.1000003814697,20.1000003814697,20.1000003814697,20.2000007629395,20.2000007629395,20.2000007629395,20.2000007629395,20.2000007629395,20.2000007629395,20.2999992370605,20.2999992370605,20.2999992370605,20.3999996185303,20.3999996185303,20.3999996185303,20.3999996185303,20.3999996185303,20.3999996185303,20.3999996185303,20.5,20.5,20.5,20.5,20.5,20.6000003814697,20.6000003814697,20.6000003814697,20.6000003814697,20.6000003814697,20.6000003814697,20.6000003814697,20.6000003814697,20.6000003814697,20.6000003814697,20.7000007629395,20.7000007629395,20.7000007629395,20.7000007629395,20.7999992370605,20.7999992370605,20.7999992370605,20.7999992370605,20.7999992370605,20.7999992370605,20.7999992370605,20.7999992370605,20.7999992370605,20.7999992370605,20.7999992370605,20.7999992370605,20.8999996185303,20.8999996185303,20.8999996185303,20.8999996185303,20.8999996185303,20.8999996185303,20.8999996185303,20.8999996185303,20.8999996185303,20.8999996185303,21.0,21.0,21.0,21.0,21.0,21.0,21.0,21.0,21.0,21.1000003814697,21.1000003814697,21.1000003814697,21.1000003814697,21.1000003814697,21.1000003814697,21.1000003814697,21.1000003814697,21.2000007629395,21.2000007629395,21.2000007629395,21.2000007629395,21.2000007629395,21.2000007629395,21.2000007629395,21.2999992370605,21.2999992370605,21.2999992370605,21.2999992370605,21.2999992370605,21.2999992370605,21.2999992370605,21.3999996185303,21.3999996185303,21.3999996185303,21.3999996185303,21.3999996185303,21.3999996185303,21.3999996185303,21.3999996185303,21.5,21.5,21.5,21.5,21.5,21.5,21.5,21.5,21.6000003814697,21.6000003814697,21.6000003814697,21.6000003814697,21.6000003814697,21.6000003814697,21.6000003814697,21.6000003814697,21.6000003814697,21.6000003814697,21.7000007629395,21.7000007629395,21.7000007629395,21.7000007629395,21.7000007629395,21.7000007629395,21.7000007629395,21.7000007629395,21.7999992370605,21.7999992370605,21.7999992370605,21.7999992370605,21.7999992370605,21.7999992370605,21.7999992370605,21.7999992370605,21.7999992370605,21.8999996185303,21.8999996185303,21.8999996185303,21.8999996185303,21.8999996185303,21.8999996185303,21.8999996185303,21.8999996185303,22.0,22.0,22.0,22.0,22.0,22.0,22.0,22.0,22.0,22.0,22.0,22.0,22.0,22.0,22.1000003814697,22.1000003814697,22.1000003814697,22.1000003814697,22.1000003814697,22.1000003814697,22.2000007629395,22.2000007629395,22.2000007629395,22.2000007629395,22.2000007629395,22.2000007629395,22.2000007629395,22.2000007629395,22.2000007629395,22.2999992370605,22.2999992370605,22.2999992370605,22.2999992370605,22.2999992370605,22.2999992370605,22.2999992370605,22.3999996185303,22.3999996185303,22.3999996185303,22.3999996185303,22.3999996185303,22.3999996185303,22.3999996185303,22.3999996185303,22.3999996185303,22.3999996185303,22.5,22.5,22.5,22.5,22.5,22.5,22.5,22.5,22.5,22.5,22.6000003814697,22.6000003814697,22.6000003814697,22.6000003814697,22.6000003814697,22.6000003814697,22.6000003814697,22.6000003814697,22.6000003814697,22.6000003814697,22.7000007629395,22.7000007629395,22.7000007629395,22.7000007629395,22.7000007629395,22.7000007629395,22.7000007629395,22.7999992370605,22.7999992370605,22.7999992370605,22.7999992370605,22.7999992370605,22.7999992370605,22.8999996185303,22.8999996185303,22.8999996185303,22.8999996185303,22.8999996185303,23.0,23.0,23.0,23.0,23.0,23.0,23.0,23.0,23.0,23.0,23.0,23.0,23.0,23.0,23.1000003814697,23.1000003814697,23.1000003814697,23.1000003814697,23.1000003814697,23.1000003814697,23.1000003814697,23.2000007629395,23.2000007629395,23.2000007629395,23.2000007629395,23.2000007629395,23.2000007629395,23.2000007629395,23.2000007629395,23.2000007629395,23.2000007629395,23.2000007629395,23.2000007629395,23.2000007629395,23.2000007629395,23.2000007629395,23.2000007629395,23.2000007629395,23.2000007629395,23.2000007629395,23.2000007629395,23.2999992370605,23.2999992370605,23.2999992370605,23.3999996185303,23.3999996185303,23.3999996185303,23.3999996185303,23.3999996185303,23.5,23.5,23.5,23.5,23.5,23.6000003814697,23.6000003814697,23.6000003814697,23.6000003814697,23.6000003814697,23.6000003814697,23.6000003814697,23.6000003814697,23.6000003814697,23.6000003814697,23.7000007629395,23.7000007629395,23.7000007629395,23.7000007629395,23.7000007629395,23.7000007629395,23.7999992370605,23.7999992370605,23.7999992370605,23.7999992370605,23.8999996185303,23.8999996185303,24.0,24.0,24.0,24.0,24.0,24.0,24.0,24.0,24.0,24.1000003814697,24.1000003814697,24.1000003814697,24.1000003814697,24.1000003814697,24.1000003814697,24.1000003814697,24.1000003814697,24.2000007629395,24.2000007629395,24.2000007629395,24.2000007629395,24.2999992370605,24.2999992370605,24.2999992370605,24.2999992370605,24.2999992370605,24.2999992370605,24.3999996185303,24.3999996185303,24.3999996185303,24.3999996185303,24.3999996185303,24.3999996185303,24.3999996185303,24.3999996185303,24.3999996185303,24.3999996185303,24.3999996185303,24.5,24.5,24.5,24.5,24.5,24.5,24.5,24.6000003814697,24.6000003814697,24.6000003814697,24.6000003814697,24.6000003814697,24.6000003814697,24.7000007629395,24.7000007629395,24.7000007629395,24.7000007629395,24.7999992370605,24.7999992370605,24.7999992370605,24.7999992370605,24.7999992370605,24.8999996185303,24.8999996185303,24.8999996185303,24.8999996185303,24.8999996185303,24.8999996185303,24.8999996185303,24.8999996185303,24.8999996185303,25.0,25.0,25.0,25.0,25.0,25.0,25.0,25.0,25.0,25.1000003814697,25.1000003814697,25.1000003814697,25.1000003814697,25.1000003814697,25.2000007629395,25.2000007629395,25.2000007629395,25.2000007629395,25.2000007629395,25.2000007629395,25.2000007629395,25.2000007629395,25.2000007629395,25.2999992370605,25.2999992370605,25.2999992370605,25.2999992370605,25.2999992370605,25.3999996185303,25.3999996185303,25.3999996185303,25.3999996185303,25.3999996185303,25.5,25.5,25.5,25.5,25.5,25.5,25.5,25.5,25.5,25.6000003814697,25.6000003814697,25.6000003814697,25.6000003814697,25.7000007629395,25.7000007629395,25.7000007629395,25.7000007629395,25.7999992370605,25.7999992370605,25.8999996185303,25.8999996185303,25.8999996185303,26.0,26.0,26.0,26.0,26.0,26.1000003814697,26.1000003814697,26.1000003814697,26.2000007629395,26.2000007629395,26.2000007629395,26.2000007629395,26.2999992370605,26.2999992370605,26.2999992370605,26.2999992370605,26.3999996185303,26.3999996185303,26.3999996185303,26.5,26.5,26.5,26.6000003814697,26.6000003814697,26.6000003814697,26.6000003814697,26.7000007629395,26.7000007629395,26.7999992370605,26.7999992370605,26.8999996185303,26.8999996185303,26.8999996185303,27.0,27.0,27.1000003814697,27.1000003814697,27.2000007629395,27.2000007629395,27.2000007629395,27.2000007629395,27.2000007629395,27.2999992370605,27.2999992370605,27.3999996185303,27.3999996185303,27.3999996185303,27.3999996185303,27.5,27.5,27.6000003814697,27.6000003814697,27.6000003814697,27.6000003814697,27.7999992370605,27.7999992370605,27.7999992370605,27.7999992370605,27.8999996185303,27.8999996185303,28.0,28.0,28.0,28.0,28.0,28.2000007629395,28.2000007629395,28.2000007629395,28.2000007629395,28.2999992370605,28.3999996185303,28.3999996185303,28.3999996185303,28.5,28.6000003814697,28.6000003814697,28.6000003814697,28.7999992370605,28.7999992370605,28.7999992370605,28.7999992370605,28.8999996185303,28.8999996185303,28.8999996185303,29.0,29.0,29.0,29.1000003814697,29.1000003814697,29.2000007629395,29.2999992370605,29.3999996185303,29.3999996185303,29.3999996185303,29.6000003814697,29.7000007629395,29.7000007629395,30.0,30.0,30.5,30.5,30.6000003814697,30.6000003814697,30.6000003814697,30.7000007629395,30.8999996185303,31.0,31.2000007629395,31.2000007629395,31.5,32.0,32.0999984741211,33.0,33.5999984741211,34.4000015258789],\"xaxis\":\"x\",\"y\":[90.8000030517578,81.5,83.4000015258789,91.5,75.1999969482422,64.8000030517578,71.0,87.4000015258789,80.4000015258789,89.9000015258789,86.3000030517578,84.9000015258789,85.0,90.9000015258789,68.0,80.5999984741211,88.4000015258789,93.3000030517578,79.6999969482422,17.5,77.5,78.8000030517578,87.6999969482422,91.8000030517578,80.6999969482422,89.8000030517578,75.3000030517578,89.4000015258789,71.0,71.8000030517578,77.3000030517578,81.8000030517578,84.3000030517578,71.5999984741211,87.8000030517578,69.0999984741211,64.9000015258789,75.5,78.1999969482422,78.3000030517578,80.1999969482422,80.9000015258789,71.4000015258789,81.0,84.5,77.9000015258789,81.0999984741211,81.9000015258789,71.5,75.1999969482422,80.5,77.0999984741211,78.4000015258789,83.6999969482422,89.6999969482422,90.5999984741211,75.0999984741211,77.9000015258789,84.5999984741211,74.4000015258789,75.1999969482422,75.9000015258789,83.1999969482422,83.6999969482422,90.5999984741211,71.4000015258789,76.5999984741211,76.6999969482422,78.3000030517578,82.0,86.8000030517578,90.6999969482422,77.0999984741211,83.3000030517578,92.3000030517578,73.4000015258789,75.8000030517578,81.0999984741211,85.5,67.5,74.4000015258789,76.6999969482422,78.0,92.4000015258789,65.0999984741211,80.9000015258789,84.5999984741211,85.0999984741211,67.9000015258789,72.0999984741211,73.0,76.1999969482422,76.6999969482422,82.6999969482422,83.8000030517578,84.6999969482422,86.6999969482422,71.5,73.0,75.5,83.0999984741211,70.1999969482422,76.3000030517578,82.8000030517578,83.4000015258789,85.1999969482422,89.0999984741211,90.0,72.5999984741211,83.9000015258789,69.9000015258789,81.9000015258789,65.1999969482422,70.1999969482422,73.0999984741211,69.6999969482422,72.5999984741211,76.4000015258789,80.4000015258789,81.0999984741211,81.6999969482422,83.0999984741211,84.0,84.4000015258789,84.9000015258789,85.5999984741211,87.3000030517578,71.1999969482422,78.3000030517578,78.6999969482422,59.7999992370605,74.0999984741211,77.0,85.8000030517578,72.6999969482422,75.0999984741211,75.8000030517578,76.0,76.4000015258789,70.0,76.6999969482422,64.0999984741211,68.8000030517578,69.3000030517578,69.8000030517578,71.0,75.5999984741211,84.0999984741211,73.0,78.5,65.8000030517578,71.3000030517578,74.1999969482422,75.5999984741211,79.9000015258789,85.3000030517578,71.8000030517578,76.1999969482422,77.9000015258789,81.5,84.1999969482422,92.8000030517578,77.0999984741211,81.5,86.1999969482422,86.8000030517578,88.1999969482422,74.3000030517578,76.5999984741211,79.4000015258789,84.1999969482422,60.7000007629395,66.4000015258789,78.8000030517578,81.3000030517578,65.6999969482422,72.4000015258789,74.3000030517578,79.0,83.4000015258789,85.0999984741211,85.8000030517578,58.5999984741211,66.9000015258789,68.9000015258789,74.9000015258789,75.3000030517578,78.5999984741211,92.0999984741211,66.4000015258789,73.4000015258789,85.5,89.5999984741211,90.1999969482422,68.5,72.5,75.8000030517578,77.3000030517578,78.1999969482422,79.4000015258789,90.8000030517578,93.4000015258789,67.5,68.0,75.9000015258789,78.0999984741211,80.8000030517578,82.5999984741211,86.0999984741211,56.0999984741211,68.8000030517578,74.0,74.9000015258789,90.0999984741211,61.9000015258789,75.9000015258789,82.5999984741211,84.8000030517578,88.1999969482422,92.1999969482422,82.1999969482422,87.4000015258789,88.8000030517578,56.0999984741211,61.2000007629395,73.0999984741211,73.5,79.9000015258789,85.3000030517578,89.5,66.0999984741211,72.5999984741211,81.8000030517578,83.0999984741211,84.6999969482422,57.9000015258789,70.0999984741211,73.5999984741211,75.5,76.9000015258789,82.6999969482422,83.4000015258789,84.8000030517578,88.0,88.9000015258789,62.2999992370605,67.6999969482422,73.1999969482422,89.8000030517578,62.2999992370605,72.1999969482422,74.5999984741211,75.5,77.0,81.8000030517578,83.5999984741211,85.4000015258789,85.6999969482422,86.6999969482422,89.4000015258789,89.8000030517578,66.6999969482422,72.3000030517578,73.6999969482422,74.0999984741211,82.8000030517578,85.4000015258789,85.6999969482422,88.0999984741211,88.9000015258789,90.5,59.9000015258789,65.1999969482422,71.6999969482422,75.8000030517578,77.5,83.6999969482422,84.0,84.0999984741211,92.4000015258789,72.1999969482422,76.5999984741211,77.0999984741211,78.9000015258789,80.3000030517578,85.0,89.9000015258789,92.5,59.0,71.3000030517578,79.3000030517578,79.6999969482422,81.9000015258789,84.0,84.5999984741211,59.0,69.5,76.1999969482422,82.6999969482422,85.5,87.3000030517578,95.0999984741211,70.9000015258789,78.0999984741211,82.4000015258789,83.8000030517578,87.3000030517578,89.1999969482422,91.1999969482422,93.4000015258789,64.6999969482422,69.8000030517578,78.5,80.0,82.4000015258789,83.8000030517578,84.6999969482422,91.0999984741211,57.5999984741211,60.0999984741211,67.6999969482422,69.4000015258789,71.9000015258789,73.8000030517578,77.6999969482422,82.0,83.9000015258789,90.9000015258789,58.5,60.0,73.4000015258789,75.8000030517578,78.4000015258789,82.0,86.0999984741211,89.0999984741211,60.0,75.5,77.5,78.5999984741211,82.8000030517578,83.1999969482422,87.3000030517578,87.8000030517578,91.8000030517578,64.4000015258789,72.5,80.5,83.0,83.8000030517578,84.6999969482422,85.6999969482422,87.0,57.0999984741211,60.0999984741211,67.0999984741211,67.4000015258789,69.0,70.5999984741211,73.5,74.9000015258789,77.3000030517578,77.6999969482422,78.6999969482422,80.3000030517578,84.1999969482422,93.8000030517578,58.5999984741211,77.5999984741211,81.5,83.3000030517578,87.8000030517578,90.4000015258789,65.4000015258789,79.6999969482422,82.0,82.5,85.1999969482422,85.6999969482422,86.5999984741211,88.4000015258789,94.4000015258789,72.0,72.5,79.5,82.0,84.0,84.3000030517578,86.5999984741211,49.7999992370605,74.9000015258789,77.4000015258789,78.0999984741211,78.8000030517578,80.6999969482422,81.0999984741211,81.6999969482422,86.6999969482422,94.0999984741211,54.2999992370605,68.5,68.8000030517578,74.9000015258789,78.4000015258789,81.5999984741211,82.0999984741211,83.4000015258789,84.5,91.5,61.9000015258789,64.0,70.1999969482422,72.5999984741211,79.0999984741211,80.3000030517578,80.4000015258789,82.1999969482422,85.4000015258789,87.5,69.6999969482422,74.5,76.8000030517578,76.9000015258789,83.5,88.0,94.5999984741211,67.5,77.6999969482422,82.5999984741211,84.0,84.0999984741211,91.5999984741211,68.0999984741211,70.0999984741211,75.0,77.0,79.4000015258789,50.0999984741211,58.2000007629395,59.2000007629395,60.0999984741211,62.5999984741211,63.5999984741211,70.5999984741211,74.0,76.0999984741211,76.9000015258789,77.5999984741211,87.1999969482422,87.6999969482422,91.1999969482422,63.5999984741211,66.5,70.6999969482422,74.0999984741211,80.5999984741211,81.5,85.4000015258789,51.7999992370605,68.6999969482422,70.0,70.6999969482422,70.8000030517578,72.6999969482422,73.5999984741211,75.5,76.0999984741211,77.5,79.1999969482422,80.5999984741211,81.5,81.8000030517578,82.6999969482422,84.1999969482422,84.5,84.5999984741211,87.6999969482422,89.9000015258789,78.5,78.8000030517578,83.6999969482422,74.6999969482422,76.0999984741211,82.4000015258789,82.9000015258789,86.0,66.0999984741211,68.4000015258789,74.1999969482422,82.0,84.1999969482422,59.2999992370605,71.8000030517578,73.8000030517578,74.1999969482422,77.0,80.5999984741211,82.5,83.8000030517578,85.1999969482422,85.5,70.0,73.3000030517578,79.6999969482422,81.5999984741211,83.6999969482422,86.0999984741211,57.9000015258789,77.0,79.5999984741211,81.0999984741211,70.3000030517578,82.5,55.0,57.0,68.0,68.8000030517578,77.1999969482422,80.6999969482422,81.5,82.0,83.1999969482422,60.4000015258789,65.0,70.0,76.0999984741211,77.5,82.5,83.5,87.0999984741211,72.9000015258789,80.0999984741211,81.6999969482422,88.4000015258789,52.4000015258789,61.9000015258789,74.4000015258789,77.5999984741211,80.5999984741211,84.9000015258789,67.9000015258789,70.9000015258789,71.4000015258789,77.5999984741211,77.9000015258789,79.1999969482422,83.0999984741211,83.9000015258789,84.4000015258789,85.6999969482422,86.6999969482422,70.0,73.9000015258789,77.1999969482422,78.0999984741211,79.0,79.6999969482422,82.6999969482422,58.0,79.5,83.0,85.3000030517578,88.0999984741211,90.6999969482422,57.5,84.8000030517578,88.0999984741211,88.5999984741211,65.4000015258789,82.1999969482422,85.0,85.0999984741211,89.9000015258789,67.5,76.3000030517578,76.8000030517578,76.9000015258789,78.9000015258789,80.5,84.5999984741211,85.9000015258789,89.0,55.0,57.0,67.0,72.5,77.5999984741211,79.4000015258789,83.5999984741211,84.0999984741211,86.4000015258789,67.9000015258789,71.3000030517578,83.6999969482422,84.6999969482422,89.8000030517578,53.5999984741211,71.1999969482422,73.5999984741211,74.0,74.0999984741211,78.1999969482422,83.1999969482422,84.0999984741211,91.6999969482422,76.4000015258789,83.1999969482422,84.0999984741211,85.5,90.5,83.6999969482422,85.0999984741211,88.1999969482422,90.0,90.9000015258789,51.0999984741211,66.5,70.0,76.4000015258789,80.3000030517578,80.9000015258789,82.8000030517578,87.8000030517578,90.4000015258789,75.6999969482422,78.8000030517578,80.0,82.9000015258789,48.5999984741211,74.6999969482422,82.4000015258789,84.6999969482422,81.5,82.9000015258789,55.2000007629395,87.0,92.1999969482422,54.0,59.5999984741211,70.4000015258789,79.5999984741211,80.5999984741211,61.2000007629395,83.4000015258789,89.3000030517578,59.7999992370605,68.5999984741211,71.8000030517578,82.5999984741211,70.4000015258789,76.5999984741211,82.0999984741211,84.8000030517578,67.0999984741211,71.5,88.5,68.5999984741211,86.3000030517578,87.1999969482422,77.8000030517578,81.3000030517578,83.0999984741211,83.5,72.0,87.1999969482422,81.6999969482422,84.5,64.8000030517578,78.0999984741211,78.4000015258789,70.0,73.4000015258789,76.0,76.8000030517578,83.6999969482422,83.8000030517578,84.0999984741211,86.0,87.3000030517578,52.9000015258789,85.5999984741211,79.9000015258789,80.9000015258789,84.1999969482422,85.0999984741211,62.9000015258789,85.0999984741211,73.5,77.8000030517578,83.8000030517578,97.9000015258789,68.3000030517578,75.0,81.5,82.4000015258789,79.0999984741211,82.0,57.0,77.4000015258789,78.3000030517578,79.5999984741211,80.6999969482422,82.5999984741211,83.9000015258789,84.4000015258789,90.5,88.0,67.0,83.8000030517578,90.6999969482422,66.0,55.5999984741211,88.5,89.4000015258789,75.1999969482422,79.0,79.9000015258789,80.3000030517578,76.9000015258789,79.5,89.0999984741211,76.6999969482422,80.4000015258789,84.0999984741211,77.1999969482422,89.1999969482422,68.0999984741211,84.5999984741211,80.5,80.9000015258789,86.5,49.5999984741211,83.8000030517578,89.3000030517578,73.0999984741211,86.8000030517578,76.0,77.4000015258789,78.4000015258789,83.0999984741211,86.6999969482422,90.4000015258789,79.9000015258789,68.9000015258789,63.5,90.0999984741211,88.3000030517578,92.0,58.4000015258789,78.4000015258789,58.9000015258789,61.2999992370605],\"yaxis\":\"y\",\"type\":\"scattergl\"},{\"hovertemplate\":\"Habitat=Grassland\\u003cbr\\u003eTemperature=%{x}\\u003cbr\\u003eHumidity=%{y}\\u003cbr\\u003eObservation_Count=%{marker.size}\\u003cextra\\u003e\\u003c\\u002fextra\\u003e\",\"legendgroup\":\"Grassland\",\"marker\":{\"color\":\"#000002\",\"size\":[11,10,3,5,15,17,11,11,8,12,8,10,12,10,15,13,17,12,12,16,7,18,31,9,13,12,19,13,13,11,19,15,11,17,12,5,11,12,12,9,13,11,10,12,10,11,12,11,13,9,13,11,16,13,11,8,8,15,10,15,12,4,15,12,19,14,12,10,14,13,12,5,15,9,12,11,16,9,16,8,11,10,116,12,7,14,5,19,14,11,22,16,15,10,7,5,16,8,10,14,17,9,19,14,10,6,11,17,14,19,9,8,19,12,13,10,15,14,6,9,6,5,15,15,14,24,12,12,14,10,13,13,10,8,19,15,11,17,9,12,13,15,8,6,14,19,14,10,12,12,4,9,18,9,11,14,13,9,6,6,12,13,20,17,15,11,19,12,8,10,2,11,4,11,6,12,12,12,13,9,8,16,15,11,15,10,6,12,10,12,15,19,13,5,15,13,13,13,10,16,14,9,15,10,8,11,13,74,12,14,18,16,15,13,13,10,13,5,14,6,9,22,12,12,11,13,12,11,12,14,13,12,16,15,12,21,11,10,7,30,11,18,13,18,7,5,18,13,9,14,18,15,11,12,7,5,9,10,11,12,15,9,14,10,10,15,10,3,14,5,11,14,8,13,12,10,8,4,17,10,15,8,13,14,13,13,12,6,6,16,14,10,15,7,14,16,77,10,17,15,5,12,16,10,14,8,12,2,3,12,11,16,9,9,14,9,9,7,29,18,15,13,2,8,16,11,11,7,14,8,8,18,10,6,4,7,10,11,13,9,14,10,6,16,15,9,8,7,7,10,2,8,6,18,7,12,5,15,12,8,11,5,14,8,11,8,10,12,8,11,7,9,12,8,9,8,13,22,13,15,25,13,11,11,12,12,11,9,6,13,12,19,4,15,10,10,11,23,10,5,9,10,11,12,6,8,13,11,6,17,3,18,11,4,75,7,12,13,9,8,15,13,9,8,22,5,16,9,11,8,13,11,9,16,7,13,11,14,11,13,6,7,5,12,10,8,9,6,34,5,9,9,12,8,4,13,13,20,9,15,7,11,5,9,9,8,18,9,8,6,12,9,5,17,7,9,8,6,8,13,11,13,5,8,6,7,11,8,10,10,9,7,15,4,10,12,8,11,10,13,7,8,17,13,9,8,7,8,8,5,7,8,7,7,9,14,6,6,13,11,9,14,3,17,15,11,10,12,10,14,10,4,11,11,10,13,16,12,6,13,8,8,10,11],\"sizemode\":\"area\",\"sizeref\":0.29,\"symbol\":\"circle\"},\"mode\":\"markers\",\"name\":\"Grassland\",\"showlegend\":true,\"x\":[11.0,11.3999996185303,11.6000003814697,11.8000001907349,12.0,12.8999996185303,12.8999996185303,13.0,13.1999998092651,13.8000001907349,13.8000001907349,14.0,14.1000003814697,14.3000001907349,14.3000001907349,14.3999996185303,14.5,14.6000003814697,14.6999998092651,14.6999998092651,14.6999998092651,14.8999996185303,15.1999998092651,15.3000001907349,15.3999996185303,15.3999996185303,15.5,15.6000003814697,15.6000003814697,15.8000001907349,16.1000003814697,16.2000007629395,16.2000007629395,16.3999996185303,16.5,16.5,16.5,16.7000007629395,16.7999992370605,16.7999992370605,16.7999992370605,17.0,17.2999992370605,17.3999996185303,17.3999996185303,17.5,17.6000003814697,17.6000003814697,17.6000003814697,17.6000003814697,17.7999992370605,17.7999992370605,17.7999992370605,17.7999992370605,17.7999992370605,18.0,18.1000003814697,18.1000003814697,18.1000003814697,18.1000003814697,18.1000003814697,18.2000007629395,18.2000007629395,18.2000007629395,18.2000007629395,18.2999992370605,18.3999996185303,18.5,18.6000003814697,18.6000003814697,18.6000003814697,18.7000007629395,18.7000007629395,18.7999992370605,18.7999992370605,18.8999996185303,18.8999996185303,18.8999996185303,18.8999996185303,18.8999996185303,18.8999996185303,19.0,19.0,19.0,19.0,19.1000003814697,19.1000003814697,19.1000003814697,19.2000007629395,19.2000007629395,19.2000007629395,19.2000007629395,19.2999992370605,19.2999992370605,19.2999992370605,19.2999992370605,19.3999996185303,19.3999996185303,19.3999996185303,19.3999996185303,19.5,19.5,19.6000003814697,19.6000003814697,19.6000003814697,19.7000007629395,19.7000007629395,19.7999992370605,19.7999992370605,19.7999992370605,19.7999992370605,19.7999992370605,19.8999996185303,20.0,20.1000003814697,20.1000003814697,20.1000003814697,20.1000003814697,20.1000003814697,20.1000003814697,20.1000003814697,20.2000007629395,20.2000007629395,20.2000007629395,20.2000007629395,20.2000007629395,20.2000007629395,20.2999992370605,20.2999992370605,20.2999992370605,20.3999996185303,20.3999996185303,20.3999996185303,20.3999996185303,20.5,20.5,20.5,20.5,20.6000003814697,20.6000003814697,20.6000003814697,20.7000007629395,20.7999992370605,20.7999992370605,20.7999992370605,20.7999992370605,20.8999996185303,20.8999996185303,20.8999996185303,20.8999996185303,21.0,21.0,21.0,21.0,21.0,21.0,21.0,21.0,21.1000003814697,21.1000003814697,21.1000003814697,21.1000003814697,21.2000007629395,21.2000007629395,21.2000007629395,21.2000007629395,21.2000007629395,21.2000007629395,21.2999992370605,21.2999992370605,21.3999996185303,21.3999996185303,21.3999996185303,21.3999996185303,21.3999996185303,21.3999996185303,21.3999996185303,21.3999996185303,21.3999996185303,21.3999996185303,21.5,21.5,21.5,21.5,21.5,21.6000003814697,21.6000003814697,21.6000003814697,21.6000003814697,21.6000003814697,21.6000003814697,21.6000003814697,21.6000003814697,21.7999992370605,21.7999992370605,21.7999992370605,21.7999992370605,21.8999996185303,21.8999996185303,21.8999996185303,21.8999996185303,21.8999996185303,21.8999996185303,22.0,22.0,22.0,22.0,22.0,22.0,22.0,22.0,22.0,22.0,22.0,22.1000003814697,22.1000003814697,22.1000003814697,22.1000003814697,22.1000003814697,22.1000003814697,22.1000003814697,22.2000007629395,22.2000007629395,22.2000007629395,22.2000007629395,22.2999992370605,22.2999992370605,22.2999992370605,22.3999996185303,22.3999996185303,22.3999996185303,22.3999996185303,22.5,22.5,22.5,22.5,22.5,22.5,22.6000003814697,22.6000003814697,22.6000003814697,22.6000003814697,22.6000003814697,22.6000003814697,22.7000007629395,22.7000007629395,22.7000007629395,22.7000007629395,22.7000007629395,22.7999992370605,22.7999992370605,22.7999992370605,22.7999992370605,22.7999992370605,22.7999992370605,22.8999996185303,22.8999996185303,22.8999996185303,22.8999996185303,23.0,23.0,23.0,23.1000003814697,23.1000003814697,23.2000007629395,23.2000007629395,23.2000007629395,23.2000007629395,23.2999992370605,23.2999992370605,23.2999992370605,23.3999996185303,23.3999996185303,23.3999996185303,23.3999996185303,23.3999996185303,23.3999996185303,23.3999996185303,23.5,23.5,23.5,23.5,23.5,23.6000003814697,23.6000003814697,23.6000003814697,23.6000003814697,23.6000003814697,23.6000003814697,23.6000003814697,23.6000003814697,23.6000003814697,23.6000003814697,23.7000007629395,23.7000007629395,23.7999992370605,23.8999996185303,23.8999996185303,23.8999996185303,23.8999996185303,23.8999996185303,23.8999996185303,24.0,24.0,24.0,24.0,24.0,24.0,24.1000003814697,24.1000003814697,24.1000003814697,24.1000003814697,24.2000007629395,24.2000007629395,24.2000007629395,24.2000007629395,24.2000007629395,24.2000007629395,24.2999992370605,24.2999992370605,24.2999992370605,24.2999992370605,24.2999992370605,24.3999996185303,24.3999996185303,24.5,24.5,24.5,24.5,24.6000003814697,24.6000003814697,24.6000003814697,24.6000003814697,24.7000007629395,24.7999992370605,24.7999992370605,24.7999992370605,24.7999992370605,24.7999992370605,24.7999992370605,24.8999996185303,24.8999996185303,24.8999996185303,25.0,25.0,25.1000003814697,25.1000003814697,25.1000003814697,25.1000003814697,25.1000003814697,25.1000003814697,25.1000003814697,25.2000007629395,25.2000007629395,25.2000007629395,25.2000007629395,25.2999992370605,25.2999992370605,25.2999992370605,25.3999996185303,25.3999996185303,25.3999996185303,25.5,25.5,25.5,25.5,25.6000003814697,25.6000003814697,25.6000003814697,25.6000003814697,25.6000003814697,25.7000007629395,25.7999992370605,25.7999992370605,25.7999992370605,25.7999992370605,25.8999996185303,25.8999996185303,26.0,26.0,26.0,26.0,26.0,26.0,26.1000003814697,26.1000003814697,26.2999992370605,26.2999992370605,26.2999992370605,26.3999996185303,26.3999996185303,26.3999996185303,26.3999996185303,26.3999996185303,26.3999996185303,26.5,26.5,26.5,26.5,26.5,26.5,26.5,26.7000007629395,26.7000007629395,26.7000007629395,26.7000007629395,26.7000007629395,26.7999992370605,26.7999992370605,26.7999992370605,26.7999992370605,26.7999992370605,27.0,27.0,27.0,27.0,27.0,27.1000003814697,27.1000003814697,27.1000003814697,27.1000003814697,27.1000003814697,27.2000007629395,27.2999992370605,27.2999992370605,27.2999992370605,27.2999992370605,27.2999992370605,27.2999992370605,27.3999996185303,27.5,27.5,27.6000003814697,27.6000003814697,27.6000003814697,27.7000007629395,27.7000007629395,27.7999992370605,27.7999992370605,27.7999992370605,27.8999996185303,28.0,28.0,28.1000003814697,28.1000003814697,28.2000007629395,28.2000007629395,28.2000007629395,28.2000007629395,28.3999996185303,28.5,28.5,28.5,28.7000007629395,28.7999992370605,28.7999992370605,28.8999996185303,29.0,29.0,29.0,29.0,29.0,29.1000003814697,29.1000003814697,29.2000007629395,29.2000007629395,29.2000007629395,29.2000007629395,29.2999992370605,29.2999992370605,29.2999992370605,29.3999996185303,29.3999996185303,29.5,29.6000003814697,29.6000003814697,29.6000003814697,29.6000003814697,29.6000003814697,29.7000007629395,29.7000007629395,29.7000007629395,29.7999992370605,29.7999992370605,29.7999992370605,29.7999992370605,29.8999996185303,30.0,30.1000003814697,30.2000007629395,30.2000007629395,30.2000007629395,30.2999992370605,30.2999992370605,30.2999992370605,30.3999996185303,30.5,30.5,30.6000003814697,30.6000003814697,30.6000003814697,30.7000007629395,30.7999992370605,30.7999992370605,30.8999996185303,31.0,31.2000007629395,31.2000007629395,31.2000007629395,31.2999992370605,31.3999996185303,31.3999996185303,31.6000003814697,31.7999992370605,31.7999992370605,31.7999992370605,31.7999992370605,32.0999984741211,32.2999992370605,32.4000015258789,32.4000015258789,32.5,32.5999984741211,32.7999992370605,32.7999992370605,33.2000007629395,33.2000007629395,33.2999992370605,33.4000015258789,33.4000015258789,33.5,33.7999992370605,33.9000015258789,34.0999984741211,34.2000007629395,34.4000015258789,34.5999984741211,34.7999992370605,35.0,35.0999984741211,35.5,35.5999984741211,36.2000007629395,37.2999992370605],\"xaxis\":\"x\",\"y\":[90.8000030517578,83.6999969482422,66.1999969482422,80.8000030517578,78.1999969482422,83.3000030517578,89.5999984741211,87.0999984741211,79.0,79.0,81.1999969482422,71.0,79.9000015258789,71.6999969482422,81.3000030517578,89.5999984741211,89.0999984741211,85.3000030517578,60.9000015258789,65.5,84.0,87.5,77.5,85.0,67.9000015258789,85.9000015258789,79.0,72.5999984741211,76.6999969482422,79.4000015258789,90.3000030517578,90.5,93.4000015258789,76.8000030517578,68.1999969482422,74.1999969482422,78.1999969482422,56.5,71.3000030517578,74.1999969482422,76.0999984741211,81.5999984741211,77.5,70.0,73.8000030517578,75.1999969482422,67.4000015258789,68.6999969482422,70.0,84.6999969482422,60.2999992370605,79.4000015258789,82.5,83.8000030517578,84.6999969482422,85.5999984741211,63.0999984741211,68.0999984741211,86.5,91.0,92.0999984741211,64.6999969482422,77.8000030517578,79.6999969482422,81.3000030517578,81.0,75.9000015258789,85.8000030517578,50.0999984741211,69.6999969482422,77.0999984741211,84.9000015258789,85.8000030517578,70.9000015258789,82.6999969482422,64.4000015258789,67.8000030517578,72.6999969482422,73.6999969482422,88.5,98.8000030517578,45.4000015258789,63.0,64.8000030517578,73.3000030517578,68.6999969482422,68.8000030517578,85.0,69.5999984741211,74.1999969482422,77.9000015258789,79.0999984741211,58.0999984741211,70.4000015258789,72.3000030517578,91.5999984741211,34.7999992370605,70.4000015258789,86.6999969482422,89.5,56.0999984741211,79.3000030517578,78.4000015258789,82.5,85.0999984741211,67.5,73.4000015258789,68.3000030517578,78.9000015258789,80.3000030517578,81.4000015258789,81.5999984741211,80.5999984741211,79.0,73.0,76.0999984741211,77.1999969482422,80.6999969482422,82.6999969482422,87.8000030517578,93.8000030517578,68.5999984741211,79.5,82.0,82.5999984741211,84.4000015258789,89.5999984741211,56.5999984741211,70.4000015258789,77.3000030517578,67.0999984741211,80.9000015258789,82.5,89.6999969482422,56.2999992370605,64.1999969482422,82.6999969482422,88.0999984741211,63.5999984741211,64.0999984741211,80.9000015258789,67.6999969482422,71.6999969482422,74.0999984741211,81.1999969482422,85.4000015258789,13.3000001907349,54.5999984741211,81.5999984741211,85.4000015258789,59.4000015258789,72.0,73.1999969482422,74.5999984741211,76.0999984741211,79.1999969482422,84.1999969482422,84.9000015258789,66.3000030517578,67.5999984741211,71.5999984741211,75.5,65.1999969482422,72.3000030517578,82.8000030517578,83.3000030517578,87.3000030517578,88.1999969482422,7.30000019073486,91.0,52.0,62.7000007629395,66.3000030517578,70.0,73.9000015258789,74.1999969482422,86.4000015258789,88.1999969482422,89.0999984741211,91.1999969482422,64.3000030517578,75.6999969482422,84.8000030517578,87.3000030517578,88.1999969482422,61.7000007629395,64.3000030517578,69.0999984741211,70.4000015258789,73.8000030517578,77.5,80.6999969482422,84.0999984741211,61.7000007629395,76.3000030517578,83.0,84.3000030517578,64.9000015258789,65.4000015258789,81.0,86.8000030517578,88.5999984741211,91.5999984741211,66.0,66.3000030517578,68.0,68.6999969482422,69.0,69.9000015258789,73.4000015258789,73.9000015258789,76.3000030517578,77.5,77.6999969482422,58.5999984741211,60.5,63.9000015258789,64.4000015258789,74.4000015258789,78.5,81.6999969482422,9.5,62.0,81.5,85.4000015258789,63.9000015258789,71.0,85.1999969482422,65.5,77.4000015258789,78.8000030517578,80.6999969482422,62.7999992370605,63.7999992370605,73.0,76.6999969482422,77.9000015258789,86.1999969482422,54.2000007629395,61.0999984741211,63.4000015258789,77.8000030517578,78.4000015258789,86.8000030517578,57.7000007629395,63.7000007629395,83.1999969482422,84.3000030517578,87.5,58.7000007629395,71.0999984741211,76.0,80.3000030517578,89.4000015258789,89.5,58.5999984741211,69.9000015258789,70.0999984741211,88.5,66.6999969482422,71.0999984741211,80.8000030517578,64.5999984741211,69.9000015258789,50.4000015258789,79.4000015258789,85.5,86.1999969482422,72.1999969482422,74.0999984741211,88.1999969482422,69.4000015258789,72.6999969482422,73.6999969482422,77.0999984741211,84.1999969482422,86.5,87.4000015258789,56.2000007629395,59.2999992370605,61.9000015258789,68.1999969482422,87.0999984741211,54.4000015258789,57.7000007629395,63.2000007629395,70.3000030517578,75.6999969482422,76.0,79.5,84.5999984741211,88.6999969482422,89.9000015258789,49.2999992370605,88.4000015258789,83.9000015258789,68.5999984741211,72.3000030517578,74.1999969482422,81.0,91.3000030517578,92.6999969482422,46.0999984741211,52.9000015258789,57.4000015258789,59.0,66.6999969482422,85.5,40.0999984741211,56.7000007629395,71.6999969482422,87.5,45.7999992370605,46.0999984741211,50.5999984741211,74.3000030517578,79.9000015258789,92.8000030517578,52.4000015258789,65.3000030517578,69.0999984741211,83.0,86.0,48.4000015258789,69.0999984741211,49.0,58.2999992370605,67.1999969482422,91.5,45.2999992370605,57.4000015258789,58.5,70.0999984741211,61.0,42.7999992370605,43.7999992370605,51.4000015258789,67.5,72.0,92.5,65.4000015258789,73.5,80.9000015258789,69.0,84.0999984741211,58.0,61.0,63.4000015258789,65.4000015258789,66.9000015258789,75.9000015258789,93.3000030517578,50.5,56.0,77.5,85.9000015258789,64.0,64.5,81.4000015258789,66.5,76.4000015258789,76.9000015258789,68.4000015258789,68.5999984741211,69.8000030517578,72.6999969482422,39.5999984741211,46.2000007629395,50.5999984741211,56.4000015258789,67.0,77.5999984741211,56.7000007629395,65.3000030517578,65.5,66.0,79.6999969482422,84.3000030517578,32.9000015258789,54.2000007629395,62.2000007629395,65.5,71.8000030517578,78.6999969482422,60.2000007629395,75.3000030517578,59.7000007629395,70.9000015258789,75.4000015258789,48.7000007629395,62.0,72.4000015258789,81.1999969482422,83.0,84.4000015258789,51.0,55.0,59.5,66.0999984741211,69.3000030517578,70.0999984741211,74.3000030517578,42.0999984741211,62.2999992370605,62.7999992370605,64.1999969482422,64.6999969482422,41.2000007629395,44.0,61.2999992370605,66.8000030517578,82.0999984741211,61.2999992370605,66.3000030517578,70.0,71.0,86.4000015258789,48.7999992370605,56.9000015258789,70.0999984741211,71.0999984741211,77.9000015258789,55.7000007629395,60.0,71.5999984741211,74.0,78.5,79.0999984741211,82.8000030517578,81.1999969482422,45.4000015258789,79.0,48.7999992370605,59.9000015258789,72.3000030517578,71.5999984741211,82.6999969482422,67.5,68.3000030517578,75.1999969482422,66.4000015258789,49.9000015258789,55.2000007629395,63.9000015258789,70.8000030517578,43.7000007629395,52.0,52.4000015258789,65.5,54.0999984741211,55.9000015258789,59.0999984741211,79.9000015258789,82.6999969482422,67.9000015258789,68.3000030517578,56.5,47.9000015258789,52.5999984741211,55.0,67.0999984741211,70.0,65.8000030517578,69.0,49.5,49.7000007629395,56.5999984741211,69.0,64.6999969482422,68.5999984741211,73.1999969482422,53.2000007629395,73.4000015258789,39.9000015258789,49.0999984741211,50.2999992370605,73.0,77.1999969482422,77.6999969482422,60.7999992370605,64.0999984741211,73.0999984741211,48.0,68.6999969482422,71.5999984741211,79.5,47.0,73.0999984741211,65.8000030517578,46.5,54.2999992370605,62.4000015258789,43.0,57.2999992370605,68.8000030517578,67.5,47.5999984741211,54.5,47.2000007629395,54.5,63.9000015258789,54.5,64.0,85.4000015258789,52.7999992370605,49.4000015258789,43.0,50.2999992370605,56.7999992370605,66.5,41.2000007629395,53.4000015258789,56.9000015258789,40.5,47.2000007629395,59.5999984741211,67.5999984741211,68.6999969482422,47.7999992370605,33.9000015258789,66.6999969482422,47.4000015258789,59.9000015258789,49.7000007629395,55.7000007629395,48.5999984741211,55.2000007629395,33.4000015258789,48.5999984741211,55.5,69.6999969482422,42.7000007629395,38.5,40.2999992370605,59.0,64.5999984741211,43.9000015258789,48.7999992370605,63.5999984741211,47.5999984741211,43.5,36.7999992370605,41.7999992370605,47.4000015258789],\"yaxis\":\"y\",\"type\":\"scattergl\"}],                        {\"template\":{\"data\":{\"candlestick\":[{\"decreasing\":{\"line\":{\"color\":\"#000033\"}},\"increasing\":{\"line\":{\"color\":\"#000032\"}},\"type\":\"candlestick\"}],\"contourcarpet\":[{\"colorscale\":[[0.0,\"#000011\"],[0.1111111111111111,\"#000012\"],[0.2222222222222222,\"#000013\"],[0.3333333333333333,\"#000014\"],[0.4444444444444444,\"#000015\"],[0.5555555555555556,\"#000016\"],[0.6666666666666666,\"#000017\"],[0.7777777777777778,\"#000018\"],[0.8888888888888888,\"#000019\"],[1.0,\"#000020\"]],\"type\":\"contourcarpet\"}],\"contour\":[{\"colorscale\":[[0.0,\"#000011\"],[0.1111111111111111,\"#000012\"],[0.2222222222222222,\"#000013\"],[0.3333333333333333,\"#000014\"],[0.4444444444444444,\"#000015\"],[0.5555555555555556,\"#000016\"],[0.6666666666666666,\"#000017\"],[0.7777777777777778,\"#000018\"],[0.8888888888888888,\"#000019\"],[1.0,\"#000020\"]],\"type\":\"contour\"}],\"heatmap\":[{\"colorscale\":[[0.0,\"#000011\"],[0.1111111111111111,\"#000012\"],[0.2222222222222222,\"#000013\"],[0.3333333333333333,\"#000014\"],[0.4444444444444444,\"#000015\"],[0.5555555555555556,\"#000016\"],[0.6666666666666666,\"#000017\"],[0.7777777777777778,\"#000018\"],[0.8888888888888888,\"#000019\"],[1.0,\"#000020\"]],\"type\":\"heatmap\"}],\"histogram2d\":[{\"colorscale\":[[0.0,\"#000011\"],[0.1111111111111111,\"#000012\"],[0.2222222222222222,\"#000013\"],[0.3333333333333333,\"#000014\"],[0.4444444444444444,\"#000015\"],[0.5555555555555556,\"#000016\"],[0.6666666666666666,\"#000017\"],[0.7777777777777778,\"#000018\"],[0.8888888888888888,\"#000019\"],[1.0,\"#000020\"]],\"type\":\"histogram2d\"}],\"icicle\":[{\"textfont\":{\"color\":\"white\"},\"type\":\"icicle\"}],\"sankey\":[{\"textfont\":{\"color\":\"#000036\"},\"type\":\"sankey\"}],\"scatter\":[{\"marker\":{\"line\":{\"width\":0}},\"type\":\"scatter\"}],\"table\":[{\"cells\":{\"fill\":{\"color\":\"#000038\"},\"font\":{\"color\":\"#000037\"},\"line\":{\"color\":\"#000039\"}},\"header\":{\"fill\":{\"color\":\"#000040\"},\"font\":{\"color\":\"#000036\"},\"line\":{\"color\":\"#000039\"}},\"type\":\"table\"}],\"waterfall\":[{\"connector\":{\"line\":{\"color\":\"#000036\",\"width\":2}},\"decreasing\":{\"marker\":{\"color\":\"#000033\"}},\"increasing\":{\"marker\":{\"color\":\"#000032\"}},\"totals\":{\"marker\":{\"color\":\"#000034\"}},\"type\":\"waterfall\"}]},\"layout\":{\"coloraxis\":{\"colorscale\":[[0.0,\"#000011\"],[0.1111111111111111,\"#000012\"],[0.2222222222222222,\"#000013\"],[0.3333333333333333,\"#000014\"],[0.4444444444444444,\"#000015\"],[0.5555555555555556,\"#000016\"],[0.6666666666666666,\"#000017\"],[0.7777777777777778,\"#000018\"],[0.8888888888888888,\"#000019\"],[1.0,\"#000020\"]]},\"colorscale\":{\"diverging\":[[0.0,\"#000021\"],[0.1,\"#000022\"],[0.2,\"#000023\"],[0.3,\"#000024\"],[0.4,\"#000025\"],[0.5,\"#000026\"],[0.6,\"#000027\"],[0.7,\"#000028\"],[0.8,\"#000029\"],[0.9,\"#000030\"],[1.0,\"#000031\"]],\"sequential\":[[0.0,\"#000011\"],[0.1111111111111111,\"#000012\"],[0.2222222222222222,\"#000013\"],[0.3333333333333333,\"#000014\"],[0.4444444444444444,\"#000015\"],[0.5555555555555556,\"#000016\"],[0.6666666666666666,\"#000017\"],[0.7777777777777778,\"#000018\"],[0.8888888888888888,\"#000019\"],[1.0,\"#000020\"]],\"sequentialminus\":[[0.0,\"#000011\"],[0.1111111111111111,\"#000012\"],[0.2222222222222222,\"#000013\"],[0.3333333333333333,\"#000014\"],[0.4444444444444444,\"#000015\"],[0.5555555555555556,\"#000016\"],[0.6666666666666666,\"#000017\"],[0.7777777777777778,\"#000018\"],[0.8888888888888888,\"#000019\"],[1.0,\"#000020\"]]},\"colorway\":[\"#000001\",\"#000002\",\"#000003\",\"#000004\",\"#000005\",\"#000006\",\"#000007\",\"#000008\",\"#000009\",\"#000010\"]}},\"xaxis\":{\"anchor\":\"y\",\"domain\":[0.0,1.0],\"title\":{\"text\":\"Temperature\"}},\"yaxis\":{\"anchor\":\"x\",\"domain\":[0.0,1.0],\"title\":{\"text\":\"Humidity\"}},\"legend\":{\"title\":{\"text\":\"Habitat\"},\"tracegroupgap\":0,\"itemsizing\":\"constant\"},\"title\":{\"text\":\"Temperature vs. Humidity vs. Observation Count Across Habitats\"}},                        {\"responsive\": true}                    ).then(function(){\n",
       "                            \n",
       "var gd = document.getElementById('545971c7-6ebf-4fff-b05f-0ce776d095fc');\n",
       "var x = new MutationObserver(function (mutations, observer) {{\n",
       "        var display = window.getComputedStyle(gd).display;\n",
       "        if (!display || display === 'none') {{\n",
       "            console.log([gd, 'removed!']);\n",
       "            Plotly.purge(gd);\n",
       "            observer.disconnect();\n",
       "        }}\n",
       "}});\n",
       "\n",
       "// Listen for the removal of the full notebook cells\n",
       "var notebookContainer = gd.closest('#notebook-container');\n",
       "if (notebookContainer) {{\n",
       "    x.observe(notebookContainer, {childList: true});\n",
       "}}\n",
       "\n",
       "// Listen for the clearing of the current output cell\n",
       "var outputEl = gd.closest('.output');\n",
       "if (outputEl) {{\n",
       "    x.observe(outputEl, {childList: true});\n",
       "}}\n",
       "\n",
       "                        })                };                });            </script>        </div>"
      ]
     },
     "metadata": {},
     "output_type": "display_data"
    },
    {
     "data": {
      "application/vnd.plotly.v1+json": {
       "config": {
        "plotlyServerURL": "https://plot.ly"
       },
       "data": [
        {
         "alignmentgroup": "True",
         "hovertemplate": "Habitat=Forest<br>Disturbance=%{x}<br>Observation_Count=%{y}<extra></extra>",
         "legendgroup": "Forest",
         "marker": {
          "color": "#000001",
          "pattern": {
           "shape": ""
          }
         },
         "name": "Forest",
         "offsetgroup": "Forest",
         "orientation": "v",
         "showlegend": true,
         "textposition": "auto",
         "type": "bar",
         "x": [
          "Moderate Effect On Count",
          "No Effect On Count",
          "Serious Effect On Count",
          "Slight Effect On Count"
         ],
         "xaxis": "x",
         "y": [
          771,
          4611,
          183,
          2562
         ],
         "yaxis": "y"
        },
        {
         "alignmentgroup": "True",
         "hovertemplate": "Habitat=Grassland<br>Disturbance=%{x}<br>Observation_Count=%{y}<extra></extra>",
         "legendgroup": "Grassland",
         "marker": {
          "color": "#000002",
          "pattern": {
           "shape": ""
          }
         },
         "name": "Grassland",
         "offsetgroup": "Grassland",
         "orientation": "v",
         "showlegend": true,
         "textposition": "auto",
         "type": "bar",
         "x": [
          "Moderate Effect On Count",
          "No Effect On Count",
          "Serious Effect On Count",
          "Slight Effect On Count"
         ],
         "xaxis": "x",
         "y": [
          717,
          2511,
          228,
          2989
         ],
         "yaxis": "y"
        }
       ],
       "layout": {
        "autosize": true,
        "barmode": "group",
        "legend": {
         "title": {
          "text": "Habitat"
         },
         "tracegroupgap": 0
        },
        "template": {
         "data": {
          "candlestick": [
           {
            "decreasing": {
             "line": {
              "color": "#000033"
             }
            },
            "increasing": {
             "line": {
              "color": "#000032"
             }
            },
            "type": "candlestick"
           }
          ],
          "contour": [
           {
            "colorscale": [
             [
              0,
              "#000011"
             ],
             [
              0.1111111111111111,
              "#000012"
             ],
             [
              0.2222222222222222,
              "#000013"
             ],
             [
              0.3333333333333333,
              "#000014"
             ],
             [
              0.4444444444444444,
              "#000015"
             ],
             [
              0.5555555555555556,
              "#000016"
             ],
             [
              0.6666666666666666,
              "#000017"
             ],
             [
              0.7777777777777778,
              "#000018"
             ],
             [
              0.8888888888888888,
              "#000019"
             ],
             [
              1,
              "#000020"
             ]
            ],
            "type": "contour"
           }
          ],
          "contourcarpet": [
           {
            "colorscale": [
             [
              0,
              "#000011"
             ],
             [
              0.1111111111111111,
              "#000012"
             ],
             [
              0.2222222222222222,
              "#000013"
             ],
             [
              0.3333333333333333,
              "#000014"
             ],
             [
              0.4444444444444444,
              "#000015"
             ],
             [
              0.5555555555555556,
              "#000016"
             ],
             [
              0.6666666666666666,
              "#000017"
             ],
             [
              0.7777777777777778,
              "#000018"
             ],
             [
              0.8888888888888888,
              "#000019"
             ],
             [
              1,
              "#000020"
             ]
            ],
            "type": "contourcarpet"
           }
          ],
          "heatmap": [
           {
            "colorscale": [
             [
              0,
              "#000011"
             ],
             [
              0.1111111111111111,
              "#000012"
             ],
             [
              0.2222222222222222,
              "#000013"
             ],
             [
              0.3333333333333333,
              "#000014"
             ],
             [
              0.4444444444444444,
              "#000015"
             ],
             [
              0.5555555555555556,
              "#000016"
             ],
             [
              0.6666666666666666,
              "#000017"
             ],
             [
              0.7777777777777778,
              "#000018"
             ],
             [
              0.8888888888888888,
              "#000019"
             ],
             [
              1,
              "#000020"
             ]
            ],
            "type": "heatmap"
           }
          ],
          "histogram2d": [
           {
            "colorscale": [
             [
              0,
              "#000011"
             ],
             [
              0.1111111111111111,
              "#000012"
             ],
             [
              0.2222222222222222,
              "#000013"
             ],
             [
              0.3333333333333333,
              "#000014"
             ],
             [
              0.4444444444444444,
              "#000015"
             ],
             [
              0.5555555555555556,
              "#000016"
             ],
             [
              0.6666666666666666,
              "#000017"
             ],
             [
              0.7777777777777778,
              "#000018"
             ],
             [
              0.8888888888888888,
              "#000019"
             ],
             [
              1,
              "#000020"
             ]
            ],
            "type": "histogram2d"
           }
          ],
          "icicle": [
           {
            "textfont": {
             "color": "white"
            },
            "type": "icicle"
           }
          ],
          "sankey": [
           {
            "textfont": {
             "color": "#000036"
            },
            "type": "sankey"
           }
          ],
          "scatter": [
           {
            "marker": {
             "line": {
              "width": 0
             }
            },
            "type": "scatter"
           }
          ],
          "table": [
           {
            "cells": {
             "fill": {
              "color": "#000038"
             },
             "font": {
              "color": "#000037"
             },
             "line": {
              "color": "#000039"
             }
            },
            "header": {
             "fill": {
              "color": "#000040"
             },
             "font": {
              "color": "#000036"
             },
             "line": {
              "color": "#000039"
             }
            },
            "type": "table"
           }
          ],
          "waterfall": [
           {
            "connector": {
             "line": {
              "color": "#000036",
              "width": 2
             }
            },
            "decreasing": {
             "marker": {
              "color": "#000033"
             }
            },
            "increasing": {
             "marker": {
              "color": "#000032"
             }
            },
            "totals": {
             "marker": {
              "color": "#000034"
             }
            },
            "type": "waterfall"
           }
          ]
         },
         "layout": {
          "coloraxis": {
           "colorscale": [
            [
             0,
             "#000011"
            ],
            [
             0.1111111111111111,
             "#000012"
            ],
            [
             0.2222222222222222,
             "#000013"
            ],
            [
             0.3333333333333333,
             "#000014"
            ],
            [
             0.4444444444444444,
             "#000015"
            ],
            [
             0.5555555555555556,
             "#000016"
            ],
            [
             0.6666666666666666,
             "#000017"
            ],
            [
             0.7777777777777778,
             "#000018"
            ],
            [
             0.8888888888888888,
             "#000019"
            ],
            [
             1,
             "#000020"
            ]
           ]
          },
          "colorscale": {
           "diverging": [
            [
             0,
             "#000021"
            ],
            [
             0.1,
             "#000022"
            ],
            [
             0.2,
             "#000023"
            ],
            [
             0.3,
             "#000024"
            ],
            [
             0.4,
             "#000025"
            ],
            [
             0.5,
             "#000026"
            ],
            [
             0.6,
             "#000027"
            ],
            [
             0.7,
             "#000028"
            ],
            [
             0.8,
             "#000029"
            ],
            [
             0.9,
             "#000030"
            ],
            [
             1,
             "#000031"
            ]
           ],
           "sequential": [
            [
             0,
             "#000011"
            ],
            [
             0.1111111111111111,
             "#000012"
            ],
            [
             0.2222222222222222,
             "#000013"
            ],
            [
             0.3333333333333333,
             "#000014"
            ],
            [
             0.4444444444444444,
             "#000015"
            ],
            [
             0.5555555555555556,
             "#000016"
            ],
            [
             0.6666666666666666,
             "#000017"
            ],
            [
             0.7777777777777778,
             "#000018"
            ],
            [
             0.8888888888888888,
             "#000019"
            ],
            [
             1,
             "#000020"
            ]
           ],
           "sequentialminus": [
            [
             0,
             "#000011"
            ],
            [
             0.1111111111111111,
             "#000012"
            ],
            [
             0.2222222222222222,
             "#000013"
            ],
            [
             0.3333333333333333,
             "#000014"
            ],
            [
             0.4444444444444444,
             "#000015"
            ],
            [
             0.5555555555555556,
             "#000016"
            ],
            [
             0.6666666666666666,
             "#000017"
            ],
            [
             0.7777777777777778,
             "#000018"
            ],
            [
             0.8888888888888888,
             "#000019"
            ],
            [
             1,
             "#000020"
            ]
           ]
          },
          "colorway": [
           "#000001",
           "#000002",
           "#000003",
           "#000004",
           "#000005",
           "#000006",
           "#000007",
           "#000008",
           "#000009",
           "#000010"
          ]
         }
        },
        "title": {
         "text": "Effect of Disturbance on Observations Across Habitats"
        },
        "xaxis": {
         "anchor": "y",
         "autorange": true,
         "domain": [
          0,
          1
         ],
         "range": [
          -0.5,
          3.5
         ],
         "title": {
          "text": "Disturbance"
         },
         "type": "category"
        },
        "yaxis": {
         "anchor": "x",
         "autorange": true,
         "domain": [
          0,
          1
         ],
         "range": [
          0,
          4853.684210526316
         ],
         "title": {
          "text": "Observation_Count"
         },
         "type": "linear"
        }
       }
      },
      "image/png": "[encoded data removed]",
      "text/html": [
       "<div>                            <div id=\"ebd6b1c3-0889-4a69-b46c-244e4db0b68e\" class=\"plotly-graph-div\" style=\"height:525px; width:100%;\"></div>            <script type=\"text/javascript\">                require([\"plotly\"], function(Plotly) {                    window.PLOTLYENV=window.PLOTLYENV || {};                                    if (document.getElementById(\"ebd6b1c3-0889-4a69-b46c-244e4db0b68e\")) {                    Plotly.newPlot(                        \"ebd6b1c3-0889-4a69-b46c-244e4db0b68e\",                        [{\"alignmentgroup\":\"True\",\"hovertemplate\":\"Habitat=Forest\\u003cbr\\u003eDisturbance=%{x}\\u003cbr\\u003eObservation_Count=%{y}\\u003cextra\\u003e\\u003c\\u002fextra\\u003e\",\"legendgroup\":\"Forest\",\"marker\":{\"color\":\"#000001\",\"pattern\":{\"shape\":\"\"}},\"name\":\"Forest\",\"offsetgroup\":\"Forest\",\"orientation\":\"v\",\"showlegend\":true,\"textposition\":\"auto\",\"x\":[\"Moderate Effect On Count\",\"No Effect On Count\",\"Serious Effect On Count\",\"Slight Effect On Count\"],\"xaxis\":\"x\",\"y\":[771,4611,183,2562],\"yaxis\":\"y\",\"type\":\"bar\"},{\"alignmentgroup\":\"True\",\"hovertemplate\":\"Habitat=Grassland\\u003cbr\\u003eDisturbance=%{x}\\u003cbr\\u003eObservation_Count=%{y}\\u003cextra\\u003e\\u003c\\u002fextra\\u003e\",\"legendgroup\":\"Grassland\",\"marker\":{\"color\":\"#000002\",\"pattern\":{\"shape\":\"\"}},\"name\":\"Grassland\",\"offsetgroup\":\"Grassland\",\"orientation\":\"v\",\"showlegend\":true,\"textposition\":\"auto\",\"x\":[\"Moderate Effect On Count\",\"No Effect On Count\",\"Serious Effect On Count\",\"Slight Effect On Count\"],\"xaxis\":\"x\",\"y\":[717,2511,228,2989],\"yaxis\":\"y\",\"type\":\"bar\"}],                        {\"template\":{\"data\":{\"candlestick\":[{\"decreasing\":{\"line\":{\"color\":\"#000033\"}},\"increasing\":{\"line\":{\"color\":\"#000032\"}},\"type\":\"candlestick\"}],\"contourcarpet\":[{\"colorscale\":[[0.0,\"#000011\"],[0.1111111111111111,\"#000012\"],[0.2222222222222222,\"#000013\"],[0.3333333333333333,\"#000014\"],[0.4444444444444444,\"#000015\"],[0.5555555555555556,\"#000016\"],[0.6666666666666666,\"#000017\"],[0.7777777777777778,\"#000018\"],[0.8888888888888888,\"#000019\"],[1.0,\"#000020\"]],\"type\":\"contourcarpet\"}],\"contour\":[{\"colorscale\":[[0.0,\"#000011\"],[0.1111111111111111,\"#000012\"],[0.2222222222222222,\"#000013\"],[0.3333333333333333,\"#000014\"],[0.4444444444444444,\"#000015\"],[0.5555555555555556,\"#000016\"],[0.6666666666666666,\"#000017\"],[0.7777777777777778,\"#000018\"],[0.8888888888888888,\"#000019\"],[1.0,\"#000020\"]],\"type\":\"contour\"}],\"heatmap\":[{\"colorscale\":[[0.0,\"#000011\"],[0.1111111111111111,\"#000012\"],[0.2222222222222222,\"#000013\"],[0.3333333333333333,\"#000014\"],[0.4444444444444444,\"#000015\"],[0.5555555555555556,\"#000016\"],[0.6666666666666666,\"#000017\"],[0.7777777777777778,\"#000018\"],[0.8888888888888888,\"#000019\"],[1.0,\"#000020\"]],\"type\":\"heatmap\"}],\"histogram2d\":[{\"colorscale\":[[0.0,\"#000011\"],[0.1111111111111111,\"#000012\"],[0.2222222222222222,\"#000013\"],[0.3333333333333333,\"#000014\"],[0.4444444444444444,\"#000015\"],[0.5555555555555556,\"#000016\"],[0.6666666666666666,\"#000017\"],[0.7777777777777778,\"#000018\"],[0.8888888888888888,\"#000019\"],[1.0,\"#000020\"]],\"type\":\"histogram2d\"}],\"icicle\":[{\"textfont\":{\"color\":\"white\"},\"type\":\"icicle\"}],\"sankey\":[{\"textfont\":{\"color\":\"#000036\"},\"type\":\"sankey\"}],\"scatter\":[{\"marker\":{\"line\":{\"width\":0}},\"type\":\"scatter\"}],\"table\":[{\"cells\":{\"fill\":{\"color\":\"#000038\"},\"font\":{\"color\":\"#000037\"},\"line\":{\"color\":\"#000039\"}},\"header\":{\"fill\":{\"color\":\"#000040\"},\"font\":{\"color\":\"#000036\"},\"line\":{\"color\":\"#000039\"}},\"type\":\"table\"}],\"waterfall\":[{\"connector\":{\"line\":{\"color\":\"#000036\",\"width\":2}},\"decreasing\":{\"marker\":{\"color\":\"#000033\"}},\"increasing\":{\"marker\":{\"color\":\"#000032\"}},\"totals\":{\"marker\":{\"color\":\"#000034\"}},\"type\":\"waterfall\"}]},\"layout\":{\"coloraxis\":{\"colorscale\":[[0.0,\"#000011\"],[0.1111111111111111,\"#000012\"],[0.2222222222222222,\"#000013\"],[0.3333333333333333,\"#000014\"],[0.4444444444444444,\"#000015\"],[0.5555555555555556,\"#000016\"],[0.6666666666666666,\"#000017\"],[0.7777777777777778,\"#000018\"],[0.8888888888888888,\"#000019\"],[1.0,\"#000020\"]]},\"colorscale\":{\"diverging\":[[0.0,\"#000021\"],[0.1,\"#000022\"],[0.2,\"#000023\"],[0.3,\"#000024\"],[0.4,\"#000025\"],[0.5,\"#000026\"],[0.6,\"#000027\"],[0.7,\"#000028\"],[0.8,\"#000029\"],[0.9,\"#000030\"],[1.0,\"#000031\"]],\"sequential\":[[0.0,\"#000011\"],[0.1111111111111111,\"#000012\"],[0.2222222222222222,\"#000013\"],[0.3333333333333333,\"#000014\"],[0.4444444444444444,\"#000015\"],[0.5555555555555556,\"#000016\"],[0.6666666666666666,\"#000017\"],[0.7777777777777778,\"#000018\"],[0.8888888888888888,\"#000019\"],[1.0,\"#000020\"]],\"sequentialminus\":[[0.0,\"#000011\"],[0.1111111111111111,\"#000012\"],[0.2222222222222222,\"#000013\"],[0.3333333333333333,\"#000014\"],[0.4444444444444444,\"#000015\"],[0.5555555555555556,\"#000016\"],[0.6666666666666666,\"#000017\"],[0.7777777777777778,\"#000018\"],[0.8888888888888888,\"#000019\"],[1.0,\"#000020\"]]},\"colorway\":[\"#000001\",\"#000002\",\"#000003\",\"#000004\",\"#000005\",\"#000006\",\"#000007\",\"#000008\",\"#000009\",\"#000010\"]}},\"xaxis\":{\"anchor\":\"y\",\"domain\":[0.0,1.0],\"title\":{\"text\":\"Disturbance\"}},\"yaxis\":{\"anchor\":\"x\",\"domain\":[0.0,1.0],\"title\":{\"text\":\"Observation_Count\"}},\"legend\":{\"title\":{\"text\":\"Habitat\"},\"tracegroupgap\":0},\"title\":{\"text\":\"Effect of Disturbance on Observations Across Habitats\"},\"barmode\":\"group\"},                        {\"responsive\": true}                    ).then(function(){\n",
       "                            \n",
       "var gd = document.getElementById('ebd6b1c3-0889-4a69-b46c-244e4db0b68e');\n",
       "var x = new MutationObserver(function (mutations, observer) {{\n",
       "        var display = window.getComputedStyle(gd).display;\n",
       "        if (!display || display === 'none') {{\n",
       "            console.log([gd, 'removed!']);\n",
       "            Plotly.purge(gd);\n",
       "            observer.disconnect();\n",
       "        }}\n",
       "}});\n",
       "\n",
       "// Listen for the removal of the full notebook cells\n",
       "var notebookContainer = gd.closest('#notebook-container');\n",
       "if (notebookContainer) {{\n",
       "    x.observe(notebookContainer, {childList: true});\n",
       "}}\n",
       "\n",
       "// Listen for the clearing of the current output cell\n",
       "var outputEl = gd.closest('.output');\n",
       "if (outputEl) {{\n",
       "    x.observe(outputEl, {childList: true});\n",
       "}}\n",
       "\n",
       "                        })                };                });            </script>        </div>"
      ]
     },
     "metadata": {},
     "output_type": "display_data"
    },
    {
     "data": {
      "application/vnd.plotly.v1+json": {
       "config": {
        "plotlyServerURL": "https://plot.ly"
       },
       "data": [
        {
         "alignmentgroup": "True",
         "hovertemplate": "Habitat=Forest<br>Flyover_Observed=%{x}<br>Observation_Count=%{y}<extra></extra>",
         "legendgroup": "Forest",
         "marker": {
          "color": "#000001",
          "pattern": {
           "shape": ""
          }
         },
         "name": "Forest",
         "offsetgroup": "Forest",
         "orientation": "v",
         "showlegend": true,
         "textposition": "auto",
         "type": "bar",
         "x": [
          false,
          true
         ],
         "xaxis": "x",
         "y": [
          8040,
          87
         ],
         "yaxis": "y"
        },
        {
         "alignmentgroup": "True",
         "hovertemplate": "Habitat=Grassland<br>Flyover_Observed=%{x}<br>Observation_Count=%{y}<extra></extra>",
         "legendgroup": "Grassland",
         "marker": {
          "color": "#000002",
          "pattern": {
           "shape": ""
          }
         },
         "name": "Grassland",
         "offsetgroup": "Grassland",
         "orientation": "v",
         "showlegend": true,
         "textposition": "auto",
         "type": "bar",
         "x": [
          false,
          true
         ],
         "xaxis": "x",
         "y": [
          5908,
          537
         ],
         "yaxis": "y"
        }
       ],
       "layout": {
        "autosize": true,
        "barmode": "group",
        "legend": {
         "title": {
          "text": "Habitat"
         },
         "tracegroupgap": 0
        },
        "template": {
         "data": {
          "candlestick": [
           {
            "decreasing": {
             "line": {
              "color": "#000033"
             }
            },
            "increasing": {
             "line": {
              "color": "#000032"
             }
            },
            "type": "candlestick"
           }
          ],
          "contour": [
           {
            "colorscale": [
             [
              0,
              "#000011"
             ],
             [
              0.1111111111111111,
              "#000012"
             ],
             [
              0.2222222222222222,
              "#000013"
             ],
             [
              0.3333333333333333,
              "#000014"
             ],
             [
              0.4444444444444444,
              "#000015"
             ],
             [
              0.5555555555555556,
              "#000016"
             ],
             [
              0.6666666666666666,
              "#000017"
             ],
             [
              0.7777777777777778,
              "#000018"
             ],
             [
              0.8888888888888888,
              "#000019"
             ],
             [
              1,
              "#000020"
             ]
            ],
            "type": "contour"
           }
          ],
          "contourcarpet": [
           {
            "colorscale": [
             [
              0,
              "#000011"
             ],
             [
              0.1111111111111111,
              "#000012"
             ],
             [
              0.2222222222222222,
              "#000013"
             ],
             [
              0.3333333333333333,
              "#000014"
             ],
             [
              0.4444444444444444,
              "#000015"
             ],
             [
              0.5555555555555556,
              "#000016"
             ],
             [
              0.6666666666666666,
              "#000017"
             ],
             [
              0.7777777777777778,
              "#000018"
             ],
             [
              0.8888888888888888,
              "#000019"
             ],
             [
              1,
              "#000020"
             ]
            ],
            "type": "contourcarpet"
           }
          ],
          "heatmap": [
           {
            "colorscale": [
             [
              0,
              "#000011"
             ],
             [
              0.1111111111111111,
              "#000012"
             ],
             [
              0.2222222222222222,
              "#000013"
             ],
             [
              0.3333333333333333,
              "#000014"
             ],
             [
              0.4444444444444444,
              "#000015"
             ],
             [
              0.5555555555555556,
              "#000016"
             ],
             [
              0.6666666666666666,
              "#000017"
             ],
             [
              0.7777777777777778,
              "#000018"
             ],
             [
              0.8888888888888888,
              "#000019"
             ],
             [
              1,
              "#000020"
             ]
            ],
            "type": "heatmap"
           }
          ],
          "histogram2d": [
           {
            "colorscale": [
             [
              0,
              "#000011"
             ],
             [
              0.1111111111111111,
              "#000012"
             ],
             [
              0.2222222222222222,
              "#000013"
             ],
             [
              0.3333333333333333,
              "#000014"
             ],
             [
              0.4444444444444444,
              "#000015"
             ],
             [
              0.5555555555555556,
              "#000016"
             ],
             [
              0.6666666666666666,
              "#000017"
             ],
             [
              0.7777777777777778,
              "#000018"
             ],
             [
              0.8888888888888888,
              "#000019"
             ],
             [
              1,
              "#000020"
             ]
            ],
            "type": "histogram2d"
           }
          ],
          "icicle": [
           {
            "textfont": {
             "color": "white"
            },
            "type": "icicle"
           }
          ],
          "sankey": [
           {
            "textfont": {
             "color": "#000036"
            },
            "type": "sankey"
           }
          ],
          "scatter": [
           {
            "marker": {
             "line": {
              "width": 0
             }
            },
            "type": "scatter"
           }
          ],
          "table": [
           {
            "cells": {
             "fill": {
              "color": "#000038"
             },
             "font": {
              "color": "#000037"
             },
             "line": {
              "color": "#000039"
             }
            },
            "header": {
             "fill": {
              "color": "#000040"
             },
             "font": {
              "color": "#000036"
             },
             "line": {
              "color": "#000039"
             }
            },
            "type": "table"
           }
          ],
          "waterfall": [
           {
            "connector": {
             "line": {
              "color": "#000036",
              "width": 2
             }
            },
            "decreasing": {
             "marker": {
              "color": "#000033"
             }
            },
            "increasing": {
             "marker": {
              "color": "#000032"
             }
            },
            "totals": {
             "marker": {
              "color": "#000034"
             }
            },
            "type": "waterfall"
           }
          ]
         },
         "layout": {
          "coloraxis": {
           "colorscale": [
            [
             0,
             "#000011"
            ],
            [
             0.1111111111111111,
             "#000012"
            ],
            [
             0.2222222222222222,
             "#000013"
            ],
            [
             0.3333333333333333,
             "#000014"
            ],
            [
             0.4444444444444444,
             "#000015"
            ],
            [
             0.5555555555555556,
             "#000016"
            ],
            [
             0.6666666666666666,
             "#000017"
            ],
            [
             0.7777777777777778,
             "#000018"
            ],
            [
             0.8888888888888888,
             "#000019"
            ],
            [
             1,
             "#000020"
            ]
           ]
          },
          "colorscale": {
           "diverging": [
            [
             0,
             "#000021"
            ],
            [
             0.1,
             "#000022"
            ],
            [
             0.2,
             "#000023"
            ],
            [
             0.3,
             "#000024"
            ],
            [
             0.4,
             "#000025"
            ],
            [
             0.5,
             "#000026"
            ],
            [
             0.6,
             "#000027"
            ],
            [
             0.7,
             "#000028"
            ],
            [
             0.8,
             "#000029"
            ],
            [
             0.9,
             "#000030"
            ],
            [
             1,
             "#000031"
            ]
           ],
           "sequential": [
            [
             0,
             "#000011"
            ],
            [
             0.1111111111111111,
             "#000012"
            ],
            [
             0.2222222222222222,
             "#000013"
            ],
            [
             0.3333333333333333,
             "#000014"
            ],
            [
             0.4444444444444444,
             "#000015"
            ],
            [
             0.5555555555555556,
             "#000016"
            ],
            [
             0.6666666666666666,
             "#000017"
            ],
            [
             0.7777777777777778,
             "#000018"
            ],
            [
             0.8888888888888888,
             "#000019"
            ],
            [
             1,
             "#000020"
            ]
           ],
           "sequentialminus": [
            [
             0,
             "#000011"
            ],
            [
             0.1111111111111111,
             "#000012"
            ],
            [
             0.2222222222222222,
             "#000013"
            ],
            [
             0.3333333333333333,
             "#000014"
            ],
            [
             0.4444444444444444,
             "#000015"
            ],
            [
             0.5555555555555556,
             "#000016"
            ],
            [
             0.6666666666666666,
             "#000017"
            ],
            [
             0.7777777777777778,
             "#000018"
            ],
            [
             0.8888888888888888,
             "#000019"
            ],
            [
             1,
             "#000020"
            ]
           ]
          },
          "colorway": [
           "#000001",
           "#000002",
           "#000003",
           "#000004",
           "#000005",
           "#000006",
           "#000007",
           "#000008",
           "#000009",
           "#000010"
          ]
         }
        },
        "title": {
         "text": "Flyover Observations Across Habitats"
        },
        "xaxis": {
         "anchor": "y",
         "autorange": true,
         "domain": [
          0,
          1
         ],
         "range": [
          -0.5,
          1.5
         ],
         "title": {
          "text": "Flyover_Observed"
         },
         "type": "category"
        },
        "yaxis": {
         "anchor": "x",
         "autorange": true,
         "domain": [
          0,
          1
         ],
         "range": [
          0,
          8463.157894736842
         ],
         "title": {
          "text": "Observation_Count"
         },
         "type": "linear"
        }
       }
      },
      "image/png": "[encoded data removed]",
      "text/html": [
       "<div>                            <div id=\"8f4c0694-fcbe-4870-a163-80e0fe44e784\" class=\"plotly-graph-div\" style=\"height:525px; width:100%;\"></div>            <script type=\"text/javascript\">                require([\"plotly\"], function(Plotly) {                    window.PLOTLYENV=window.PLOTLYENV || {};                                    if (document.getElementById(\"8f4c0694-fcbe-4870-a163-80e0fe44e784\")) {                    Plotly.newPlot(                        \"8f4c0694-fcbe-4870-a163-80e0fe44e784\",                        [{\"alignmentgroup\":\"True\",\"hovertemplate\":\"Habitat=Forest\\u003cbr\\u003eFlyover_Observed=%{x}\\u003cbr\\u003eObservation_Count=%{y}\\u003cextra\\u003e\\u003c\\u002fextra\\u003e\",\"legendgroup\":\"Forest\",\"marker\":{\"color\":\"#000001\",\"pattern\":{\"shape\":\"\"}},\"name\":\"Forest\",\"offsetgroup\":\"Forest\",\"orientation\":\"v\",\"showlegend\":true,\"textposition\":\"auto\",\"x\":[false,true],\"xaxis\":\"x\",\"y\":[8040,87],\"yaxis\":\"y\",\"type\":\"bar\"},{\"alignmentgroup\":\"True\",\"hovertemplate\":\"Habitat=Grassland\\u003cbr\\u003eFlyover_Observed=%{x}\\u003cbr\\u003eObservation_Count=%{y}\\u003cextra\\u003e\\u003c\\u002fextra\\u003e\",\"legendgroup\":\"Grassland\",\"marker\":{\"color\":\"#000002\",\"pattern\":{\"shape\":\"\"}},\"name\":\"Grassland\",\"offsetgroup\":\"Grassland\",\"orientation\":\"v\",\"showlegend\":true,\"textposition\":\"auto\",\"x\":[false,true],\"xaxis\":\"x\",\"y\":[5908,537],\"yaxis\":\"y\",\"type\":\"bar\"}],                        {\"template\":{\"data\":{\"candlestick\":[{\"decreasing\":{\"line\":{\"color\":\"#000033\"}},\"increasing\":{\"line\":{\"color\":\"#000032\"}},\"type\":\"candlestick\"}],\"contourcarpet\":[{\"colorscale\":[[0.0,\"#000011\"],[0.1111111111111111,\"#000012\"],[0.2222222222222222,\"#000013\"],[0.3333333333333333,\"#000014\"],[0.4444444444444444,\"#000015\"],[0.5555555555555556,\"#000016\"],[0.6666666666666666,\"#000017\"],[0.7777777777777778,\"#000018\"],[0.8888888888888888,\"#000019\"],[1.0,\"#000020\"]],\"type\":\"contourcarpet\"}],\"contour\":[{\"colorscale\":[[0.0,\"#000011\"],[0.1111111111111111,\"#000012\"],[0.2222222222222222,\"#000013\"],[0.3333333333333333,\"#000014\"],[0.4444444444444444,\"#000015\"],[0.5555555555555556,\"#000016\"],[0.6666666666666666,\"#000017\"],[0.7777777777777778,\"#000018\"],[0.8888888888888888,\"#000019\"],[1.0,\"#000020\"]],\"type\":\"contour\"}],\"heatmap\":[{\"colorscale\":[[0.0,\"#000011\"],[0.1111111111111111,\"#000012\"],[0.2222222222222222,\"#000013\"],[0.3333333333333333,\"#000014\"],[0.4444444444444444,\"#000015\"],[0.5555555555555556,\"#000016\"],[0.6666666666666666,\"#000017\"],[0.7777777777777778,\"#000018\"],[0.8888888888888888,\"#000019\"],[1.0,\"#000020\"]],\"type\":\"heatmap\"}],\"histogram2d\":[{\"colorscale\":[[0.0,\"#000011\"],[0.1111111111111111,\"#000012\"],[0.2222222222222222,\"#000013\"],[0.3333333333333333,\"#000014\"],[0.4444444444444444,\"#000015\"],[0.5555555555555556,\"#000016\"],[0.6666666666666666,\"#000017\"],[0.7777777777777778,\"#000018\"],[0.8888888888888888,\"#000019\"],[1.0,\"#000020\"]],\"type\":\"histogram2d\"}],\"icicle\":[{\"textfont\":{\"color\":\"white\"},\"type\":\"icicle\"}],\"sankey\":[{\"textfont\":{\"color\":\"#000036\"},\"type\":\"sankey\"}],\"scatter\":[{\"marker\":{\"line\":{\"width\":0}},\"type\":\"scatter\"}],\"table\":[{\"cells\":{\"fill\":{\"color\":\"#000038\"},\"font\":{\"color\":\"#000037\"},\"line\":{\"color\":\"#000039\"}},\"header\":{\"fill\":{\"color\":\"#000040\"},\"font\":{\"color\":\"#000036\"},\"line\":{\"color\":\"#000039\"}},\"type\":\"table\"}],\"waterfall\":[{\"connector\":{\"line\":{\"color\":\"#000036\",\"width\":2}},\"decreasing\":{\"marker\":{\"color\":\"#000033\"}},\"increasing\":{\"marker\":{\"color\":\"#000032\"}},\"totals\":{\"marker\":{\"color\":\"#000034\"}},\"type\":\"waterfall\"}]},\"layout\":{\"coloraxis\":{\"colorscale\":[[0.0,\"#000011\"],[0.1111111111111111,\"#000012\"],[0.2222222222222222,\"#000013\"],[0.3333333333333333,\"#000014\"],[0.4444444444444444,\"#000015\"],[0.5555555555555556,\"#000016\"],[0.6666666666666666,\"#000017\"],[0.7777777777777778,\"#000018\"],[0.8888888888888888,\"#000019\"],[1.0,\"#000020\"]]},\"colorscale\":{\"diverging\":[[0.0,\"#000021\"],[0.1,\"#000022\"],[0.2,\"#000023\"],[0.3,\"#000024\"],[0.4,\"#000025\"],[0.5,\"#000026\"],[0.6,\"#000027\"],[0.7,\"#000028\"],[0.8,\"#000029\"],[0.9,\"#000030\"],[1.0,\"#000031\"]],\"sequential\":[[0.0,\"#000011\"],[0.1111111111111111,\"#000012\"],[0.2222222222222222,\"#000013\"],[0.3333333333333333,\"#000014\"],[0.4444444444444444,\"#000015\"],[0.5555555555555556,\"#000016\"],[0.6666666666666666,\"#000017\"],[0.7777777777777778,\"#000018\"],[0.8888888888888888,\"#000019\"],[1.0,\"#000020\"]],\"sequentialminus\":[[0.0,\"#000011\"],[0.1111111111111111,\"#000012\"],[0.2222222222222222,\"#000013\"],[0.3333333333333333,\"#000014\"],[0.4444444444444444,\"#000015\"],[0.5555555555555556,\"#000016\"],[0.6666666666666666,\"#000017\"],[0.7777777777777778,\"#000018\"],[0.8888888888888888,\"#000019\"],[1.0,\"#000020\"]]},\"colorway\":[\"#000001\",\"#000002\",\"#000003\",\"#000004\",\"#000005\",\"#000006\",\"#000007\",\"#000008\",\"#000009\",\"#000010\"]}},\"xaxis\":{\"anchor\":\"y\",\"domain\":[0.0,1.0],\"title\":{\"text\":\"Flyover_Observed\"}},\"yaxis\":{\"anchor\":\"x\",\"domain\":[0.0,1.0],\"title\":{\"text\":\"Observation_Count\"}},\"legend\":{\"title\":{\"text\":\"Habitat\"},\"tracegroupgap\":0},\"title\":{\"text\":\"Flyover Observations Across Habitats\"},\"barmode\":\"group\"},                        {\"responsive\": true}                    ).then(function(){\n",
       "                            \n",
       "var gd = document.getElementById('8f4c0694-fcbe-4870-a163-80e0fe44e784');\n",
       "var x = new MutationObserver(function (mutations, observer) {{\n",
       "        var display = window.getComputedStyle(gd).display;\n",
       "        if (!display || display === 'none') {{\n",
       "            console.log([gd, 'removed!']);\n",
       "            Plotly.purge(gd);\n",
       "            observer.disconnect();\n",
       "        }}\n",
       "}});\n",
       "\n",
       "// Listen for the removal of the full notebook cells\n",
       "var notebookContainer = gd.closest('#notebook-container');\n",
       "if (notebookContainer) {{\n",
       "    x.observe(notebookContainer, {childList: true});\n",
       "}}\n",
       "\n",
       "// Listen for the clearing of the current output cell\n",
       "var outputEl = gd.closest('.output');\n",
       "if (outputEl) {{\n",
       "    x.observe(outputEl, {childList: true});\n",
       "}}\n",
       "\n",
       "                        })                };                });            </script>        </div>"
      ]
     },
     "metadata": {},
     "output_type": "display_data"
    },
    {
     "name": "stdout",
     "output_type": "stream",
     "text": [
      "Watchlist Species by Habitat:\n"
     ]
    },
    {
     "data": {
      "text/html": [
       "<div>\n",
       "<style scoped>\n",
       "    .dataframe tbody tr th:only-of-type {\n",
       "        vertical-align: middle;\n",
       "    }\n",
       "\n",
       "    .dataframe tbody tr th {\n",
       "        vertical-align: top;\n",
       "    }\n",
       "\n",
       "    .dataframe thead th {\n",
       "        text-align: right;\n",
       "    }\n",
       "</style>\n",
       "<table border=\"1\" class=\"dataframe\">\n",
       "  <thead>\n",
       "    <tr style=\"text-align: right;\">\n",
       "      <th></th>\n",
       "      <th>Common_Name</th>\n",
       "      <th>Habitat</th>\n",
       "      <th>Count</th>\n",
       "    </tr>\n",
       "  </thead>\n",
       "  <tbody>\n",
       "    <tr>\n",
       "      <th>0</th>\n",
       "      <td>Blue-Winged Warbler</td>\n",
       "      <td>Forest</td>\n",
       "      <td>1</td>\n",
       "    </tr>\n",
       "    <tr>\n",
       "      <th>1</th>\n",
       "      <td>Cerulean Warbler</td>\n",
       "      <td>Forest</td>\n",
       "      <td>7</td>\n",
       "    </tr>\n",
       "    <tr>\n",
       "      <th>2</th>\n",
       "      <td>Kentucky Warbler</td>\n",
       "      <td>Forest</td>\n",
       "      <td>1</td>\n",
       "    </tr>\n",
       "    <tr>\n",
       "      <th>3</th>\n",
       "      <td>Kentucky Warbler</td>\n",
       "      <td>Grassland</td>\n",
       "      <td>1</td>\n",
       "    </tr>\n",
       "    <tr>\n",
       "      <th>4</th>\n",
       "      <td>Prairie Warbler</td>\n",
       "      <td>Forest</td>\n",
       "      <td>7</td>\n",
       "    </tr>\n",
       "    <tr>\n",
       "      <th>5</th>\n",
       "      <td>Prairie Warbler</td>\n",
       "      <td>Grassland</td>\n",
       "      <td>18</td>\n",
       "    </tr>\n",
       "    <tr>\n",
       "      <th>6</th>\n",
       "      <td>Red-Headed Woodpecker</td>\n",
       "      <td>Forest</td>\n",
       "      <td>1</td>\n",
       "    </tr>\n",
       "    <tr>\n",
       "      <th>7</th>\n",
       "      <td>Willow Flycatcher</td>\n",
       "      <td>Grassland</td>\n",
       "      <td>2</td>\n",
       "    </tr>\n",
       "    <tr>\n",
       "      <th>8</th>\n",
       "      <td>Wood Thrush</td>\n",
       "      <td>Forest</td>\n",
       "      <td>275</td>\n",
       "    </tr>\n",
       "    <tr>\n",
       "      <th>9</th>\n",
       "      <td>Wood Thrush</td>\n",
       "      <td>Grassland</td>\n",
       "      <td>19</td>\n",
       "    </tr>\n",
       "    <tr>\n",
       "      <th>10</th>\n",
       "      <td>Worm-Eating Warbler</td>\n",
       "      <td>Forest</td>\n",
       "      <td>31</td>\n",
       "    </tr>\n",
       "  </tbody>\n",
       "</table>\n",
       "</div>"
      ],
      "text/plain": [
       "              Common_Name    Habitat  Count\n",
       "0     Blue-Winged Warbler     Forest      1\n",
       "1        Cerulean Warbler     Forest      7\n",
       "2        Kentucky Warbler     Forest      1\n",
       "3        Kentucky Warbler  Grassland      1\n",
       "4         Prairie Warbler     Forest      7\n",
       "5         Prairie Warbler  Grassland     18\n",
       "6   Red-Headed Woodpecker     Forest      1\n",
       "7       Willow Flycatcher  Grassland      2\n",
       "8             Wood Thrush     Forest    275\n",
       "9             Wood Thrush  Grassland     19\n",
       "10    Worm-Eating Warbler     Forest     31"
      ]
     },
     "metadata": {},
     "output_type": "display_data"
    },
    {
     "name": "stdout",
     "output_type": "stream",
     "text": [
      "Regional Stewardship Species by Habitat:\n"
     ]
    },
    {
     "data": {
      "text/html": [
       "<div>\n",
       "<style scoped>\n",
       "    .dataframe tbody tr th:only-of-type {\n",
       "        vertical-align: middle;\n",
       "    }\n",
       "\n",
       "    .dataframe tbody tr th {\n",
       "        vertical-align: top;\n",
       "    }\n",
       "\n",
       "    .dataframe thead th {\n",
       "        text-align: right;\n",
       "    }\n",
       "</style>\n",
       "<table border=\"1\" class=\"dataframe\">\n",
       "  <thead>\n",
       "    <tr style=\"text-align: right;\">\n",
       "      <th></th>\n",
       "      <th>Common_Name</th>\n",
       "      <th>Habitat</th>\n",
       "      <th>Count</th>\n",
       "    </tr>\n",
       "  </thead>\n",
       "  <tbody>\n",
       "    <tr>\n",
       "      <th>0</th>\n",
       "      <td>Acadian Flycatcher</td>\n",
       "      <td>Forest</td>\n",
       "      <td>402</td>\n",
       "    </tr>\n",
       "    <tr>\n",
       "      <th>1</th>\n",
       "      <td>Acadian Flycatcher</td>\n",
       "      <td>Grassland</td>\n",
       "      <td>26</td>\n",
       "    </tr>\n",
       "    <tr>\n",
       "      <th>2</th>\n",
       "      <td>Belted Kingfisher</td>\n",
       "      <td>Forest</td>\n",
       "      <td>3</td>\n",
       "    </tr>\n",
       "    <tr>\n",
       "      <th>3</th>\n",
       "      <td>Belted Kingfisher</td>\n",
       "      <td>Grassland</td>\n",
       "      <td>1</td>\n",
       "    </tr>\n",
       "    <tr>\n",
       "      <th>4</th>\n",
       "      <td>Blue Grosbeak</td>\n",
       "      <td>Grassland</td>\n",
       "      <td>14</td>\n",
       "    </tr>\n",
       "    <tr>\n",
       "      <th>5</th>\n",
       "      <td>Brown Thrasher</td>\n",
       "      <td>Forest</td>\n",
       "      <td>6</td>\n",
       "    </tr>\n",
       "    <tr>\n",
       "      <th>6</th>\n",
       "      <td>Brown Thrasher</td>\n",
       "      <td>Grassland</td>\n",
       "      <td>15</td>\n",
       "    </tr>\n",
       "    <tr>\n",
       "      <th>7</th>\n",
       "      <td>Carolina Chickadee</td>\n",
       "      <td>Forest</td>\n",
       "      <td>258</td>\n",
       "    </tr>\n",
       "    <tr>\n",
       "      <th>8</th>\n",
       "      <td>Carolina Chickadee</td>\n",
       "      <td>Grassland</td>\n",
       "      <td>88</td>\n",
       "    </tr>\n",
       "    <tr>\n",
       "      <th>9</th>\n",
       "      <td>Chimney Swift</td>\n",
       "      <td>Forest</td>\n",
       "      <td>12</td>\n",
       "    </tr>\n",
       "    <tr>\n",
       "      <th>10</th>\n",
       "      <td>Chimney Swift</td>\n",
       "      <td>Grassland</td>\n",
       "      <td>13</td>\n",
       "    </tr>\n",
       "    <tr>\n",
       "      <th>11</th>\n",
       "      <td>Downy Woodpecker</td>\n",
       "      <td>Forest</td>\n",
       "      <td>205</td>\n",
       "    </tr>\n",
       "    <tr>\n",
       "      <th>12</th>\n",
       "      <td>Downy Woodpecker</td>\n",
       "      <td>Grassland</td>\n",
       "      <td>52</td>\n",
       "    </tr>\n",
       "    <tr>\n",
       "      <th>13</th>\n",
       "      <td>Eastern Towhee</td>\n",
       "      <td>Forest</td>\n",
       "      <td>97</td>\n",
       "    </tr>\n",
       "    <tr>\n",
       "      <th>14</th>\n",
       "      <td>Eastern Towhee</td>\n",
       "      <td>Grassland</td>\n",
       "      <td>155</td>\n",
       "    </tr>\n",
       "    <tr>\n",
       "      <th>15</th>\n",
       "      <td>Eastern Wood-Pewee</td>\n",
       "      <td>Forest</td>\n",
       "      <td>465</td>\n",
       "    </tr>\n",
       "    <tr>\n",
       "      <th>16</th>\n",
       "      <td>Eastern Wood-Pewee</td>\n",
       "      <td>Grassland</td>\n",
       "      <td>87</td>\n",
       "    </tr>\n",
       "    <tr>\n",
       "      <th>17</th>\n",
       "      <td>Field Sparrow</td>\n",
       "      <td>Forest</td>\n",
       "      <td>33</td>\n",
       "    </tr>\n",
       "    <tr>\n",
       "      <th>18</th>\n",
       "      <td>Field Sparrow</td>\n",
       "      <td>Grassland</td>\n",
       "      <td>424</td>\n",
       "    </tr>\n",
       "    <tr>\n",
       "      <th>19</th>\n",
       "      <td>Hooded Warbler</td>\n",
       "      <td>Forest</td>\n",
       "      <td>63</td>\n",
       "    </tr>\n",
       "    <tr>\n",
       "      <th>20</th>\n",
       "      <td>Indigo Bunting</td>\n",
       "      <td>Forest</td>\n",
       "      <td>143</td>\n",
       "    </tr>\n",
       "    <tr>\n",
       "      <th>21</th>\n",
       "      <td>Indigo Bunting</td>\n",
       "      <td>Grassland</td>\n",
       "      <td>436</td>\n",
       "    </tr>\n",
       "    <tr>\n",
       "      <th>22</th>\n",
       "      <td>Kentucky Warbler</td>\n",
       "      <td>Forest</td>\n",
       "      <td>1</td>\n",
       "    </tr>\n",
       "    <tr>\n",
       "      <th>23</th>\n",
       "      <td>Kentucky Warbler</td>\n",
       "      <td>Grassland</td>\n",
       "      <td>1</td>\n",
       "    </tr>\n",
       "    <tr>\n",
       "      <th>24</th>\n",
       "      <td>Louisiana Waterthrush</td>\n",
       "      <td>Forest</td>\n",
       "      <td>43</td>\n",
       "    </tr>\n",
       "    <tr>\n",
       "      <th>25</th>\n",
       "      <td>Pine Warbler</td>\n",
       "      <td>Forest</td>\n",
       "      <td>42</td>\n",
       "    </tr>\n",
       "    <tr>\n",
       "      <th>26</th>\n",
       "      <td>Pine Warbler</td>\n",
       "      <td>Grassland</td>\n",
       "      <td>8</td>\n",
       "    </tr>\n",
       "    <tr>\n",
       "      <th>27</th>\n",
       "      <td>Prairie Warbler</td>\n",
       "      <td>Forest</td>\n",
       "      <td>7</td>\n",
       "    </tr>\n",
       "    <tr>\n",
       "      <th>28</th>\n",
       "      <td>Prairie Warbler</td>\n",
       "      <td>Grassland</td>\n",
       "      <td>18</td>\n",
       "    </tr>\n",
       "    <tr>\n",
       "      <th>29</th>\n",
       "      <td>Scarlet Tanager</td>\n",
       "      <td>Forest</td>\n",
       "      <td>193</td>\n",
       "    </tr>\n",
       "    <tr>\n",
       "      <th>30</th>\n",
       "      <td>Scarlet Tanager</td>\n",
       "      <td>Grassland</td>\n",
       "      <td>17</td>\n",
       "    </tr>\n",
       "    <tr>\n",
       "      <th>31</th>\n",
       "      <td>Wood Thrush</td>\n",
       "      <td>Forest</td>\n",
       "      <td>275</td>\n",
       "    </tr>\n",
       "    <tr>\n",
       "      <th>32</th>\n",
       "      <td>Wood Thrush</td>\n",
       "      <td>Grassland</td>\n",
       "      <td>19</td>\n",
       "    </tr>\n",
       "    <tr>\n",
       "      <th>33</th>\n",
       "      <td>Worm-Eating Warbler</td>\n",
       "      <td>Forest</td>\n",
       "      <td>31</td>\n",
       "    </tr>\n",
       "    <tr>\n",
       "      <th>34</th>\n",
       "      <td>Yellow-Throated Vireo</td>\n",
       "      <td>Forest</td>\n",
       "      <td>54</td>\n",
       "    </tr>\n",
       "    <tr>\n",
       "      <th>35</th>\n",
       "      <td>Yellow-Throated Vireo</td>\n",
       "      <td>Grassland</td>\n",
       "      <td>3</td>\n",
       "    </tr>\n",
       "    <tr>\n",
       "      <th>36</th>\n",
       "      <td>Yellow-Throated Warbler</td>\n",
       "      <td>Forest</td>\n",
       "      <td>3</td>\n",
       "    </tr>\n",
       "  </tbody>\n",
       "</table>\n",
       "</div>"
      ],
      "text/plain": [
       "                Common_Name    Habitat  Count\n",
       "0        Acadian Flycatcher     Forest    402\n",
       "1        Acadian Flycatcher  Grassland     26\n",
       "2         Belted Kingfisher     Forest      3\n",
       "3         Belted Kingfisher  Grassland      1\n",
       "4             Blue Grosbeak  Grassland     14\n",
       "5            Brown Thrasher     Forest      6\n",
       "6            Brown Thrasher  Grassland     15\n",
       "7        Carolina Chickadee     Forest    258\n",
       "8        Carolina Chickadee  Grassland     88\n",
       "9             Chimney Swift     Forest     12\n",
       "10            Chimney Swift  Grassland     13\n",
       "11         Downy Woodpecker     Forest    205\n",
       "12         Downy Woodpecker  Grassland     52\n",
       "13           Eastern Towhee     Forest     97\n",
       "14           Eastern Towhee  Grassland    155\n",
       "15       Eastern Wood-Pewee     Forest    465\n",
       "16       Eastern Wood-Pewee  Grassland     87\n",
       "17            Field Sparrow     Forest     33\n",
       "18            Field Sparrow  Grassland    424\n",
       "19           Hooded Warbler     Forest     63\n",
       "20           Indigo Bunting     Forest    143\n",
       "21           Indigo Bunting  Grassland    436\n",
       "22         Kentucky Warbler     Forest      1\n",
       "23         Kentucky Warbler  Grassland      1\n",
       "24    Louisiana Waterthrush     Forest     43\n",
       "25             Pine Warbler     Forest     42\n",
       "26             Pine Warbler  Grassland      8\n",
       "27          Prairie Warbler     Forest      7\n",
       "28          Prairie Warbler  Grassland     18\n",
       "29          Scarlet Tanager     Forest    193\n",
       "30          Scarlet Tanager  Grassland     17\n",
       "31              Wood Thrush     Forest    275\n",
       "32              Wood Thrush  Grassland     19\n",
       "33      Worm-Eating Warbler     Forest     31\n",
       "34    Yellow-Throated Vireo     Forest     54\n",
       "35    Yellow-Throated Vireo  Grassland      3\n",
       "36  Yellow-Throated Warbler     Forest      3"
      ]
     },
     "metadata": {},
     "output_type": "display_data"
    }
   ],
   "source": [
    "\n",
    "\n",
    "import pandas as pd\n",
    "import plotly.express as px\n",
    "import plotly.graph_objects as go\n",
    "from datetime import datetime, timedelta, time\n",
    "\n",
    "\n",
    "\n",
    "def load_and_concatenate_data(file_path, habitat):\n",
    "    xl = pd.ExcelFile(file_path)\n",
    "    dfs = [pd.read_excel(xl, sheet_name=sheet) for sheet in xl.sheet_names]\n",
    "    df = pd.concat(dfs, ignore_index=True)\n",
    "    df['Habitat'] = habitat\n",
    "    return df\n",
    "\n",
    "grassland_file = \"C:/Users/kumar/Downloads/Bird_Monitoring_Data_GRASSLAND.XLSX\"\n",
    "forest_file = \"C:/Users/kumar/Downloads/Bird_Monitoring_Data_FOREST.XLSX\"\n",
    "\n",
    "grassland_df = load_and_concatenate_data(grassland_file, 'Grassland')\n",
    "forest_df = load_and_concatenate_data(forest_file, 'Forest')\n",
    "\n",
    "# Combine datasets\n",
    "df = pd.concat([grassland_df, forest_df], ignore_index=True).copy()  # Explicit copy to avoid view issues\n",
    "df.head()\n",
    "\n",
    "\n",
    "def clean_data(df):\n",
    "    # Create a copy to ensure we're working on a new DataFrame\n",
    "    df = df.copy()\n",
    "    \n",
    "    # Handle missing values\n",
    "    df.loc[:, 'Sub_Unit_Code'] = df['Sub_Unit_Code'].fillna('NA')\n",
    "    df.loc[:, 'Distance'] = df['Distance'].fillna('Not Recorded')\n",
    "    df.loc[:, 'Sex'] = df['Sex'].fillna('Undetermined')\n",
    "    \n",
    "    # Remove duplicates\n",
    "    df = df.drop_duplicates(subset=['Plot_Name', 'Date', 'Start_Time', 'Common_Name', 'ID_Method', 'Distance', 'Sex'])\n",
    "    \n",
    "    # Convert Date from Excel serial to datetime\n",
    "    def excel_date_to_datetime(serial):\n",
    "        if pd.isna(serial) or not isinstance(serial, (int, float)):\n",
    "            return pd.NaT\n",
    "        return pd.to_datetime('1899-12-30') + pd.to_timedelta(serial, unit='D')\n",
    "    \n",
    "    df.loc[:, 'Date'] = df['Date'].apply(excel_date_to_datetime)\n",
    "    df.loc[:, 'Month'] = df['Date'].dt.month\n",
    "    df.loc[:, 'Season'] = df['Month'].map({\n",
    "        1: 'Winter', 2: 'Winter', 3: 'Spring', 4: 'Spring', 5: 'Spring',\n",
    "        6: 'Summer', 7: 'Summer', 8: 'Summer', 9: 'Fall', 10: 'Fall',\n",
    "        11: 'Fall', 12: 'Winter'\n",
    "    })\n",
    "    \n",
    "    # Convert Start_Time and End_Time to floats (fraction of day)\n",
    "    def time_to_float(time_val):\n",
    "        if pd.isna(time_val):\n",
    "            return None\n",
    "        if isinstance(time_val, (int, float)):\n",
    "            return float(time_val)\n",
    "        if isinstance(time_val, time):\n",
    "            total_seconds = time_val.hour * 3600 + time_val.minute * 60 + time_val.second\n",
    "            return total_seconds / (24 * 3600)  # Convert to fraction of day\n",
    "        try:\n",
    "            return float(time_val)\n",
    "        except (ValueError, TypeError):\n",
    "            return None\n",
    "    \n",
    "    # Use .loc to avoid SettingWithCopyWarning\n",
    "    df.loc[:, 'Start_Time'] = df['Start_Time'].apply(time_to_float)  # Line 89\n",
    "    df.loc[:, 'End_Time'] = df['End_Time'].apply(time_to_float)\n",
    "    \n",
    "    # Convert numerical columns\n",
    "    df.loc[:, 'Temperature'] = pd.to_numeric(df['Temperature'], errors='coerce')\n",
    "    df.loc[:, 'Humidity'] = pd.to_numeric(df['Humidity'], errors='coerce')\n",
    "    \n",
    "    # Convert boolean columns using .loc to avoid SettingWithCopyWarning\n",
    "    bool_cols = ['Flyover_Observed', 'PIF_Watchlist_Status', 'Regional_Stewardship_Status', \n",
    "                 'Initial_Three_Min_Cnt']\n",
    "    for col in bool_cols:\n",
    "        df.loc[:, col] = df[col].map({'true': True, 'false': False, True: True, False: False})  # Line 95\n",
    "    \n",
    "    # Standardize string columns\n",
    "    str_cols = ['Common_Name', 'Scientific_Name', 'ID_Method', 'Distance', 'Sky', 'Wind', 'Disturbance']\n",
    "    for col in str_cols:\n",
    "        if df[col].dtype == \"object\":\n",
    "            df.loc[:, col] = df[col].str.strip().str.title()\n",
    "    \n",
    "    # Drop unnecessary columns\n",
    "    df = df.drop(columns=['Sub_Unit_Code'], errors='ignore')\n",
    "    return df\n",
    "\n",
    "cleaned_df = clean_data(df)\n",
    "cleaned_df.to_csv('cleaned_bird_monitoring_combined.csv', index=False)\n",
    "cleaned_df.head()\n",
    "\n",
    "\n",
    "\n",
    "def perform_analysis(df):\n",
    "    analysis_results = {}\n",
    "    \n",
    "    # Temporal Analysis\n",
    "    monthly_counts = df.groupby(['Month', 'Habitat'])['Common_Name'].count().reset_index(name='Observation_Count')\n",
    "    seasonal_counts = df.groupby(['Season', 'Habitat'])['Common_Name'].count().reset_index(name='Observation_Count')\n",
    "    time_counts = df.groupby([df['Start_Time'].apply(lambda x: int(float(x) * 24) if pd.notna(x) else -1), 'Habitat'])['Common_Name'].count().reset_index(name='Observation_Count')\n",
    "    time_counts = time_counts.rename(columns={'Start_Time': 'Hour_of_Day'})\n",
    "    analysis_results['monthly_counts'] = monthly_counts\n",
    "    analysis_results['seasonal_counts'] = seasonal_counts\n",
    "    analysis_results['time_counts'] = time_counts\n",
    "    \n",
    "    # Spatial Analysis\n",
    "    plot_species = df.groupby(['Plot_Name', 'Habitat'])['Scientific_Name'].nunique().reset_index(name='Unique_Species')\n",
    "    admin_unit_counts = df.groupby(['Admin_Unit_Code', 'Habitat'])['Common_Name'].count().reset_index(name='Observation_Count')\n",
    "    analysis_results['plot_species'] = plot_species\n",
    "    analysis_results['admin_unit_counts'] = admin_unit_counts\n",
    "    \n",
    "    # Species Analysis\n",
    "    species_diversity = df.groupby('Habitat')['Scientific_Name'].nunique().reset_index(name='Unique_Species')\n",
    "    activity_counts = df.groupby(['ID_Method', 'Habitat'])['Common_Name'].count().reset_index(name='Count')\n",
    "    sex_ratio = df.groupby(['Common_Name', 'Sex', 'Habitat'])['Common_Name'].count().unstack(fill_value=0).reset_index()\n",
    "    analysis_results['species_diversity'] = species_diversity\n",
    "    analysis_results['activity_counts'] = activity_counts\n",
    "    analysis_results['sex_ratio'] = sex_ratio\n",
    "    \n",
    "    # Environmental Conditions\n",
    "    env_corr = df.groupby(['Temperature', 'Humidity', 'Habitat'])['Common_Name'].count().reset_index(name='Observation_Count')\n",
    "    disturbance_effect = df.groupby(['Disturbance', 'Habitat'])['Common_Name'].count().reset_index(name='Observation_Count')\n",
    "    analysis_results['env_corr'] = env_corr\n",
    "    analysis_results['disturbance_effect'] = disturbance_effect\n",
    "    \n",
    "    # Distance and Behavior\n",
    "    distance_counts = df.groupby(['Common_Name', 'Distance', 'Habitat'])['Common_Name'].count().unstack(fill_value=0).reset_index()\n",
    "    flyover_counts = df.groupby(['Flyover_Observed', 'Habitat'])['Common_Name'].count().reset_index(name='Observation_Count')\n",
    "    analysis_results['distance_counts'] = distance_counts\n",
    "    analysis_results['flyover_counts'] = flyover_counts\n",
    "    \n",
    "    # Observer Trends\n",
    "    observer_counts = df.groupby(['Observer', 'Habitat'])['Common_Name'].count().reset_index(name='Observation_Count')\n",
    "    observer_species = df.groupby(['Observer', 'Habitat'])['Scientific_Name'].nunique().reset_index(name='Unique_Species')\n",
    "    visit_counts = df.groupby(['Visit', 'Habitat'])['Scientific_Name'].nunique().reset_index(name='Unique_Species')\n",
    "    analysis_results['observer_counts'] = observer_counts\n",
    "    analysis_results['observer_species'] = observer_species\n",
    "    analysis_results['visit_counts'] = visit_counts\n",
    "    \n",
    "    # Conservation Insights\n",
    "    watchlist_species = df[df['PIF_Watchlist_Status'] == True].groupby(['Common_Name', 'Habitat'])['Common_Name'].count().reset_index(name='Count')\n",
    "    stewardship_species = df[df['Regional_Stewardship_Status'] == True].groupby(['Common_Name', 'Habitat'])['Common_Name'].count().reset_index(name='Count')\n",
    "    aou_counts = df.groupby(['AOU_Code', 'Habitat'])['Common_Name'].count().reset_index(name='Count')\n",
    "    analysis_results['watchlist_species'] = watchlist_species\n",
    "    analysis_results['stewardship_species'] = stewardship_species\n",
    "    analysis_results['aou_counts'] = aou_counts\n",
    "    \n",
    "    return analysis_results\n",
    "\n",
    "analysis_results = perform_analysis(cleaned_df)\n",
    "\n",
    "# Save analysis results\n",
    "for key, value in analysis_results.items():\n",
    "    if isinstance(value, pd.DataFrame):\n",
    "        value.to_csv(f'bird_analysis_{key}.csv', index=False)\n",
    "\n",
    "\n",
    "\n",
    "# Temporal Analysis: Observations by Month\n",
    "fig_monthly = px.bar(analysis_results['monthly_counts'], x='Month', y='Observation_Count', color='Habitat', \n",
    "                     barmode='group', title='Observations by Month Across Habitats', \n",
    "                     labels={'Month': 'Month of Year'})\n",
    "fig_monthly.show()\n",
    "\n",
    "# Temporal Analysis: Observations by Season\n",
    "fig_seasonal = px.bar(analysis_results['seasonal_counts'], x='Season', y='Observation_Count', color='Habitat', \n",
    "                      barmode='group', title='Observations by Season Across Habitats')\n",
    "fig_seasonal.show()\n",
    "\n",
    "# Temporal Analysis: Observations by Hour of Day\n",
    "fig_time = px.bar(analysis_results['time_counts'], x='Hour_of_Day', y='Observation_Count', color='Habitat', \n",
    "                  barmode='group', title='Observations by Hour of Day Across Habitats', \n",
    "                  labels={'Hour_of_Day': 'Hour of Day'})\n",
    "fig_time.show()\n",
    "\n",
    "# Spatial Analysis: Top 10 Plots by Unique Species\n",
    "top_plots = analysis_results['plot_species'].sort_values('Unique_Species', ascending=False).head(10)\n",
    "fig_plot_species = px.bar(top_plots, x='Plot_Name', y='Unique_Species', color='Habitat', \n",
    "                          title='Top 10 Plots by Unique Species Across Habitats')\n",
    "fig_plot_species.show()\n",
    "\n",
    "# Spatial Analysis: Observations by Admin Unit\n",
    "fig_admin_unit = px.bar(analysis_results['admin_unit_counts'], x='Admin_Unit_Code', y='Observation_Count', \n",
    "                        color='Habitat', barmode='group', title='Observations by Admin Unit Across Habitats')\n",
    "fig_admin_unit.show()\n",
    "\n",
    "# Species Analysis: Unique Species by Habitat\n",
    "print(\"Unique Species by Habitat:\")\n",
    "display(analysis_results['species_diversity'])\n",
    "\n",
    "# Species Analysis: Observation Activity Types\n",
    "fig_activity = px.bar(analysis_results['activity_counts'], x='ID_Method', y='Count', color='Habitat', \n",
    "                      barmode='group', title='Observation Activity Types Across Habitats')\n",
    "fig_activity.show()\n",
    "\n",
    "# Environmental Conditions: Temperature vs. Humidity\n",
    "fig_env = px.scatter(analysis_results['env_corr'], x='Temperature', y='Humidity', size='Observation_Count', \n",
    "                     color='Habitat', title='Temperature vs. Humidity vs. Observation Count Across Habitats')\n",
    "fig_env.show()\n",
    "\n",
    "# Environmental Conditions: Disturbance Effect\n",
    "fig_disturbance = px.bar(analysis_results['disturbance_effect'], x='Disturbance', y='Observation_Count', \n",
    "                         color='Habitat', barmode='group', title='Effect of Disturbance on Observations Across Habitats')\n",
    "fig_disturbance.show()\n",
    "\n",
    "# Distance and Behavior: Flyover Observations\n",
    "fig_flyover = px.bar(analysis_results['flyover_counts'], x='Flyover_Observed', y='Observation_Count', \n",
    "                     color='Habitat', barmode='group', title='Flyover Observations Across Habitats')\n",
    "fig_flyover.show()\n",
    "\n",
    "# Conservation Insights: Watchlist and Stewardship Species\n",
    "print(\"Watchlist Species by Habitat:\")\n",
    "display(analysis_results['watchlist_species'])\n",
    "print(\"Regional Stewardship Species by Habitat:\")\n",
    "display(analysis_results['stewardship_species'])\n",
    "\n"
   ]
  },
  {
   "cell_type": "code",
   "execution_count": null,
   "id": "769f423c-f624-4044-aa93-e01f005e54e6",
   "metadata": {},
   "outputs": [],
   "source": []
  }
 ],
 "metadata": {
  "kernelspec": {
   "display_name": "Python [conda env:base] *",
   "language": "python",
   "name": "conda-base-py"
  },
  "language_info": {
   "codemirror_mode": {
    "name": "ipython",
    "version": 3
   },
   "file_extension": ".py",
   "mimetype": "text/x-python",
   "name": "python",
   "nbconvert_exporter": "python",
   "pygments_lexer": "ipython3",
   "version": "3.12.7"
  },
  "panel-cell-order": [
   "fc55ba65-a39b-4af8-a49c-f8de1b17d602"
  ]
 },
 "nbformat": 4,
 "nbformat_minor": 5
}
